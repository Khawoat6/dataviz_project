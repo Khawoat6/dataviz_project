{
 "cells": [
  {
   "cell_type": "code",
   "execution_count": 2,
   "metadata": {
    "collapsed": true
   },
   "outputs": [],
   "source": [
    "import numpy as np, pandas as pd\n",
    "import warnings\n",
    "warnings.filterwarnings('ignore')\n",
    "from bokeh.plotting import figure, output_file, show\n",
    "from bokeh.models import (\n",
    "    ColumnDataSource,\n",
    "    HoverTool,\n",
    "    LinearColorMapper,\n",
    "    BasicTicker,\n",
    "    PrintfTickFormatter,\n",
    "    ColorBar,\n",
    "    FactorRange\n",
    ")\n",
    "import bokeh.palettes\n",
    "from bokeh.transform import factor_cmap\n",
    "from bokeh.io import output_notebook"
   ]
  },
  {
   "cell_type": "code",
   "execution_count": 3,
   "metadata": {},
   "outputs": [
    {
     "data": {
      "text/html": [
       "\n",
       "    <div class=\"bk-root\">\n",
       "        <a href=\"https://bokeh.pydata.org\" target=\"_blank\" class=\"bk-logo bk-logo-small bk-logo-notebook\"></a>\n",
       "        <span id=\"7c97d55c-2d78-4845-aca9-8f888337e9e6\">Loading BokehJS ...</span>\n",
       "    </div>"
      ]
     },
     "metadata": {},
     "output_type": "display_data"
    },
    {
     "data": {
      "application/javascript": [
       "\n",
       "(function(root) {\n",
       "  function now() {\n",
       "    return new Date();\n",
       "  }\n",
       "\n",
       "  var force = true;\n",
       "\n",
       "  if (typeof (root._bokeh_onload_callbacks) === \"undefined\" || force === true) {\n",
       "    root._bokeh_onload_callbacks = [];\n",
       "    root._bokeh_is_loading = undefined;\n",
       "  }\n",
       "\n",
       "  var JS_MIME_TYPE = 'application/javascript';\n",
       "  var HTML_MIME_TYPE = 'text/html';\n",
       "  var EXEC_MIME_TYPE = 'application/vnd.bokehjs_exec.v0+json';\n",
       "  var CLASS_NAME = 'output_bokeh rendered_html';\n",
       "\n",
       "  /**\n",
       "   * Render data to the DOM node\n",
       "   */\n",
       "  function render(props, node) {\n",
       "    var script = document.createElement(\"script\");\n",
       "    node.appendChild(script);\n",
       "  }\n",
       "\n",
       "  /**\n",
       "   * Handle when an output is cleared or removed\n",
       "   */\n",
       "  function handleClearOutput(event, handle) {\n",
       "    var cell = handle.cell;\n",
       "\n",
       "    var id = cell.output_area._bokeh_element_id;\n",
       "    var server_id = cell.output_area._bokeh_server_id;\n",
       "    // Clean up Bokeh references\n",
       "    if (id !== undefined) {\n",
       "      Bokeh.index[id].model.document.clear();\n",
       "      delete Bokeh.index[id];\n",
       "    }\n",
       "\n",
       "    if (server_id !== undefined) {\n",
       "      // Clean up Bokeh references\n",
       "      var cmd = \"from bokeh.io.state import curstate; print(curstate().uuid_to_server['\" + server_id + \"'].get_sessions()[0].document.roots[0]._id)\";\n",
       "      cell.notebook.kernel.execute(cmd, {\n",
       "        iopub: {\n",
       "          output: function(msg) {\n",
       "            var element_id = msg.content.text.trim();\n",
       "            Bokeh.index[element_id].model.document.clear();\n",
       "            delete Bokeh.index[element_id];\n",
       "          }\n",
       "        }\n",
       "      });\n",
       "      // Destroy server and session\n",
       "      var cmd = \"import bokeh.io.notebook as ion; ion.destroy_server('\" + server_id + \"')\";\n",
       "      cell.notebook.kernel.execute(cmd);\n",
       "    }\n",
       "  }\n",
       "\n",
       "  /**\n",
       "   * Handle when a new output is added\n",
       "   */\n",
       "  function handleAddOutput(event, handle) {\n",
       "    var output_area = handle.output_area;\n",
       "    var output = handle.output;\n",
       "\n",
       "    // limit handleAddOutput to display_data with EXEC_MIME_TYPE content only\n",
       "    if ((output.output_type != \"display_data\") || (!output.data.hasOwnProperty(EXEC_MIME_TYPE))) {\n",
       "      return\n",
       "    }\n",
       "\n",
       "    var toinsert = output_area.element.find(`.${CLASS_NAME.split(' ')[0]}`);\n",
       "\n",
       "    if (output.metadata[EXEC_MIME_TYPE][\"id\"] !== undefined) {\n",
       "      toinsert[0].firstChild.textContent = output.data[JS_MIME_TYPE];\n",
       "      // store reference to embed id on output_area\n",
       "      output_area._bokeh_element_id = output.metadata[EXEC_MIME_TYPE][\"id\"];\n",
       "    }\n",
       "    if (output.metadata[EXEC_MIME_TYPE][\"server_id\"] !== undefined) {\n",
       "      var bk_div = document.createElement(\"div\");\n",
       "      bk_div.innerHTML = output.data[HTML_MIME_TYPE];\n",
       "      var script_attrs = bk_div.children[0].attributes;\n",
       "      for (var i = 0; i < script_attrs.length; i++) {\n",
       "        toinsert[0].firstChild.setAttribute(script_attrs[i].name, script_attrs[i].value);\n",
       "      }\n",
       "      // store reference to server id on output_area\n",
       "      output_area._bokeh_server_id = output.metadata[EXEC_MIME_TYPE][\"server_id\"];\n",
       "    }\n",
       "  }\n",
       "\n",
       "  function register_renderer(events, OutputArea) {\n",
       "\n",
       "    function append_mime(data, metadata, element) {\n",
       "      // create a DOM node to render to\n",
       "      var toinsert = this.create_output_subarea(\n",
       "        metadata,\n",
       "        CLASS_NAME,\n",
       "        EXEC_MIME_TYPE\n",
       "      );\n",
       "      this.keyboard_manager.register_events(toinsert);\n",
       "      // Render to node\n",
       "      var props = {data: data, metadata: metadata[EXEC_MIME_TYPE]};\n",
       "      render(props, toinsert[0]);\n",
       "      element.append(toinsert);\n",
       "      return toinsert\n",
       "    }\n",
       "\n",
       "    /* Handle when an output is cleared or removed */\n",
       "    events.on('clear_output.CodeCell', handleClearOutput);\n",
       "    events.on('delete.Cell', handleClearOutput);\n",
       "\n",
       "    /* Handle when a new output is added */\n",
       "    events.on('output_added.OutputArea', handleAddOutput);\n",
       "\n",
       "    /**\n",
       "     * Register the mime type and append_mime function with output_area\n",
       "     */\n",
       "    OutputArea.prototype.register_mime_type(EXEC_MIME_TYPE, append_mime, {\n",
       "      /* Is output safe? */\n",
       "      safe: true,\n",
       "      /* Index of renderer in `output_area.display_order` */\n",
       "      index: 0\n",
       "    });\n",
       "  }\n",
       "\n",
       "  // register the mime type if in Jupyter Notebook environment and previously unregistered\n",
       "  if (root.Jupyter !== undefined) {\n",
       "    var events = require('base/js/events');\n",
       "    var OutputArea = require('notebook/js/outputarea').OutputArea;\n",
       "\n",
       "    if (OutputArea.prototype.mime_types().indexOf(EXEC_MIME_TYPE) == -1) {\n",
       "      register_renderer(events, OutputArea);\n",
       "    }\n",
       "  }\n",
       "\n",
       "  \n",
       "  if (typeof (root._bokeh_timeout) === \"undefined\" || force === true) {\n",
       "    root._bokeh_timeout = Date.now() + 5000;\n",
       "    root._bokeh_failed_load = false;\n",
       "  }\n",
       "\n",
       "  var NB_LOAD_WARNING = {'data': {'text/html':\n",
       "     \"<div style='background-color: #fdd'>\\n\"+\n",
       "     \"<p>\\n\"+\n",
       "     \"BokehJS does not appear to have successfully loaded. If loading BokehJS from CDN, this \\n\"+\n",
       "     \"may be due to a slow or bad network connection. Possible fixes:\\n\"+\n",
       "     \"</p>\\n\"+\n",
       "     \"<ul>\\n\"+\n",
       "     \"<li>re-rerun `output_notebook()` to attempt to load from CDN again, or</li>\\n\"+\n",
       "     \"<li>use INLINE resources instead, as so:</li>\\n\"+\n",
       "     \"</ul>\\n\"+\n",
       "     \"<code>\\n\"+\n",
       "     \"from bokeh.resources import INLINE\\n\"+\n",
       "     \"output_notebook(resources=INLINE)\\n\"+\n",
       "     \"</code>\\n\"+\n",
       "     \"</div>\"}};\n",
       "\n",
       "  function display_loaded() {\n",
       "    var el = document.getElementById(\"7c97d55c-2d78-4845-aca9-8f888337e9e6\");\n",
       "    if (el != null) {\n",
       "      el.textContent = \"BokehJS is loading...\";\n",
       "    }\n",
       "    if (root.Bokeh !== undefined) {\n",
       "      if (el != null) {\n",
       "        el.textContent = \"BokehJS \" + root.Bokeh.version + \" successfully loaded.\";\n",
       "      }\n",
       "    } else if (Date.now() < root._bokeh_timeout) {\n",
       "      setTimeout(display_loaded, 100)\n",
       "    }\n",
       "  }\n",
       "\n",
       "\n",
       "  function run_callbacks() {\n",
       "    try {\n",
       "      root._bokeh_onload_callbacks.forEach(function(callback) { callback() });\n",
       "    }\n",
       "    finally {\n",
       "      delete root._bokeh_onload_callbacks\n",
       "    }\n",
       "    console.info(\"Bokeh: all callbacks have finished\");\n",
       "  }\n",
       "\n",
       "  function load_libs(js_urls, callback) {\n",
       "    root._bokeh_onload_callbacks.push(callback);\n",
       "    if (root._bokeh_is_loading > 0) {\n",
       "      console.log(\"Bokeh: BokehJS is being loaded, scheduling callback at\", now());\n",
       "      return null;\n",
       "    }\n",
       "    if (js_urls == null || js_urls.length === 0) {\n",
       "      run_callbacks();\n",
       "      return null;\n",
       "    }\n",
       "    console.log(\"Bokeh: BokehJS not loaded, scheduling load and callback at\", now());\n",
       "    root._bokeh_is_loading = js_urls.length;\n",
       "    for (var i = 0; i < js_urls.length; i++) {\n",
       "      var url = js_urls[i];\n",
       "      var s = document.createElement('script');\n",
       "      s.src = url;\n",
       "      s.async = false;\n",
       "      s.onreadystatechange = s.onload = function() {\n",
       "        root._bokeh_is_loading--;\n",
       "        if (root._bokeh_is_loading === 0) {\n",
       "          console.log(\"Bokeh: all BokehJS libraries loaded\");\n",
       "          run_callbacks()\n",
       "        }\n",
       "      };\n",
       "      s.onerror = function() {\n",
       "        console.warn(\"failed to load library \" + url);\n",
       "      };\n",
       "      console.log(\"Bokeh: injecting script tag for BokehJS library: \", url);\n",
       "      document.getElementsByTagName(\"head\")[0].appendChild(s);\n",
       "    }\n",
       "  };var element = document.getElementById(\"7c97d55c-2d78-4845-aca9-8f888337e9e6\");\n",
       "  if (element == null) {\n",
       "    console.log(\"Bokeh: ERROR: autoload.js configured with elementid '7c97d55c-2d78-4845-aca9-8f888337e9e6' but no matching script tag was found. \")\n",
       "    return false;\n",
       "  }\n",
       "\n",
       "  var js_urls = [\"https://cdn.pydata.org/bokeh/release/bokeh-0.12.10.min.js\", \"https://cdn.pydata.org/bokeh/release/bokeh-widgets-0.12.10.min.js\", \"https://cdn.pydata.org/bokeh/release/bokeh-tables-0.12.10.min.js\", \"https://cdn.pydata.org/bokeh/release/bokeh-gl-0.12.10.min.js\"];\n",
       "\n",
       "  var inline_js = [\n",
       "    function(Bokeh) {\n",
       "      Bokeh.set_log_level(\"info\");\n",
       "    },\n",
       "    \n",
       "    function(Bokeh) {\n",
       "      \n",
       "    },\n",
       "    function(Bokeh) {\n",
       "      console.log(\"Bokeh: injecting CSS: https://cdn.pydata.org/bokeh/release/bokeh-0.12.10.min.css\");\n",
       "      Bokeh.embed.inject_css(\"https://cdn.pydata.org/bokeh/release/bokeh-0.12.10.min.css\");\n",
       "      console.log(\"Bokeh: injecting CSS: https://cdn.pydata.org/bokeh/release/bokeh-widgets-0.12.10.min.css\");\n",
       "      Bokeh.embed.inject_css(\"https://cdn.pydata.org/bokeh/release/bokeh-widgets-0.12.10.min.css\");\n",
       "      console.log(\"Bokeh: injecting CSS: https://cdn.pydata.org/bokeh/release/bokeh-tables-0.12.10.min.css\");\n",
       "      Bokeh.embed.inject_css(\"https://cdn.pydata.org/bokeh/release/bokeh-tables-0.12.10.min.css\");\n",
       "    }\n",
       "  ];\n",
       "\n",
       "  function run_inline_js() {\n",
       "    \n",
       "    if ((root.Bokeh !== undefined) || (force === true)) {\n",
       "      for (var i = 0; i < inline_js.length; i++) {\n",
       "        inline_js[i].call(root, root.Bokeh);\n",
       "      }if (force === true) {\n",
       "        display_loaded();\n",
       "      }} else if (Date.now() < root._bokeh_timeout) {\n",
       "      setTimeout(run_inline_js, 100);\n",
       "    } else if (!root._bokeh_failed_load) {\n",
       "      console.log(\"Bokeh: BokehJS failed to load within specified timeout.\");\n",
       "      root._bokeh_failed_load = true;\n",
       "    } else if (force !== true) {\n",
       "      var cell = $(document.getElementById(\"7c97d55c-2d78-4845-aca9-8f888337e9e6\")).parents('.cell').data().cell;\n",
       "      cell.output_area.append_execute_result(NB_LOAD_WARNING)\n",
       "    }\n",
       "\n",
       "  }\n",
       "\n",
       "  if (root._bokeh_is_loading === 0) {\n",
       "    console.log(\"Bokeh: BokehJS loaded, going straight to plotting\");\n",
       "    run_inline_js();\n",
       "  } else {\n",
       "    load_libs(js_urls, function() {\n",
       "      console.log(\"Bokeh: BokehJS plotting callback run at\", now());\n",
       "      run_inline_js();\n",
       "    });\n",
       "  }\n",
       "}(window));"
      ],
      "application/vnd.bokehjs_load.v0+json": "\n(function(root) {\n  function now() {\n    return new Date();\n  }\n\n  var force = true;\n\n  if (typeof (root._bokeh_onload_callbacks) === \"undefined\" || force === true) {\n    root._bokeh_onload_callbacks = [];\n    root._bokeh_is_loading = undefined;\n  }\n\n  \n\n  \n  if (typeof (root._bokeh_timeout) === \"undefined\" || force === true) {\n    root._bokeh_timeout = Date.now() + 5000;\n    root._bokeh_failed_load = false;\n  }\n\n  var NB_LOAD_WARNING = {'data': {'text/html':\n     \"<div style='background-color: #fdd'>\\n\"+\n     \"<p>\\n\"+\n     \"BokehJS does not appear to have successfully loaded. If loading BokehJS from CDN, this \\n\"+\n     \"may be due to a slow or bad network connection. Possible fixes:\\n\"+\n     \"</p>\\n\"+\n     \"<ul>\\n\"+\n     \"<li>re-rerun `output_notebook()` to attempt to load from CDN again, or</li>\\n\"+\n     \"<li>use INLINE resources instead, as so:</li>\\n\"+\n     \"</ul>\\n\"+\n     \"<code>\\n\"+\n     \"from bokeh.resources import INLINE\\n\"+\n     \"output_notebook(resources=INLINE)\\n\"+\n     \"</code>\\n\"+\n     \"</div>\"}};\n\n  function display_loaded() {\n    var el = document.getElementById(\"7c97d55c-2d78-4845-aca9-8f888337e9e6\");\n    if (el != null) {\n      el.textContent = \"BokehJS is loading...\";\n    }\n    if (root.Bokeh !== undefined) {\n      if (el != null) {\n        el.textContent = \"BokehJS \" + root.Bokeh.version + \" successfully loaded.\";\n      }\n    } else if (Date.now() < root._bokeh_timeout) {\n      setTimeout(display_loaded, 100)\n    }\n  }\n\n\n  function run_callbacks() {\n    try {\n      root._bokeh_onload_callbacks.forEach(function(callback) { callback() });\n    }\n    finally {\n      delete root._bokeh_onload_callbacks\n    }\n    console.info(\"Bokeh: all callbacks have finished\");\n  }\n\n  function load_libs(js_urls, callback) {\n    root._bokeh_onload_callbacks.push(callback);\n    if (root._bokeh_is_loading > 0) {\n      console.log(\"Bokeh: BokehJS is being loaded, scheduling callback at\", now());\n      return null;\n    }\n    if (js_urls == null || js_urls.length === 0) {\n      run_callbacks();\n      return null;\n    }\n    console.log(\"Bokeh: BokehJS not loaded, scheduling load and callback at\", now());\n    root._bokeh_is_loading = js_urls.length;\n    for (var i = 0; i < js_urls.length; i++) {\n      var url = js_urls[i];\n      var s = document.createElement('script');\n      s.src = url;\n      s.async = false;\n      s.onreadystatechange = s.onload = function() {\n        root._bokeh_is_loading--;\n        if (root._bokeh_is_loading === 0) {\n          console.log(\"Bokeh: all BokehJS libraries loaded\");\n          run_callbacks()\n        }\n      };\n      s.onerror = function() {\n        console.warn(\"failed to load library \" + url);\n      };\n      console.log(\"Bokeh: injecting script tag for BokehJS library: \", url);\n      document.getElementsByTagName(\"head\")[0].appendChild(s);\n    }\n  };var element = document.getElementById(\"7c97d55c-2d78-4845-aca9-8f888337e9e6\");\n  if (element == null) {\n    console.log(\"Bokeh: ERROR: autoload.js configured with elementid '7c97d55c-2d78-4845-aca9-8f888337e9e6' but no matching script tag was found. \")\n    return false;\n  }\n\n  var js_urls = [\"https://cdn.pydata.org/bokeh/release/bokeh-0.12.10.min.js\", \"https://cdn.pydata.org/bokeh/release/bokeh-widgets-0.12.10.min.js\", \"https://cdn.pydata.org/bokeh/release/bokeh-tables-0.12.10.min.js\", \"https://cdn.pydata.org/bokeh/release/bokeh-gl-0.12.10.min.js\"];\n\n  var inline_js = [\n    function(Bokeh) {\n      Bokeh.set_log_level(\"info\");\n    },\n    \n    function(Bokeh) {\n      \n    },\n    function(Bokeh) {\n      console.log(\"Bokeh: injecting CSS: https://cdn.pydata.org/bokeh/release/bokeh-0.12.10.min.css\");\n      Bokeh.embed.inject_css(\"https://cdn.pydata.org/bokeh/release/bokeh-0.12.10.min.css\");\n      console.log(\"Bokeh: injecting CSS: https://cdn.pydata.org/bokeh/release/bokeh-widgets-0.12.10.min.css\");\n      Bokeh.embed.inject_css(\"https://cdn.pydata.org/bokeh/release/bokeh-widgets-0.12.10.min.css\");\n      console.log(\"Bokeh: injecting CSS: https://cdn.pydata.org/bokeh/release/bokeh-tables-0.12.10.min.css\");\n      Bokeh.embed.inject_css(\"https://cdn.pydata.org/bokeh/release/bokeh-tables-0.12.10.min.css\");\n    }\n  ];\n\n  function run_inline_js() {\n    \n    if ((root.Bokeh !== undefined) || (force === true)) {\n      for (var i = 0; i < inline_js.length; i++) {\n        inline_js[i].call(root, root.Bokeh);\n      }if (force === true) {\n        display_loaded();\n      }} else if (Date.now() < root._bokeh_timeout) {\n      setTimeout(run_inline_js, 100);\n    } else if (!root._bokeh_failed_load) {\n      console.log(\"Bokeh: BokehJS failed to load within specified timeout.\");\n      root._bokeh_failed_load = true;\n    } else if (force !== true) {\n      var cell = $(document.getElementById(\"7c97d55c-2d78-4845-aca9-8f888337e9e6\")).parents('.cell').data().cell;\n      cell.output_area.append_execute_result(NB_LOAD_WARNING)\n    }\n\n  }\n\n  if (root._bokeh_is_loading === 0) {\n    console.log(\"Bokeh: BokehJS loaded, going straight to plotting\");\n    run_inline_js();\n  } else {\n    load_libs(js_urls, function() {\n      console.log(\"Bokeh: BokehJS plotting callback run at\", now());\n      run_inline_js();\n    });\n  }\n}(window));"
     },
     "metadata": {},
     "output_type": "display_data"
    }
   ],
   "source": [
    "output_notebook()"
   ]
  },
  {
   "cell_type": "code",
   "execution_count": 7,
   "metadata": {
    "collapsed": true
   },
   "outputs": [],
   "source": [
    "data = pd.read_csv(\"../data/cleaned_data.csv\")"
   ]
  },
  {
   "cell_type": "code",
   "execution_count": 9,
   "metadata": {
    "collapsed": true
   },
   "outputs": [],
   "source": [
    "data[\"profit\"] = data[\"revenue\"] - data[\"budget\"]"
   ]
  },
  {
   "cell_type": "code",
   "execution_count": 40,
   "metadata": {},
   "outputs": [
    {
     "data": {
      "text/html": [
       "<div>\n",
       "<style>\n",
       "    .dataframe thead tr:only-child th {\n",
       "        text-align: right;\n",
       "    }\n",
       "\n",
       "    .dataframe thead th {\n",
       "        text-align: left;\n",
       "    }\n",
       "\n",
       "    .dataframe tbody tr th {\n",
       "        vertical-align: top;\n",
       "    }\n",
       "</style>\n",
       "<table border=\"1\" class=\"dataframe\">\n",
       "  <thead>\n",
       "    <tr style=\"text-align: right;\">\n",
       "      <th></th>\n",
       "      <th>0</th>\n",
       "      <th>1</th>\n",
       "      <th>2</th>\n",
       "    </tr>\n",
       "  </thead>\n",
       "  <tbody>\n",
       "    <tr>\n",
       "      <th>budget</th>\n",
       "      <td>237000000</td>\n",
       "      <td>300000000</td>\n",
       "      <td>245000000</td>\n",
       "    </tr>\n",
       "    <tr>\n",
       "      <th>genres</th>\n",
       "      <td>['Action', 'Adventure', 'Fantasy', 'Science Fi...</td>\n",
       "      <td>['Adventure', 'Fantasy', 'Action']</td>\n",
       "      <td>['Action', 'Adventure', 'Crime']</td>\n",
       "    </tr>\n",
       "    <tr>\n",
       "      <th>keywords</th>\n",
       "      <td>['culture clash', 'future', 'space war', 'spac...</td>\n",
       "      <td>['ocean', 'drug abuse', 'exotic island', 'east...</td>\n",
       "      <td>['spy', 'based on novel', 'secret agent', 'seq...</td>\n",
       "    </tr>\n",
       "    <tr>\n",
       "      <th>original_language</th>\n",
       "      <td>en</td>\n",
       "      <td>en</td>\n",
       "      <td>en</td>\n",
       "    </tr>\n",
       "    <tr>\n",
       "      <th>overview</th>\n",
       "      <td>In the 22nd century, a paraplegic Marine is di...</td>\n",
       "      <td>Captain Barbossa, long believed to be dead, ha...</td>\n",
       "      <td>A cryptic message from Bond’s past sends him o...</td>\n",
       "    </tr>\n",
       "    <tr>\n",
       "      <th>popularity</th>\n",
       "      <td>150.438</td>\n",
       "      <td>139.083</td>\n",
       "      <td>107.377</td>\n",
       "    </tr>\n",
       "    <tr>\n",
       "      <th>production_companies</th>\n",
       "      <td>['Ingenious Film Partners', 'Twentieth Century...</td>\n",
       "      <td>['Walt Disney Pictures', 'Jerry Bruckheimer Fi...</td>\n",
       "      <td>['Columbia Pictures', 'Danjaq', 'B24']</td>\n",
       "    </tr>\n",
       "    <tr>\n",
       "      <th>production_countries</th>\n",
       "      <td>['United States of America', 'United Kingdom']</td>\n",
       "      <td>['United States of America']</td>\n",
       "      <td>['United Kingdom', 'United States of America']</td>\n",
       "    </tr>\n",
       "    <tr>\n",
       "      <th>release_date</th>\n",
       "      <td>2009-12-10</td>\n",
       "      <td>2007-05-19</td>\n",
       "      <td>2015-10-26</td>\n",
       "    </tr>\n",
       "    <tr>\n",
       "      <th>revenue</th>\n",
       "      <td>2787965087</td>\n",
       "      <td>961000000</td>\n",
       "      <td>880674609</td>\n",
       "    </tr>\n",
       "    <tr>\n",
       "      <th>runtime</th>\n",
       "      <td>162</td>\n",
       "      <td>169</td>\n",
       "      <td>148</td>\n",
       "    </tr>\n",
       "    <tr>\n",
       "      <th>spoken_languages</th>\n",
       "      <td>['English', 'Español']</td>\n",
       "      <td>['English']</td>\n",
       "      <td>['Français', 'English', 'Español', 'Italiano',...</td>\n",
       "    </tr>\n",
       "    <tr>\n",
       "      <th>vote_average</th>\n",
       "      <td>7.2</td>\n",
       "      <td>6.9</td>\n",
       "      <td>6.3</td>\n",
       "    </tr>\n",
       "    <tr>\n",
       "      <th>vote_count</th>\n",
       "      <td>11800</td>\n",
       "      <td>4500</td>\n",
       "      <td>4466</td>\n",
       "    </tr>\n",
       "    <tr>\n",
       "      <th>title</th>\n",
       "      <td>Avatar</td>\n",
       "      <td>Pirates of the Caribbean: At World's End</td>\n",
       "      <td>Spectre</td>\n",
       "    </tr>\n",
       "    <tr>\n",
       "      <th>cast</th>\n",
       "      <td>[{'order': 0, 'gender': 2, 'character': 'Jake ...</td>\n",
       "      <td>[{'order': 0, 'gender': 2, 'character': 'Capta...</td>\n",
       "      <td>[{'order': 0, 'gender': 2, 'character': 'James...</td>\n",
       "    </tr>\n",
       "    <tr>\n",
       "      <th>crew</th>\n",
       "      <td>[{'credit_id': '52fe48009251416c750aca23', 'de...</td>\n",
       "      <td>[{'credit_id': '52fe4232c3a36847f800b579', 'de...</td>\n",
       "      <td>[{'credit_id': '54805967c3a36829b5002c41', 'de...</td>\n",
       "    </tr>\n",
       "    <tr>\n",
       "      <th>year</th>\n",
       "      <td>2009</td>\n",
       "      <td>2007</td>\n",
       "      <td>2015</td>\n",
       "    </tr>\n",
       "    <tr>\n",
       "      <th>month</th>\n",
       "      <td>12</td>\n",
       "      <td>5</td>\n",
       "      <td>10</td>\n",
       "    </tr>\n",
       "    <tr>\n",
       "      <th>day</th>\n",
       "      <td>10</td>\n",
       "      <td>19</td>\n",
       "      <td>26</td>\n",
       "    </tr>\n",
       "    <tr>\n",
       "      <th>dow</th>\n",
       "      <td>3</td>\n",
       "      <td>5</td>\n",
       "      <td>0</td>\n",
       "    </tr>\n",
       "    <tr>\n",
       "      <th>profit</th>\n",
       "      <td>2550965087</td>\n",
       "      <td>661000000</td>\n",
       "      <td>635674609</td>\n",
       "    </tr>\n",
       "  </tbody>\n",
       "</table>\n",
       "</div>"
      ],
      "text/plain": [
       "                                                                      0  \\\n",
       "budget                                                        237000000   \n",
       "genres                ['Action', 'Adventure', 'Fantasy', 'Science Fi...   \n",
       "keywords              ['culture clash', 'future', 'space war', 'spac...   \n",
       "original_language                                                    en   \n",
       "overview              In the 22nd century, a paraplegic Marine is di...   \n",
       "popularity                                                      150.438   \n",
       "production_companies  ['Ingenious Film Partners', 'Twentieth Century...   \n",
       "production_countries     ['United States of America', 'United Kingdom']   \n",
       "release_date                                                 2009-12-10   \n",
       "revenue                                                      2787965087   \n",
       "runtime                                                             162   \n",
       "spoken_languages                                 ['English', 'Español']   \n",
       "vote_average                                                        7.2   \n",
       "vote_count                                                        11800   \n",
       "title                                                            Avatar   \n",
       "cast                  [{'order': 0, 'gender': 2, 'character': 'Jake ...   \n",
       "crew                  [{'credit_id': '52fe48009251416c750aca23', 'de...   \n",
       "year                                                               2009   \n",
       "month                                                                12   \n",
       "day                                                                  10   \n",
       "dow                                                                   3   \n",
       "profit                                                       2550965087   \n",
       "\n",
       "                                                                      1  \\\n",
       "budget                                                        300000000   \n",
       "genres                               ['Adventure', 'Fantasy', 'Action']   \n",
       "keywords              ['ocean', 'drug abuse', 'exotic island', 'east...   \n",
       "original_language                                                    en   \n",
       "overview              Captain Barbossa, long believed to be dead, ha...   \n",
       "popularity                                                      139.083   \n",
       "production_companies  ['Walt Disney Pictures', 'Jerry Bruckheimer Fi...   \n",
       "production_countries                       ['United States of America']   \n",
       "release_date                                                 2007-05-19   \n",
       "revenue                                                       961000000   \n",
       "runtime                                                             169   \n",
       "spoken_languages                                            ['English']   \n",
       "vote_average                                                        6.9   \n",
       "vote_count                                                         4500   \n",
       "title                          Pirates of the Caribbean: At World's End   \n",
       "cast                  [{'order': 0, 'gender': 2, 'character': 'Capta...   \n",
       "crew                  [{'credit_id': '52fe4232c3a36847f800b579', 'de...   \n",
       "year                                                               2007   \n",
       "month                                                                 5   \n",
       "day                                                                  19   \n",
       "dow                                                                   5   \n",
       "profit                                                        661000000   \n",
       "\n",
       "                                                                      2  \n",
       "budget                                                        245000000  \n",
       "genres                                 ['Action', 'Adventure', 'Crime']  \n",
       "keywords              ['spy', 'based on novel', 'secret agent', 'seq...  \n",
       "original_language                                                    en  \n",
       "overview              A cryptic message from Bond’s past sends him o...  \n",
       "popularity                                                      107.377  \n",
       "production_companies             ['Columbia Pictures', 'Danjaq', 'B24']  \n",
       "production_countries     ['United Kingdom', 'United States of America']  \n",
       "release_date                                                 2015-10-26  \n",
       "revenue                                                       880674609  \n",
       "runtime                                                             148  \n",
       "spoken_languages      ['Français', 'English', 'Español', 'Italiano',...  \n",
       "vote_average                                                        6.3  \n",
       "vote_count                                                         4466  \n",
       "title                                                           Spectre  \n",
       "cast                  [{'order': 0, 'gender': 2, 'character': 'James...  \n",
       "crew                  [{'credit_id': '54805967c3a36829b5002c41', 'de...  \n",
       "year                                                               2015  \n",
       "month                                                                10  \n",
       "day                                                                  26  \n",
       "dow                                                                   0  \n",
       "profit                                                        635674609  "
      ]
     },
     "execution_count": 40,
     "metadata": {},
     "output_type": "execute_result"
    }
   ],
   "source": [
    "data.head(3).transpose()"
   ]
  },
  {
   "cell_type": "markdown",
   "metadata": {},
   "source": [
    "### Temporal Pattern in Profit"
   ]
  },
  {
   "cell_type": "code",
   "execution_count": 56,
   "metadata": {},
   "outputs": [],
   "source": [
    "profit_by_month_year = data[data[\"year\"]>1990].groupby([\"year\",\"month\"]).profit.mean().reset_index()\n",
    "count_by_month_year = data[data[\"year\"]>1990].groupby([\"year\",\"month\"]).size().reset_index()"
   ]
  },
  {
   "cell_type": "code",
   "execution_count": 57,
   "metadata": {},
   "outputs": [
    {
     "data": {
      "text/html": [
       "<div>\n",
       "<style>\n",
       "    .dataframe thead tr:only-child th {\n",
       "        text-align: right;\n",
       "    }\n",
       "\n",
       "    .dataframe thead th {\n",
       "        text-align: left;\n",
       "    }\n",
       "\n",
       "    .dataframe tbody tr th {\n",
       "        vertical-align: top;\n",
       "    }\n",
       "</style>\n",
       "<table border=\"1\" class=\"dataframe\">\n",
       "  <thead>\n",
       "    <tr style=\"text-align: right;\">\n",
       "      <th></th>\n",
       "      <th>year</th>\n",
       "      <th>month</th>\n",
       "      <th>profit</th>\n",
       "    </tr>\n",
       "  </thead>\n",
       "  <tbody>\n",
       "    <tr>\n",
       "      <th>0</th>\n",
       "      <td>1991</td>\n",
       "      <td>1</td>\n",
       "      <td>-7103420.0</td>\n",
       "    </tr>\n",
       "    <tr>\n",
       "      <th>1</th>\n",
       "      <td>1991</td>\n",
       "      <td>2</td>\n",
       "      <td>253742922.0</td>\n",
       "    </tr>\n",
       "    <tr>\n",
       "      <th>2</th>\n",
       "      <td>1991</td>\n",
       "      <td>3</td>\n",
       "      <td>24708446.5</td>\n",
       "    </tr>\n",
       "  </tbody>\n",
       "</table>\n",
       "</div>"
      ],
      "text/plain": [
       "   year  month       profit\n",
       "0  1991      1   -7103420.0\n",
       "1  1991      2  253742922.0\n",
       "2  1991      3   24708446.5"
      ]
     },
     "execution_count": 57,
     "metadata": {},
     "output_type": "execute_result"
    }
   ],
   "source": [
    "profit_by_month_year[:3]"
   ]
  },
  {
   "cell_type": "code",
   "execution_count": 58,
   "metadata": {
    "scrolled": false
   },
   "outputs": [
    {
     "name": "stderr",
     "output_type": "stream",
     "text": [
      "W-1005 (SNAPPED_TOOLBAR_ANNOTATIONS): Snapped toolbars and annotations on the same side MAY overlap visually: Figure(id='9881e639-5b15-412a-8468-84bc0a0d3dee', ...)\n"
     ]
    },
    {
     "data": {
      "text/html": [
       "\n",
       "<div class=\"bk-root\">\n",
       "    <div class=\"bk-plotdiv\" id=\"26622529-99da-419b-9beb-5fa1f2abfbc5\"></div>\n",
       "</div>"
      ]
     },
     "metadata": {},
     "output_type": "display_data"
    },
    {
     "data": {
      "application/javascript": [
       "(function(root) {\n",
       "  function embed_document(root) {\n",
       "    var docs_json = {\"478641ba-3a48-469e-918b-d1b65344858a\":{\"roots\":{\"references\":[{\"attributes\":{\"bottom_units\":\"screen\",\"fill_alpha\":{\"value\":0.5},\"fill_color\":{\"value\":\"lightgrey\"},\"left_units\":\"screen\",\"level\":\"overlay\",\"line_alpha\":{\"value\":1.0},\"line_color\":{\"value\":\"black\"},\"line_dash\":[4,4],\"line_width\":{\"value\":2},\"plot\":null,\"render_mode\":\"css\",\"right_units\":\"screen\",\"top_units\":\"screen\"},\"id\":\"27283193-11a0-4061-a196-c1de1d66125a\",\"type\":\"BoxAnnotation\"},{\"attributes\":{},\"id\":\"88b0645d-ddc7-4b94-a83c-c481794d4ec7\",\"type\":\"LinearScale\"},{\"attributes\":{\"active_drag\":\"auto\",\"active_inspect\":\"auto\",\"active_scroll\":\"auto\",\"active_tap\":\"auto\",\"tools\":[{\"id\":\"54550763-8f48-406b-9533-a76a6bbc7325\",\"type\":\"HoverTool\"},{\"id\":\"7035d820-f014-420c-8338-792f09ee85f5\",\"type\":\"SaveTool\"},{\"id\":\"d062fa60-f35f-4262-8fac-6e7c67f9d93f\",\"type\":\"PanTool\"},{\"id\":\"a139d227-ba86-4161-85db-e80e5166cf2f\",\"type\":\"BoxZoomTool\"},{\"id\":\"1a76d0dc-3082-407e-949a-91b19c56da56\",\"type\":\"ResetTool\"},{\"id\":\"5e644a75-8be1-4d07-b834-5db3aad44d93\",\"type\":\"WheelZoomTool\"}]},\"id\":\"a90a70c8-b159-436a-82f7-f4a9f5a04d68\",\"type\":\"Toolbar\"},{\"attributes\":{},\"id\":\"8475b167-2f19-44f2-9d5e-f77b82b8d017\",\"type\":\"BasicTickFormatter\"},{\"attributes\":{\"plot\":null,\"text\":\"Profit\"},\"id\":\"b3a47db9-a669-4430-8e04-dfa0e3e80ad5\",\"type\":\"Title\"},{\"attributes\":{\"axis_label\":\"Year\",\"formatter\":{\"id\":\"1e816d6e-58bf-4eb4-bb6c-18a71528b3aa\",\"type\":\"BasicTickFormatter\"},\"plot\":{\"id\":\"9881e639-5b15-412a-8468-84bc0a0d3dee\",\"subtype\":\"Figure\",\"type\":\"Plot\"},\"ticker\":{\"id\":\"70ce8270-2fd1-4880-b4ff-c3ba389601a4\",\"type\":\"BasicTicker\"}},\"id\":\"85b980bc-9ca3-48b5-a7c4-32a18a49fe53\",\"type\":\"LinearAxis\"},{\"attributes\":{\"fill_alpha\":{\"value\":0.1},\"fill_color\":{\"value\":\"#1f77b4\"},\"height\":{\"units\":\"data\",\"value\":1},\"line_alpha\":{\"value\":0.1},\"line_color\":{\"value\":\"#1f77b4\"},\"width\":{\"units\":\"data\",\"value\":1},\"x\":{\"field\":\"year\"},\"y\":{\"field\":\"month\"}},\"id\":\"997321c9-e57e-473c-a0a0-8cd035791d24\",\"type\":\"Rect\"},{\"attributes\":{\"desired_num_ticks\":9},\"id\":\"50642539-d113-4299-b239-a91981b4603a\",\"type\":\"BasicTicker\"},{\"attributes\":{},\"id\":\"1e816d6e-58bf-4eb4-bb6c-18a71528b3aa\",\"type\":\"BasicTickFormatter\"},{\"attributes\":{\"callback\":null},\"id\":\"384dc580-2c9a-41f2-97ef-fb042c0f1c41\",\"type\":\"DataRange1d\"},{\"attributes\":{},\"id\":\"1a76d0dc-3082-407e-949a-91b19c56da56\",\"type\":\"ResetTool\"},{\"attributes\":{},\"id\":\"5e644a75-8be1-4d07-b834-5db3aad44d93\",\"type\":\"WheelZoomTool\"},{\"attributes\":{\"plot\":{\"id\":\"9881e639-5b15-412a-8468-84bc0a0d3dee\",\"subtype\":\"Figure\",\"type\":\"Plot\"},\"ticker\":{\"id\":\"70ce8270-2fd1-4880-b4ff-c3ba389601a4\",\"type\":\"BasicTicker\"}},\"id\":\"6b4b7222-3520-4913-aed4-86bef41035c7\",\"type\":\"Grid\"},{\"attributes\":{},\"id\":\"0e1d1ffc-dbbb-492c-9ded-d71c012ddf27\",\"type\":\"LinearScale\"},{\"attributes\":{\"fill_color\":{\"field\":\"profit\",\"transform\":{\"id\":\"3b6a9567-6c3b-4413-bbd6-19aa722382f6\",\"type\":\"LinearColorMapper\"}},\"height\":{\"units\":\"data\",\"value\":1},\"line_color\":{\"value\":\"#1f77b4\"},\"width\":{\"units\":\"data\",\"value\":1},\"x\":{\"field\":\"year\"},\"y\":{\"field\":\"month\"}},\"id\":\"b632a21b-1a8b-438d-8060-3400fcd229c1\",\"type\":\"Rect\"},{\"attributes\":{\"callback\":null},\"id\":\"54550763-8f48-406b-9533-a76a6bbc7325\",\"type\":\"HoverTool\"},{\"attributes\":{},\"id\":\"70ce8270-2fd1-4880-b4ff-c3ba389601a4\",\"type\":\"BasicTicker\"},{\"attributes\":{\"callback\":null,\"column_names\":[\"year\",\"month\",\"profit\",\"index\"],\"data\":{\"index\":[0,1,2,3,4,5,6,7,8,9,10,11,12,13,14,15,16,17,18,19,20,21,22,23,24,25,26,27,28,29,30,31,32,33,34,35,36,37,38,39,40,41,42,43,44,45,46,47,48,49,50,51,52,53,54,55,56,57,58,59,60,61,62,63,64,65,66,67,68,69,70,71,72,73,74,75,76,77,78,79,80,81,82,83,84,85,86,87,88,89,90,91,92,93,94,95,96,97,98,99,100,101,102,103,104,105,106,107,108,109,110,111,112,113,114,115,116,117,118,119,120,121,122,123,124,125,126,127,128,129,130,131,132,133,134,135,136,137,138,139,140,141,142,143,144,145,146,147,148,149,150,151,152,153,154,155,156,157,158,159,160,161,162,163,164,165,166,167,168,169,170,171,172,173,174,175,176,177,178,179,180,181,182,183,184,185,186,187,188,189,190,191,192,193,194,195,196,197,198,199,200,201,202,203,204,205,206,207,208,209,210,211,212,213,214,215,216,217,218,219,220,221,222,223,224,225,226,227,228,229,230,231,232,233,234,235,236,237,238,239,240,241,242,243,244,245,246,247,248,249,250,251,252,253,254,255,256,257,258,259,260,261,262,263,264,265,266,267,268,269,270,271,272,273,274,275,276,277,278,279,280,281,282,283,284,285,286,287,288,289,290,291,292,293,294,295,296,297,298,299,300,301,302,303,304,305],\"month\":[1,2,3,5,6,7,8,9,10,11,12,2,3,5,6,7,8,9,10,11,12,1,2,3,4,5,6,7,8,9,10,11,12,2,3,4,5,6,7,8,9,10,11,12,1,2,3,4,5,6,7,8,9,10,11,12,1,2,3,4,5,6,7,8,9,10,11,12,1,2,3,4,5,6,7,8,9,10,11,12,1,2,3,4,5,6,7,8,9,10,11,12,1,2,3,4,5,6,7,8,9,10,11,12,1,2,3,4,5,6,7,8,9,10,11,12,1,2,3,4,5,6,7,8,9,10,11,12,1,2,3,4,5,6,7,8,9,10,11,12,1,2,3,4,5,6,7,8,9,10,11,12,1,2,3,4,5,6,7,8,9,10,11,12,1,2,3,4,5,6,7,8,9,10,11,12,1,2,3,4,5,6,7,8,9,10,11,12,1,2,3,4,5,6,7,8,9,10,11,12,1,2,3,4,5,6,7,8,9,10,11,12,1,2,3,4,5,6,7,8,9,10,11,12,1,2,3,4,5,6,7,8,9,10,11,12,1,2,3,4,5,6,7,8,9,10,11,12,1,2,3,4,5,6,7,8,9,10,11,12,1,2,3,4,5,6,7,8,9,10,11,12,1,2,3,4,5,6,7,8,9,10,11,12,1,2,3,4,5,6,7,8,9,10,11,12,1,2,3,4,5,6,7,8,9,10],\"profit\":{\"__ndarray__\":\"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\",\"dtype\":\"float64\",\"shape\":[306]},\"year\":[1991,1991,1991,1991,1991,1991,1991,1991,1991,1991,1991,1992,1992,1992,1992,1992,1992,1992,1992,1992,1992,1993,1993,1993,1993,1993,1993,1993,1993,1993,1993,1993,1993,1994,1994,1994,1994,1994,1994,1994,1994,1994,1994,1994,1995,1995,1995,1995,1995,1995,1995,1995,1995,1995,1995,1995,1996,1996,1996,1996,1996,1996,1996,1996,1996,1996,1996,1996,1997,1997,1997,1997,1997,1997,1997,1997,1997,1997,1997,1997,1998,1998,1998,1998,1998,1998,1998,1998,1998,1998,1998,1998,1999,1999,1999,1999,1999,1999,1999,1999,1999,1999,1999,1999,2000,2000,2000,2000,2000,2000,2000,2000,2000,2000,2000,2000,2001,2001,2001,2001,2001,2001,2001,2001,2001,2001,2001,2001,2002,2002,2002,2002,2002,2002,2002,2002,2002,2002,2002,2002,2003,2003,2003,2003,2003,2003,2003,2003,2003,2003,2003,2003,2004,2004,2004,2004,2004,2004,2004,2004,2004,2004,2004,2004,2005,2005,2005,2005,2005,2005,2005,2005,2005,2005,2005,2005,2006,2006,2006,2006,2006,2006,2006,2006,2006,2006,2006,2006,2007,2007,2007,2007,2007,2007,2007,2007,2007,2007,2007,2007,2008,2008,2008,2008,2008,2008,2008,2008,2008,2008,2008,2008,2009,2009,2009,2009,2009,2009,2009,2009,2009,2009,2009,2009,2010,2010,2010,2010,2010,2010,2010,2010,2010,2010,2010,2010,2011,2011,2011,2011,2011,2011,2011,2011,2011,2011,2011,2011,2012,2012,2012,2012,2012,2012,2012,2012,2012,2012,2012,2012,2013,2013,2013,2013,2013,2013,2013,2013,2013,2013,2013,2013,2014,2014,2014,2014,2014,2014,2014,2014,2014,2014,2014,2014,2015,2015,2015,2015,2015,2015,2015,2015,2015,2015,2015,2015,2016,2016,2016,2016,2016,2016,2016,2016,2016,2016]}},\"id\":\"6307a907-6a76-4000-bb54-d565674d2ec0\",\"type\":\"ColumnDataSource\"},{\"attributes\":{\"source\":{\"id\":\"6307a907-6a76-4000-bb54-d565674d2ec0\",\"type\":\"ColumnDataSource\"}},\"id\":\"f22f0130-cbcf-4c53-9ba0-ac7f5401728e\",\"type\":\"CDSView\"},{\"attributes\":{},\"id\":\"72114b80-53a9-4130-ae61-fe2c5e192d4d\",\"type\":\"BasicTicker\"},{\"attributes\":{},\"id\":\"7035d820-f014-420c-8338-792f09ee85f5\",\"type\":\"SaveTool\"},{\"attributes\":{\"high\":278616248.0,\"low\":-23890960.0,\"palette\":[\"#2166ac\",\"#4393c3\",\"#92c5de\",\"#d1e5f0\",\"#f7f7f7\",\"#fddbc7\",\"#f4a582\",\"#d6604d\",\"#b2182b\"]},\"id\":\"3b6a9567-6c3b-4413-bbd6-19aa722382f6\",\"type\":\"LinearColorMapper\"},{\"attributes\":{\"below\":[{\"id\":\"85b980bc-9ca3-48b5-a7c4-32a18a49fe53\",\"type\":\"LinearAxis\"}],\"left\":[{\"id\":\"4d0c9e6d-2bac-43ed-adb9-3f501b8a3347\",\"type\":\"LinearAxis\"}],\"plot_width\":900,\"renderers\":[{\"id\":\"85b980bc-9ca3-48b5-a7c4-32a18a49fe53\",\"type\":\"LinearAxis\"},{\"id\":\"6b4b7222-3520-4913-aed4-86bef41035c7\",\"type\":\"Grid\"},{\"id\":\"4d0c9e6d-2bac-43ed-adb9-3f501b8a3347\",\"type\":\"LinearAxis\"},{\"id\":\"dc416ac2-f72a-4595-a5c7-ccccb57cbff0\",\"type\":\"Grid\"},{\"id\":\"27283193-11a0-4061-a196-c1de1d66125a\",\"type\":\"BoxAnnotation\"},{\"id\":\"fe5aa3c1-cf73-444e-9838-ce71750e737b\",\"type\":\"GlyphRenderer\"},{\"id\":\"9a338d69-438d-49a8-a0f7-31c7c4edd2ea\",\"type\":\"ColorBar\"}],\"right\":[{\"id\":\"9a338d69-438d-49a8-a0f7-31c7c4edd2ea\",\"type\":\"ColorBar\"}],\"title\":{\"id\":\"b3a47db9-a669-4430-8e04-dfa0e3e80ad5\",\"type\":\"Title\"},\"toolbar\":{\"id\":\"a90a70c8-b159-436a-82f7-f4a9f5a04d68\",\"type\":\"Toolbar\"},\"x_range\":{\"id\":\"384dc580-2c9a-41f2-97ef-fb042c0f1c41\",\"type\":\"DataRange1d\"},\"x_scale\":{\"id\":\"0e1d1ffc-dbbb-492c-9ded-d71c012ddf27\",\"type\":\"LinearScale\"},\"y_range\":{\"id\":\"8f27221b-c517-4cff-a76f-93934a70e4ad\",\"type\":\"DataRange1d\"},\"y_scale\":{\"id\":\"88b0645d-ddc7-4b94-a83c-c481794d4ec7\",\"type\":\"LinearScale\"}},\"id\":\"9881e639-5b15-412a-8468-84bc0a0d3dee\",\"subtype\":\"Figure\",\"type\":\"Plot\"},{\"attributes\":{\"dimension\":1,\"plot\":{\"id\":\"9881e639-5b15-412a-8468-84bc0a0d3dee\",\"subtype\":\"Figure\",\"type\":\"Plot\"},\"ticker\":{\"id\":\"72114b80-53a9-4130-ae61-fe2c5e192d4d\",\"type\":\"BasicTicker\"}},\"id\":\"dc416ac2-f72a-4595-a5c7-ccccb57cbff0\",\"type\":\"Grid\"},{\"attributes\":{\"callback\":null},\"id\":\"8f27221b-c517-4cff-a76f-93934a70e4ad\",\"type\":\"DataRange1d\"},{\"attributes\":{\"data_source\":{\"id\":\"6307a907-6a76-4000-bb54-d565674d2ec0\",\"type\":\"ColumnDataSource\"},\"glyph\":{\"id\":\"b632a21b-1a8b-438d-8060-3400fcd229c1\",\"type\":\"Rect\"},\"hover_glyph\":null,\"muted_glyph\":null,\"nonselection_glyph\":{\"id\":\"997321c9-e57e-473c-a0a0-8cd035791d24\",\"type\":\"Rect\"},\"selection_glyph\":null,\"view\":{\"id\":\"f22f0130-cbcf-4c53-9ba0-ac7f5401728e\",\"type\":\"CDSView\"}},\"id\":\"fe5aa3c1-cf73-444e-9838-ce71750e737b\",\"type\":\"GlyphRenderer\"},{\"attributes\":{},\"id\":\"f07ff0e8-2dce-4d81-ad0a-12d3488f31b5\",\"type\":\"BasicTickFormatter\"},{\"attributes\":{\"axis_label\":\"Month\",\"formatter\":{\"id\":\"f07ff0e8-2dce-4d81-ad0a-12d3488f31b5\",\"type\":\"BasicTickFormatter\"},\"plot\":{\"id\":\"9881e639-5b15-412a-8468-84bc0a0d3dee\",\"subtype\":\"Figure\",\"type\":\"Plot\"},\"ticker\":{\"id\":\"72114b80-53a9-4130-ae61-fe2c5e192d4d\",\"type\":\"BasicTicker\"}},\"id\":\"4d0c9e6d-2bac-43ed-adb9-3f501b8a3347\",\"type\":\"LinearAxis\"},{\"attributes\":{\"overlay\":{\"id\":\"27283193-11a0-4061-a196-c1de1d66125a\",\"type\":\"BoxAnnotation\"}},\"id\":\"a139d227-ba86-4161-85db-e80e5166cf2f\",\"type\":\"BoxZoomTool\"},{\"attributes\":{},\"id\":\"d062fa60-f35f-4262-8fac-6e7c67f9d93f\",\"type\":\"PanTool\"},{\"attributes\":{\"color_mapper\":{\"id\":\"3b6a9567-6c3b-4413-bbd6-19aa722382f6\",\"type\":\"LinearColorMapper\"},\"formatter\":{\"id\":\"8475b167-2f19-44f2-9d5e-f77b82b8d017\",\"type\":\"BasicTickFormatter\"},\"location\":[18,0],\"plot\":{\"id\":\"9881e639-5b15-412a-8468-84bc0a0d3dee\",\"subtype\":\"Figure\",\"type\":\"Plot\"},\"ticker\":{\"id\":\"50642539-d113-4299-b239-a91981b4603a\",\"type\":\"BasicTicker\"}},\"id\":\"9a338d69-438d-49a8-a0f7-31c7c4edd2ea\",\"type\":\"ColorBar\"}],\"root_ids\":[\"9881e639-5b15-412a-8468-84bc0a0d3dee\"]},\"title\":\"Bokeh Application\",\"version\":\"0.12.10\"}};\n",
       "    var render_items = [{\"docid\":\"478641ba-3a48-469e-918b-d1b65344858a\",\"elementid\":\"26622529-99da-419b-9beb-5fa1f2abfbc5\",\"modelid\":\"9881e639-5b15-412a-8468-84bc0a0d3dee\"}];\n",
       "\n",
       "    root.Bokeh.embed.embed_items(docs_json, render_items);\n",
       "  }\n",
       "\n",
       "  if (root.Bokeh !== undefined) {\n",
       "    embed_document(root);\n",
       "  } else {\n",
       "    var attempts = 0;\n",
       "    var timer = setInterval(function(root) {\n",
       "      if (root.Bokeh !== undefined) {\n",
       "        embed_document(root);\n",
       "        clearInterval(timer);\n",
       "      }\n",
       "      attempts++;\n",
       "      if (attempts > 100) {\n",
       "        console.log(\"Bokeh: ERROR: Unable to embed document because BokehJS library is missing\")\n",
       "        clearInterval(timer);\n",
       "      }\n",
       "    }, 10, root)\n",
       "  }\n",
       "})(window);"
      ],
      "application/vnd.bokehjs_exec.v0+json": ""
     },
     "metadata": {
      "application/vnd.bokehjs_exec.v0+json": {
       "id": "9881e639-5b15-412a-8468-84bc0a0d3dee"
      }
     },
     "output_type": "display_data"
    }
   ],
   "source": [
    "newdata = ColumnDataSource(profit_by_month_year)\n",
    "\n",
    "mapper = LinearColorMapper(palette=bokeh.palettes.RdBu[9], \n",
    "                           low=profit_by_month_year[\"profit\"].min(), high=profit_by_month_year[\"profit\"].max())\n",
    "\n",
    "TOOLS = \"hover,save,pan,box_zoom,reset,wheel_zoom\"\n",
    "\n",
    "p = figure(title = \"Profit\",\n",
    "           x_axis_label = 'Year', \n",
    "           y_axis_label = 'Month',\n",
    "           tools=TOOLS,\n",
    "           plot_width = 900)\n",
    "\n",
    "p.rect(x=\"year\", y=\"month\",width=1, height=1,source = newdata,\n",
    "       fill_color={'field': 'profit', 'transform': mapper})\n",
    "\n",
    "color_bar = ColorBar(color_mapper=mapper, location=(18, 0),\n",
    "                     ticker=BasicTicker(desired_num_ticks=9))\n",
    "\n",
    "p.add_layout(color_bar, 'right')\n",
    "show(p)"
   ]
  },
  {
   "cell_type": "code",
   "execution_count": 60,
   "metadata": {},
   "outputs": [],
   "source": [
    "profit_by_dow= data[data[\"year\"]>1990].groupby([\"dow\"]).profit.mean().reset_index()"
   ]
  },
  {
   "cell_type": "code",
   "execution_count": 62,
   "metadata": {},
   "outputs": [
    {
     "data": {
      "text/html": [
       "\n",
       "<div class=\"bk-root\">\n",
       "    <div class=\"bk-plotdiv\" id=\"5630d574-9c38-420d-b4fa-3753c156ce48\"></div>\n",
       "</div>"
      ]
     },
     "metadata": {},
     "output_type": "display_data"
    },
    {
     "data": {
      "application/javascript": [
       "(function(root) {\n",
       "  function embed_document(root) {\n",
       "    var docs_json = {\"20550f1e-1d8d-46be-97d0-623e8fb390a1\":{\"roots\":{\"references\":[{\"attributes\":{},\"id\":\"a351a3bc-15ef-44f5-9916-0f86e3f78ed7\",\"type\":\"LinearScale\"},{\"attributes\":{\"plot\":null,\"text\":\"Profit vs Day_of_Week\"},\"id\":\"ed4134ab-b0bf-4d5a-9d3b-5691006471f0\",\"type\":\"Title\"},{\"attributes\":{\"plot\":{\"id\":\"c1526773-1185-4eb6-a2e0-061fba0c9112\",\"subtype\":\"Figure\",\"type\":\"Plot\"},\"ticker\":{\"id\":\"74c10866-0fa6-4c29-998e-5de8f112638a\",\"type\":\"BasicTicker\"}},\"id\":\"129cf548-4568-4479-98f0-661933c4847d\",\"type\":\"Grid\"},{\"attributes\":{\"fill_alpha\":{\"value\":0.1},\"fill_color\":{\"value\":\"#1f77b4\"},\"line_alpha\":{\"value\":0.1},\"line_color\":{\"value\":\"#1f77b4\"},\"top\":{\"field\":\"top\"},\"width\":{\"value\":1},\"x\":{\"field\":\"x\"}},\"id\":\"7688ad1e-faf1-45d2-a71b-5121eec9b693\",\"type\":\"VBar\"},{\"attributes\":{},\"id\":\"6ca474ed-5a52-4142-95fe-eb6e0c0786de\",\"type\":\"BasicTickFormatter\"},{\"attributes\":{},\"id\":\"a296da6c-683f-4fe7-8a78-05ca96d462fe\",\"type\":\"SaveTool\"},{\"attributes\":{\"source\":{\"id\":\"ccae5906-576e-4570-8a91-870133f9eafe\",\"type\":\"ColumnDataSource\"}},\"id\":\"c4ba79db-2b8a-47f2-94a7-42e4dd4d9012\",\"type\":\"CDSView\"},{\"attributes\":{\"axis_label\":\"DOW\",\"formatter\":{\"id\":\"e4634c74-314b-4044-9123-9ff2277c33ca\",\"type\":\"BasicTickFormatter\"},\"plot\":{\"id\":\"c1526773-1185-4eb6-a2e0-061fba0c9112\",\"subtype\":\"Figure\",\"type\":\"Plot\"},\"ticker\":{\"id\":\"74c10866-0fa6-4c29-998e-5de8f112638a\",\"type\":\"BasicTicker\"}},\"id\":\"89647dcb-ea1d-4a0a-b1b7-d69840251a78\",\"type\":\"LinearAxis\"},{\"attributes\":{\"callback\":null},\"id\":\"de75d6c3-21d3-4599-9dc1-5b2da4f2e9e0\",\"type\":\"DataRange1d\"},{\"attributes\":{\"callback\":null,\"column_names\":[\"x\",\"top\"],\"data\":{\"top\":{\"__ndarray__\":\"pkMNBuDpj0EtJWywbN+UQS1kIX/ZJJhBZRB5Vk2JjkGT+X26ce17QYy3soeHgoRBjvrO7lT/fUE=\",\"dtype\":\"float64\",\"shape\":[7]},\"x\":[0,1,2,3,4,5,6]}},\"id\":\"ccae5906-576e-4570-8a91-870133f9eafe\",\"type\":\"ColumnDataSource\"},{\"attributes\":{\"overlay\":{\"id\":\"eee5dec0-cbb1-44a3-b159-1a2329668ca0\",\"type\":\"BoxAnnotation\"}},\"id\":\"f61ac72f-76b1-4fad-8dc2-870967eacb99\",\"type\":\"BoxZoomTool\"},{\"attributes\":{\"callback\":null},\"id\":\"0cf0116a-b109-4835-a76b-fa5a1d20cd57\",\"type\":\"HoverTool\"},{\"attributes\":{},\"id\":\"e4634c74-314b-4044-9123-9ff2277c33ca\",\"type\":\"BasicTickFormatter\"},{\"attributes\":{},\"id\":\"e0061f31-c184-48e6-8dc2-9a4cd5d4ca73\",\"type\":\"BasicTicker\"},{\"attributes\":{},\"id\":\"9286d8ff-11a7-423c-a962-d75a582d5811\",\"type\":\"ResetTool\"},{\"attributes\":{\"axis_label\":\"Profit\",\"formatter\":{\"id\":\"6ca474ed-5a52-4142-95fe-eb6e0c0786de\",\"type\":\"BasicTickFormatter\"},\"plot\":{\"id\":\"c1526773-1185-4eb6-a2e0-061fba0c9112\",\"subtype\":\"Figure\",\"type\":\"Plot\"},\"ticker\":{\"id\":\"e0061f31-c184-48e6-8dc2-9a4cd5d4ca73\",\"type\":\"BasicTicker\"}},\"id\":\"d6a9894e-c473-4787-aeca-79fe5c41d0b2\",\"type\":\"LinearAxis\"},{\"attributes\":{},\"id\":\"ee651675-c336-4c8d-a22d-febcbbac8457\",\"type\":\"LinearScale\"},{\"attributes\":{},\"id\":\"36309a52-1218-4c40-997b-9171ee48f6ad\",\"type\":\"PanTool\"},{\"attributes\":{},\"id\":\"e301ccb0-bbbf-445b-91af-b2dbf017f13f\",\"type\":\"WheelZoomTool\"},{\"attributes\":{\"data_source\":{\"id\":\"ccae5906-576e-4570-8a91-870133f9eafe\",\"type\":\"ColumnDataSource\"},\"glyph\":{\"id\":\"e9b88b0f-c58a-446f-9b5a-bb16b28e4e54\",\"type\":\"VBar\"},\"hover_glyph\":null,\"muted_glyph\":null,\"nonselection_glyph\":{\"id\":\"7688ad1e-faf1-45d2-a71b-5121eec9b693\",\"type\":\"VBar\"},\"selection_glyph\":null,\"view\":{\"id\":\"c4ba79db-2b8a-47f2-94a7-42e4dd4d9012\",\"type\":\"CDSView\"}},\"id\":\"9e7f863c-ec0e-4cf5-82ee-36f0bd5ef7af\",\"type\":\"GlyphRenderer\"},{\"attributes\":{\"callback\":null},\"id\":\"723fa067-3a1e-4daf-a263-5b5afcf74483\",\"type\":\"DataRange1d\"},{\"attributes\":{\"below\":[{\"id\":\"89647dcb-ea1d-4a0a-b1b7-d69840251a78\",\"type\":\"LinearAxis\"}],\"left\":[{\"id\":\"d6a9894e-c473-4787-aeca-79fe5c41d0b2\",\"type\":\"LinearAxis\"}],\"renderers\":[{\"id\":\"89647dcb-ea1d-4a0a-b1b7-d69840251a78\",\"type\":\"LinearAxis\"},{\"id\":\"129cf548-4568-4479-98f0-661933c4847d\",\"type\":\"Grid\"},{\"id\":\"d6a9894e-c473-4787-aeca-79fe5c41d0b2\",\"type\":\"LinearAxis\"},{\"id\":\"27b5902f-139e-4f2e-b637-5e4f3d9cc4af\",\"type\":\"Grid\"},{\"id\":\"eee5dec0-cbb1-44a3-b159-1a2329668ca0\",\"type\":\"BoxAnnotation\"},{\"id\":\"9e7f863c-ec0e-4cf5-82ee-36f0bd5ef7af\",\"type\":\"GlyphRenderer\"}],\"title\":{\"id\":\"ed4134ab-b0bf-4d5a-9d3b-5691006471f0\",\"type\":\"Title\"},\"toolbar\":{\"id\":\"b52bf252-939f-48df-bd78-a871c4de692a\",\"type\":\"Toolbar\"},\"x_range\":{\"id\":\"723fa067-3a1e-4daf-a263-5b5afcf74483\",\"type\":\"DataRange1d\"},\"x_scale\":{\"id\":\"ee651675-c336-4c8d-a22d-febcbbac8457\",\"type\":\"LinearScale\"},\"y_range\":{\"id\":\"de75d6c3-21d3-4599-9dc1-5b2da4f2e9e0\",\"type\":\"DataRange1d\"},\"y_scale\":{\"id\":\"a351a3bc-15ef-44f5-9916-0f86e3f78ed7\",\"type\":\"LinearScale\"}},\"id\":\"c1526773-1185-4eb6-a2e0-061fba0c9112\",\"subtype\":\"Figure\",\"type\":\"Plot\"},{\"attributes\":{\"bottom_units\":\"screen\",\"fill_alpha\":{\"value\":0.5},\"fill_color\":{\"value\":\"lightgrey\"},\"left_units\":\"screen\",\"level\":\"overlay\",\"line_alpha\":{\"value\":1.0},\"line_color\":{\"value\":\"black\"},\"line_dash\":[4,4],\"line_width\":{\"value\":2},\"plot\":null,\"render_mode\":\"css\",\"right_units\":\"screen\",\"top_units\":\"screen\"},\"id\":\"eee5dec0-cbb1-44a3-b159-1a2329668ca0\",\"type\":\"BoxAnnotation\"},{\"attributes\":{\"active_drag\":\"auto\",\"active_inspect\":\"auto\",\"active_scroll\":\"auto\",\"active_tap\":\"auto\",\"tools\":[{\"id\":\"0cf0116a-b109-4835-a76b-fa5a1d20cd57\",\"type\":\"HoverTool\"},{\"id\":\"a296da6c-683f-4fe7-8a78-05ca96d462fe\",\"type\":\"SaveTool\"},{\"id\":\"36309a52-1218-4c40-997b-9171ee48f6ad\",\"type\":\"PanTool\"},{\"id\":\"f61ac72f-76b1-4fad-8dc2-870967eacb99\",\"type\":\"BoxZoomTool\"},{\"id\":\"9286d8ff-11a7-423c-a962-d75a582d5811\",\"type\":\"ResetTool\"},{\"id\":\"e301ccb0-bbbf-445b-91af-b2dbf017f13f\",\"type\":\"WheelZoomTool\"}]},\"id\":\"b52bf252-939f-48df-bd78-a871c4de692a\",\"type\":\"Toolbar\"},{\"attributes\":{\"dimension\":1,\"plot\":{\"id\":\"c1526773-1185-4eb6-a2e0-061fba0c9112\",\"subtype\":\"Figure\",\"type\":\"Plot\"},\"ticker\":{\"id\":\"e0061f31-c184-48e6-8dc2-9a4cd5d4ca73\",\"type\":\"BasicTicker\"}},\"id\":\"27b5902f-139e-4f2e-b637-5e4f3d9cc4af\",\"type\":\"Grid\"},{\"attributes\":{},\"id\":\"74c10866-0fa6-4c29-998e-5de8f112638a\",\"type\":\"BasicTicker\"},{\"attributes\":{\"fill_color\":{\"value\":\"#1f77b4\"},\"line_color\":{\"value\":\"white\"},\"top\":{\"field\":\"top\"},\"width\":{\"value\":1},\"x\":{\"field\":\"x\"}},\"id\":\"e9b88b0f-c58a-446f-9b5a-bb16b28e4e54\",\"type\":\"VBar\"}],\"root_ids\":[\"c1526773-1185-4eb6-a2e0-061fba0c9112\"]},\"title\":\"Bokeh Application\",\"version\":\"0.12.10\"}};\n",
       "    var render_items = [{\"docid\":\"20550f1e-1d8d-46be-97d0-623e8fb390a1\",\"elementid\":\"5630d574-9c38-420d-b4fa-3753c156ce48\",\"modelid\":\"c1526773-1185-4eb6-a2e0-061fba0c9112\"}];\n",
       "\n",
       "    root.Bokeh.embed.embed_items(docs_json, render_items);\n",
       "  }\n",
       "\n",
       "  if (root.Bokeh !== undefined) {\n",
       "    embed_document(root);\n",
       "  } else {\n",
       "    var attempts = 0;\n",
       "    var timer = setInterval(function(root) {\n",
       "      if (root.Bokeh !== undefined) {\n",
       "        embed_document(root);\n",
       "        clearInterval(timer);\n",
       "      }\n",
       "      attempts++;\n",
       "      if (attempts > 100) {\n",
       "        console.log(\"Bokeh: ERROR: Unable to embed document because BokehJS library is missing\")\n",
       "        clearInterval(timer);\n",
       "      }\n",
       "    }, 10, root)\n",
       "  }\n",
       "})(window);"
      ],
      "application/vnd.bokehjs_exec.v0+json": ""
     },
     "metadata": {
      "application/vnd.bokehjs_exec.v0+json": {
       "id": "c1526773-1185-4eb6-a2e0-061fba0c9112"
      }
     },
     "output_type": "display_data"
    }
   ],
   "source": [
    "TOOLS = \"hover,save,pan,box_zoom,reset,wheel_zoom\"\n",
    "\n",
    "p = figure(title = \"Profit vs Day_of_Week\", \n",
    "           x_axis_label = 'DOW', \n",
    "           y_axis_label = 'Profit',\n",
    "           tools=TOOLS)\n",
    "\n",
    "p.vbar(x=profit_by_dow[\"dow\"],\n",
    "       top=profit_by_dow[\"profit\"], \n",
    "       width = 1,\n",
    "       line_color=\"white\" )\n",
    "\n",
    "show(p)"
   ]
  },
  {
   "cell_type": "markdown",
   "metadata": {},
   "source": [
    "### Genre Exploration"
   ]
  },
  {
   "cell_type": "code",
   "execution_count": 161,
   "metadata": {},
   "outputs": [],
   "source": [
    "df1 = pd.concat([pd.Series(row['year'], row['genres'].replace('[','').replace(']','').replace(\"'\",\"\").split(','))              \n",
    "                    for _, row in data[data[\"year\"]>1990][[\"year\",\"genres\"]].iterrows()]).reset_index()\n",
    "df2 = pd.concat([pd.Series(row['profit'], row['genres'].replace('[','').replace(']','').replace(\"'\",\"\").split(','))              \n",
    "                    for _, row in data[data[\"year\"]>1990][[\"profit\",\"genres\"]].iterrows()]).reset_index()"
   ]
  },
  {
   "cell_type": "code",
   "execution_count": 162,
   "metadata": {},
   "outputs": [],
   "source": [
    "df1.columns = [\"genres\",\"year\"]\n",
    "df2.columns = [\"genres\",\"profit\"]"
   ]
  },
  {
   "cell_type": "code",
   "execution_count": 163,
   "metadata": {},
   "outputs": [
    {
     "data": {
      "text/plain": [
       "((10723, 2), (10723, 2))"
      ]
     },
     "execution_count": 163,
     "metadata": {},
     "output_type": "execute_result"
    }
   ],
   "source": [
    "df1.shape, df2.shape"
   ]
  },
  {
   "cell_type": "code",
   "execution_count": 164,
   "metadata": {},
   "outputs": [],
   "source": [
    "df1[\"profit\"] = df2[\"profit\"]\n",
    "df1[\"genres\"] = df1[\"genres\"].apply(lambda x: x.strip())\n",
    "del df2"
   ]
  },
  {
   "cell_type": "code",
   "execution_count": 165,
   "metadata": {},
   "outputs": [
    {
     "data": {
      "text/html": [
       "<div>\n",
       "<style>\n",
       "    .dataframe thead tr:only-child th {\n",
       "        text-align: right;\n",
       "    }\n",
       "\n",
       "    .dataframe thead th {\n",
       "        text-align: left;\n",
       "    }\n",
       "\n",
       "    .dataframe tbody tr th {\n",
       "        vertical-align: top;\n",
       "    }\n",
       "</style>\n",
       "<table border=\"1\" class=\"dataframe\">\n",
       "  <thead>\n",
       "    <tr style=\"text-align: right;\">\n",
       "      <th></th>\n",
       "      <th>genres</th>\n",
       "      <th>year</th>\n",
       "      <th>profit</th>\n",
       "    </tr>\n",
       "  </thead>\n",
       "  <tbody>\n",
       "    <tr>\n",
       "      <th>0</th>\n",
       "      <td>Action</td>\n",
       "      <td>2009</td>\n",
       "      <td>2550965087</td>\n",
       "    </tr>\n",
       "    <tr>\n",
       "      <th>1</th>\n",
       "      <td>Adventure</td>\n",
       "      <td>2009</td>\n",
       "      <td>2550965087</td>\n",
       "    </tr>\n",
       "    <tr>\n",
       "      <th>2</th>\n",
       "      <td>Fantasy</td>\n",
       "      <td>2009</td>\n",
       "      <td>2550965087</td>\n",
       "    </tr>\n",
       "  </tbody>\n",
       "</table>\n",
       "</div>"
      ],
      "text/plain": [
       "      genres  year      profit\n",
       "0     Action  2009  2550965087\n",
       "1  Adventure  2009  2550965087\n",
       "2    Fantasy  2009  2550965087"
      ]
     },
     "execution_count": 165,
     "metadata": {},
     "output_type": "execute_result"
    }
   ],
   "source": [
    "df1.head(3)"
   ]
  },
  {
   "cell_type": "code",
   "execution_count": 166,
   "metadata": {},
   "outputs": [
    {
     "data": {
      "text/plain": [
       "genres\n",
       "Drama              2040\n",
       "Comedy             1571\n",
       "Thriller           1146\n",
       "Action             1003\n",
       "Romance             793\n",
       "Adventure           657\n",
       "Crime               632\n",
       "Family              467\n",
       "Science Fiction     439\n",
       "Horror              432\n",
       "dtype: int64"
      ]
     },
     "execution_count": 166,
     "metadata": {},
     "output_type": "execute_result"
    }
   ],
   "source": [
    "df1.groupby([\"genres\"]).size().sort_values(ascending=False)[:10]"
   ]
  },
  {
   "cell_type": "code",
   "execution_count": 167,
   "metadata": {
    "collapsed": true
   },
   "outputs": [],
   "source": [
    "genres = [\"Drama\",\"Comedy\",\"Thriller\",\"Action\",\"Romance\",\"Adventure\",\"Crime\",\"Science\", \"Fiction\",\"Horror\",\"Family\"]"
   ]
  },
  {
   "cell_type": "code",
   "execution_count": 168,
   "metadata": {},
   "outputs": [],
   "source": [
    "grouped_data = df1[df1[\"genres\"].isin(genres)].groupby([\"genres\",\"year\"]).profit.mean().reset_index()"
   ]
  },
  {
   "cell_type": "code",
   "execution_count": 169,
   "metadata": {},
   "outputs": [
    {
     "data": {
      "text/html": [
       "<div>\n",
       "<style>\n",
       "    .dataframe thead tr:only-child th {\n",
       "        text-align: right;\n",
       "    }\n",
       "\n",
       "    .dataframe thead th {\n",
       "        text-align: left;\n",
       "    }\n",
       "\n",
       "    .dataframe tbody tr th {\n",
       "        vertical-align: top;\n",
       "    }\n",
       "</style>\n",
       "<table border=\"1\" class=\"dataframe\">\n",
       "  <thead>\n",
       "    <tr style=\"text-align: right;\">\n",
       "      <th></th>\n",
       "      <th>genres</th>\n",
       "      <th>year</th>\n",
       "      <th>profit</th>\n",
       "    </tr>\n",
       "  </thead>\n",
       "  <tbody>\n",
       "    <tr>\n",
       "      <th>0</th>\n",
       "      <td>Action</td>\n",
       "      <td>1991</td>\n",
       "      <td>4.269032e+07</td>\n",
       "    </tr>\n",
       "    <tr>\n",
       "      <th>1</th>\n",
       "      <td>Action</td>\n",
       "      <td>1992</td>\n",
       "      <td>1.279588e+08</td>\n",
       "    </tr>\n",
       "    <tr>\n",
       "      <th>2</th>\n",
       "      <td>Action</td>\n",
       "      <td>1993</td>\n",
       "      <td>3.395408e+07</td>\n",
       "    </tr>\n",
       "  </tbody>\n",
       "</table>\n",
       "</div>"
      ],
      "text/plain": [
       "   genres  year        profit\n",
       "0  Action  1991  4.269032e+07\n",
       "1  Action  1992  1.279588e+08\n",
       "2  Action  1993  3.395408e+07"
      ]
     },
     "execution_count": 169,
     "metadata": {},
     "output_type": "execute_result"
    }
   ],
   "source": [
    "grouped_data.head(3)"
   ]
  },
  {
   "cell_type": "code",
   "execution_count": 170,
   "metadata": {},
   "outputs": [
    {
     "data": {
      "text/html": [
       "\n",
       "<div class=\"bk-root\">\n",
       "    <div class=\"bk-plotdiv\" id=\"ab52d40f-70b0-4102-8d0f-97b1607b3314\"></div>\n",
       "</div>"
      ]
     },
     "metadata": {},
     "output_type": "display_data"
    },
    {
     "data": {
      "application/javascript": [
       "(function(root) {\n",
       "  function embed_document(root) {\n",
       "    var docs_json = {\"40582dcf-2269-4c39-8857-21f43b5d7097\":{\"roots\":{\"references\":[{\"attributes\":{},\"id\":\"d94723fa-b1da-4cea-870a-1c96d7a6fe83\",\"type\":\"ResetTool\"},{\"attributes\":{\"callback\":null},\"id\":\"4c74727f-5c0a-4012-a70f-23dfb6a028f5\",\"type\":\"DataRange1d\"},{\"attributes\":{\"plot\":null,\"text\":\"Profit for each Genre across years\"},\"id\":\"8d0a49b8-d4ae-4f95-8f9f-6aed05177af2\",\"type\":\"Title\"},{\"attributes\":{},\"id\":\"1067b455-0674-450e-bdc5-6642ac732a5e\",\"type\":\"LinearScale\"},{\"attributes\":{\"dimension\":1,\"plot\":{\"id\":\"6945d901-e44e-40f9-81e3-ffdcc1ff9823\",\"subtype\":\"Figure\",\"type\":\"Plot\"},\"ticker\":{\"id\":\"215c8c47-8131-482b-820c-f7d89886a683\",\"type\":\"BasicTicker\"}},\"id\":\"4dd287ee-7a19-4faf-83d4-f19343b90299\",\"type\":\"Grid\"},{\"attributes\":{\"axis_label\":\"year\",\"formatter\":{\"id\":\"97d5057c-0464-437d-9930-341925aae16a\",\"type\":\"BasicTickFormatter\"},\"plot\":{\"id\":\"6945d901-e44e-40f9-81e3-ffdcc1ff9823\",\"subtype\":\"Figure\",\"type\":\"Plot\"},\"ticker\":{\"id\":\"e550a1b8-402b-4d39-8aab-4d2812839472\",\"type\":\"BasicTicker\"}},\"id\":\"70ae08e7-d22a-45a1-854f-ca79641c3a9c\",\"type\":\"LinearAxis\"},{\"attributes\":{\"bottom_units\":\"screen\",\"fill_alpha\":{\"value\":0.5},\"fill_color\":{\"value\":\"lightgrey\"},\"left_units\":\"screen\",\"level\":\"overlay\",\"line_alpha\":{\"value\":1.0},\"line_color\":{\"value\":\"black\"},\"line_dash\":[4,4],\"line_width\":{\"value\":2},\"plot\":null,\"render_mode\":\"css\",\"right_units\":\"screen\",\"top_units\":\"screen\"},\"id\":\"c6f92d7e-f743-4436-b04b-5f60955606a9\",\"type\":\"BoxAnnotation\"},{\"attributes\":{},\"id\":\"79879e76-28c8-4703-95dc-9ff8bc33f662\",\"type\":\"LinearScale\"},{\"attributes\":{\"below\":[{\"id\":\"70ae08e7-d22a-45a1-854f-ca79641c3a9c\",\"type\":\"LinearAxis\"}],\"left\":[{\"id\":\"9b4423ec-cc88-4dfb-ad55-ac2094b03c41\",\"type\":\"LinearAxis\"}],\"plot_width\":1000,\"renderers\":[{\"id\":\"70ae08e7-d22a-45a1-854f-ca79641c3a9c\",\"type\":\"LinearAxis\"},{\"id\":\"210dafd1-8d7c-4308-ad4c-f012603b5b48\",\"type\":\"Grid\"},{\"id\":\"9b4423ec-cc88-4dfb-ad55-ac2094b03c41\",\"type\":\"LinearAxis\"},{\"id\":\"4dd287ee-7a19-4faf-83d4-f19343b90299\",\"type\":\"Grid\"},{\"id\":\"c6f92d7e-f743-4436-b04b-5f60955606a9\",\"type\":\"BoxAnnotation\"},{\"id\":\"ed864be9-55db-4d63-ae59-3328a8d0dc2e\",\"type\":\"Legend\"},{\"id\":\"c2c39e25-a7cc-4dcd-ae47-14a1910fabda\",\"type\":\"GlyphRenderer\"}],\"title\":{\"id\":\"8d0a49b8-d4ae-4f95-8f9f-6aed05177af2\",\"type\":\"Title\"},\"toolbar\":{\"id\":\"69aeb95a-6d17-45dd-90ea-bbe6470e6dc5\",\"type\":\"Toolbar\"},\"x_range\":{\"id\":\"e9e282f5-9c0a-499b-b16e-08bffa872376\",\"type\":\"DataRange1d\"},\"x_scale\":{\"id\":\"79879e76-28c8-4703-95dc-9ff8bc33f662\",\"type\":\"LinearScale\"},\"y_range\":{\"id\":\"4c74727f-5c0a-4012-a70f-23dfb6a028f5\",\"type\":\"DataRange1d\"},\"y_scale\":{\"id\":\"1067b455-0674-450e-bdc5-6642ac732a5e\",\"type\":\"LinearScale\"}},\"id\":\"6945d901-e44e-40f9-81e3-ffdcc1ff9823\",\"subtype\":\"Figure\",\"type\":\"Plot\"},{\"attributes\":{},\"id\":\"e550a1b8-402b-4d39-8aab-4d2812839472\",\"type\":\"BasicTicker\"},{\"attributes\":{\"active_drag\":\"auto\",\"active_inspect\":\"auto\",\"active_scroll\":\"auto\",\"active_tap\":\"auto\",\"tools\":[{\"id\":\"67bd5936-cd8f-4319-b696-c55fb5d90295\",\"type\":\"HoverTool\"},{\"id\":\"4be756dc-b2b3-4a6a-a25c-a9a4b2a83b1d\",\"type\":\"SaveTool\"},{\"id\":\"67b40aaa-50d4-4b67-8770-6ed4b56b7348\",\"type\":\"PanTool\"},{\"id\":\"09c3cf22-b757-42ff-80dd-c9d549b9e86d\",\"type\":\"BoxZoomTool\"},{\"id\":\"d94723fa-b1da-4cea-870a-1c96d7a6fe83\",\"type\":\"ResetTool\"},{\"id\":\"3e5b5e25-e229-4c4f-8f81-eb64e025d2c6\",\"type\":\"WheelZoomTool\"}]},\"id\":\"69aeb95a-6d17-45dd-90ea-bbe6470e6dc5\",\"type\":\"Toolbar\"},{\"attributes\":{},\"id\":\"97d5057c-0464-437d-9930-341925aae16a\",\"type\":\"BasicTickFormatter\"},{\"attributes\":{\"callback\":null},\"id\":\"e9e282f5-9c0a-499b-b16e-08bffa872376\",\"type\":\"DataRange1d\"},{\"attributes\":{},\"id\":\"4be756dc-b2b3-4a6a-a25c-a9a4b2a83b1d\",\"type\":\"SaveTool\"},{\"attributes\":{\"callback\":null},\"id\":\"67bd5936-cd8f-4319-b696-c55fb5d90295\",\"type\":\"HoverTool\"},{\"attributes\":{},\"id\":\"67b40aaa-50d4-4b67-8770-6ed4b56b7348\",\"type\":\"PanTool\"},{\"attributes\":{\"axis_label\":\"profit\",\"formatter\":{\"id\":\"e4a44f8d-44f9-44ea-9121-429dafc97202\",\"type\":\"BasicTickFormatter\"},\"plot\":{\"id\":\"6945d901-e44e-40f9-81e3-ffdcc1ff9823\",\"subtype\":\"Figure\",\"type\":\"Plot\"},\"ticker\":{\"id\":\"215c8c47-8131-482b-820c-f7d89886a683\",\"type\":\"BasicTicker\"}},\"id\":\"9b4423ec-cc88-4dfb-ad55-ac2094b03c41\",\"type\":\"LinearAxis\"},{\"attributes\":{\"plot\":{\"id\":\"6945d901-e44e-40f9-81e3-ffdcc1ff9823\",\"subtype\":\"Figure\",\"type\":\"Plot\"},\"ticker\":{\"id\":\"e550a1b8-402b-4d39-8aab-4d2812839472\",\"type\":\"BasicTicker\"}},\"id\":\"210dafd1-8d7c-4308-ad4c-f012603b5b48\",\"type\":\"Grid\"},{\"attributes\":{},\"id\":\"215c8c47-8131-482b-820c-f7d89886a683\",\"type\":\"BasicTicker\"},{\"attributes\":{\"data_source\":{\"id\":\"2b35fd3b-ea10-46d9-9909-cb70f43832f4\",\"type\":\"ColumnDataSource\"},\"glyph\":{\"id\":\"c0bc3b4b-378e-4ce9-b7eb-6653fffdd9fe\",\"type\":\"MultiLine\"},\"hover_glyph\":null,\"muted_glyph\":null,\"nonselection_glyph\":{\"id\":\"82232564-5395-4782-88fd-7edf18915f51\",\"type\":\"MultiLine\"},\"selection_glyph\":null,\"view\":{\"id\":\"c4760290-0cdf-43e4-b081-2f593e9105e8\",\"type\":\"CDSView\"}},\"id\":\"c2c39e25-a7cc-4dcd-ae47-14a1910fabda\",\"type\":\"GlyphRenderer\"},{\"attributes\":{\"callback\":null,\"column_names\":[\"xs\",\"ys\",\"labels\",\"color\"],\"data\":{\"color\":[\"#1f77b4\",\"#ff7f0e\",\"#2ca02c\",\"#d62728\",\"#9467bd\",\"#8c564b\",\"#e377c2\",\"#7f7f7f\",\"#bcbd22\"],\"labels\":[\"Action\",\"Adventure\",\"Comedy\",\"Crime\",\"Drama\",\"Family\",\"Horror\",\"Romance\",\"Thriller\"],\"xs\":[[1991,1992,1993,1994,1995,1996,1997,1998,1999,2000,2001,2002,2003,2004,2005,2006,2007,2008,2009,2010,2011,2012,2013,2014,2015,2016],[1991,1992,1993,1994,1995,1996,1997,1998,1999,2000,2001,2002,2003,2004,2005,2006,2007,2008,2009,2010,2011,2012,2013,2014,2015,2016],[1991,1992,1993,1994,1995,1996,1997,1998,1999,2000,2001,2002,2003,2004,2005,2006,2007,2008,2009,2010,2011,2012,2013,2014,2015,2016],[1991,1992,1993,1994,1995,1996,1997,1998,1999,2000,2001,2002,2003,2004,2005,2006,2007,2008,2009,2010,2011,2012,2013,2014,2015,2016],[1991,1992,1993,1994,1995,1996,1997,1998,1999,2000,2001,2002,2003,2004,2005,2006,2007,2008,2009,2010,2011,2012,2013,2014,2015,2016],[1991,1992,1993,1994,1995,1996,1997,1998,1999,2000,2001,2002,2003,2004,2005,2006,2007,2008,2009,2010,2011,2012,2013,2014,2015,2016],[1991,1992,1993,1994,1995,1996,1997,1998,1999,2000,2001,2002,2003,2004,2005,2006,2007,2008,2009,2010,2011,2012,2013,2014,2015,2016],[1991,1992,1993,1994,1995,1996,1997,1998,1999,2000,2001,2002,2003,2004,2005,2006,2007,2008,2009,2010,2011,2012,2013,2014,2015,2016],[1991,1992,1993,1994,1995,1996,1997,1998,1999,2000,2001,2002,2003,2004,2005,2006,2007,2008,2009,2010,2011,2012,2013,2014,2015,2016]],\"ys\":[{\"__ndarray__\":\"jC66oDhbhEGrqqpy/IGeQQ8PDwfJMIBB9DzPM1CKikHXo3BtRdWPQXTRRcPOnppBU+SzNog5iEEfhetBQYGCQVyPwm0MwotBmpmZCKKoiEEnGG+NrWGHQbETO25ArJJBnud5mJ1hmkGQwfnsApWTQd/ZqA9xI4RBpHA9+k2/kEEvuuhu9GmUQZze9L6z5pZB8fDw0BjHm0F9aKzbiIWRQfc0woCMoJhB3BF3yrGApEGSJEnFubuXQQntJTCKqaVBvelNiWRFpEG+5Vu6Fp2gQQ==\",\"dtype\":\"float64\",\"shape\":[26]},{\"__ndarray__\":\"AAAAmMybjUEzMzPhdzWqQQAAAKBawplBchzHqYuvi0G66KK3QLGSQdu2bRpU3qFBC1nIejcfj0GrqqoObn+QQU/sxA4cfJVBAACADLeilEFVVVWtC7qfQQAAAKkNnZdBJUmShO6TnUEAAFC5OjygQSryWXvgFpdBPDw8Xr4gnEHhehQSPrOkQUU+66ouM5dBAACAat3Zq0EzMzN+JmOmQQAAgJbKlqNBZmZmx4N8s0E5jmM81ImmQWGKfKC9F61BkiRJOtx9rEE4vekJ8FSuQQ==\",\"dtype\":\"float64\",\"shape\":[26]},{\"__ndarray__\":\"L7roIlIUhUGrqqrsdm+dQbdt25JFkYZBO7ETvTrtkUFDFrJYk9WJQdYNpgjsi21BG8prsP7Fg0E371OsRB1+QauqqsbrhHVBfMVXrOpme0FaWlraCRp9QcjgfMSCDnxBOY7j7P8Ig0Elalf6N6iCQRPaS3i2YH9BjC66Bn8PhkF2C79yauyNQRO1K+GJr4NBAAAABHNXhUGQSfHCRLGFQduVqB3ckYpBZmZms+S+i0GCRCvEE6mLQeecc9wCeJJBJ3ZiIF0GlUGe2Il3ngCXQQ==\",\"dtype\":\"float64\",\"shape\":[26]},{\"__ndarray__\":\"q6qqJG0alUGMLrpwb7yRQQAAABuScopBT+zE3ulzlkHNzMy+87KIQVpaWoo+hHdBVVVVt2tKfUHNzMwMJ8VrQVVVVWSRoIhB7mmEVYQ5gEHEw8OD7uh9QYiHh38DOINBAACA5Opye0Gc3vTulVKBQcs9jYCMNXxB4uHhkccwfkElSZJqnz2BQZtssmEbLIlBAAAAJ8VteEGJiIjoAG5vQVVVVWNQOItBvoT2GjQHjUHJZ93wCwSAQWgvoR1KynFBYid2kjNbgkEzMzNNt4OXQQ==\",\"dtype\":\"float64\",\"shape\":[26]},{\"__ndarray__\":\"ntiJVcVygkGxEzsZ1feQQezETkgtUYtBzczMK38zmkGRz7rhKBqIQauqqoqnPX1BRGqCAbAXhkGvobx2IWdzQay5mis8WHdBRsrAU0oBdkG/WPKrde9uQVjpqQXRAnhBOY7jCNlvcUEhd/1cEq97QYGirear0XlBq6qqupfoc0HwxdXPgSJ5QSv7HCIAlX5By6BU+OUedUGOQNEmmfV5QZ2ClytkyndB1uImrHxWkEFr37AuHz5/QZUgTxmK24BB05ve2PLQiEG7wRS5/86AQQ==\",\"dtype\":\"float64\",\"shape\":[26]},{\"__ndarray__\":\"zczM5Nx6i0EAAACQl2CqQQAAAMQbO4lBVVVVZ6iEpkFVVVVguQGnQQAAANhZvHZBx3EcR4ctX0G3bdvGUNaPQURERDSbIHxBMzMztWUfgUEAAAAaidChQXsJ7W2KY4tBOY7j9lbIk0HTm94oAzWbQSmllJpETZdBS0tLkSockEFmZmYQlRSmQSz3NAb24ZNB27ZtuOx5oEFHWO6X/R6iQdu2bdQO5ZpBS0tLkQYno0FddNGTI1+mQd/0pg+olqFBpqWlf0gDqUFVVVWDJyawQQ==\",\"dtype\":\"float64\",\"shape\":[26]},{\"__ndarray__\":\"AAAA9i0ZlkGrqqp6OJWJQVVVVVVt9EtBVVVVjTbXiUFVVVWFruFvQauqqjpe8ndBMzMzW1LPh0GrqqrqtkxpQd7d3d1ywntBT+zE7mkka0GMLrqo+t9ZQQAAACX0DnxBVVVVmR2qdkElSZJ8PNqDQT0K13vaUYBBZmZm9isneUGF9hJaUaWFQdu2bTtSkWBB3t3d5XcockHtJbQHg4h6Qauqqv5hInVBED74wDMOeUH2KFwXSESKQTEMw3BZiX9BRhddtG8TbkGamZnpiQB/QQ==\",\"dtype\":\"float64\",\"shape\":[26]},{\"__ndarray__\":\"AAAA6AEFYEGSJElEuzykQemii44PnW5BVVVVG4G+pUEPDw/vAKNyQauqqvqJ8XtBep7nCZ2hmEGVUkrpVkKFQWIYhjmQ53ZB0iAN0solbkE7sRP9OyqCQQtZyKJyVHZBVVVVFe1feUHkOI4T9BZ9QURjfVg7EXtBQxay8Dmvd0FT5LN+g9F7QRvKa2Cs/Y9B4T6Cm9sdgUEofdI38WyFQQAAAADLooVB8y3fsuUUi0HhehQucxt3Qauqqsd6W4hBXXTRRTPZikHkOI4TlxmBQQ==\",\"dtype\":\"float64\",\"shape\":[26]},{\"__ndarray__\":\"6aKLyjuFlkFmZmZqZhOWQQAAAAGH5JBBjuM40mSlkEEAAACNzQSOQcdxHBOkkoRBUbsSAZYokkFxPQqXql19QZdv+eb/j31BAAAAVxLnfkEOqQkOuW+BQeRGbvSFCH1BvelNOzZbiEFt1HcOKueGQXZiJ2gnY4RBaoTlToy8iEFEaoKRLieFQagEeaIQBYpBhOWefhGld0EAAACUgnqEQcTDw9e7VYVBIyz3rPizkEGRmmAkwYGHQauqquJtUIhBWGMitSuvkEGF9hJaM4SDQQ==\",\"dtype\":\"float64\",\"shape\":[26]}]}},\"id\":\"2b35fd3b-ea10-46d9-9909-cb70f43832f4\",\"type\":\"ColumnDataSource\"},{\"attributes\":{},\"id\":\"e4a44f8d-44f9-44ea-9121-429dafc97202\",\"type\":\"BasicTickFormatter\"},{\"attributes\":{\"line_color\":{\"field\":\"color\"},\"line_width\":{\"value\":3},\"xs\":{\"field\":\"xs\"},\"ys\":{\"field\":\"ys\"}},\"id\":\"c0bc3b4b-378e-4ce9-b7eb-6653fffdd9fe\",\"type\":\"MultiLine\"},{\"attributes\":{\"line_alpha\":{\"value\":0.1},\"line_color\":{\"value\":\"#1f77b4\"},\"line_width\":{\"value\":3},\"xs\":{\"field\":\"xs\"},\"ys\":{\"field\":\"ys\"}},\"id\":\"82232564-5395-4782-88fd-7edf18915f51\",\"type\":\"MultiLine\"},{\"attributes\":{},\"id\":\"3e5b5e25-e229-4c4f-8f81-eb64e025d2c6\",\"type\":\"WheelZoomTool\"},{\"attributes\":{\"items\":[{\"id\":\"902a1d90-202a-4cb0-8e40-6e2490e428ce\",\"type\":\"LegendItem\"}],\"location\":\"top_left\",\"plot\":{\"id\":\"6945d901-e44e-40f9-81e3-ffdcc1ff9823\",\"subtype\":\"Figure\",\"type\":\"Plot\"}},\"id\":\"ed864be9-55db-4d63-ae59-3328a8d0dc2e\",\"type\":\"Legend\"},{\"attributes\":{\"source\":{\"id\":\"2b35fd3b-ea10-46d9-9909-cb70f43832f4\",\"type\":\"ColumnDataSource\"}},\"id\":\"c4760290-0cdf-43e4-b081-2f593e9105e8\",\"type\":\"CDSView\"},{\"attributes\":{\"overlay\":{\"id\":\"c6f92d7e-f743-4436-b04b-5f60955606a9\",\"type\":\"BoxAnnotation\"}},\"id\":\"09c3cf22-b757-42ff-80dd-c9d549b9e86d\",\"type\":\"BoxZoomTool\"},{\"attributes\":{\"label\":{\"field\":\"labels\"},\"renderers\":[{\"id\":\"c2c39e25-a7cc-4dcd-ae47-14a1910fabda\",\"type\":\"GlyphRenderer\"}]},\"id\":\"902a1d90-202a-4cb0-8e40-6e2490e428ce\",\"type\":\"LegendItem\"}],\"root_ids\":[\"6945d901-e44e-40f9-81e3-ffdcc1ff9823\"]},\"title\":\"Bokeh Application\",\"version\":\"0.12.10\"}};\n",
       "    var render_items = [{\"docid\":\"40582dcf-2269-4c39-8857-21f43b5d7097\",\"elementid\":\"ab52d40f-70b0-4102-8d0f-97b1607b3314\",\"modelid\":\"6945d901-e44e-40f9-81e3-ffdcc1ff9823\"}];\n",
       "\n",
       "    root.Bokeh.embed.embed_items(docs_json, render_items);\n",
       "  }\n",
       "\n",
       "  if (root.Bokeh !== undefined) {\n",
       "    embed_document(root);\n",
       "  } else {\n",
       "    var attempts = 0;\n",
       "    var timer = setInterval(function(root) {\n",
       "      if (root.Bokeh !== undefined) {\n",
       "        embed_document(root);\n",
       "        clearInterval(timer);\n",
       "      }\n",
       "      attempts++;\n",
       "      if (attempts > 100) {\n",
       "        console.log(\"Bokeh: ERROR: Unable to embed document because BokehJS library is missing\")\n",
       "        clearInterval(timer);\n",
       "      }\n",
       "    }, 10, root)\n",
       "  }\n",
       "})(window);"
      ],
      "application/vnd.bokehjs_exec.v0+json": ""
     },
     "metadata": {
      "application/vnd.bokehjs_exec.v0+json": {
       "id": "6945d901-e44e-40f9-81e3-ffdcc1ff9823"
      }
     },
     "output_type": "display_data"
    }
   ],
   "source": [
    "dict_group_data = {\"xs\":[grouped_data.loc[(grouped_data[\"genres\"]==name),\"year\"].values \\\n",
    "                         for name in grouped_data['genres'].unique()],\n",
    "                  \"ys\": [grouped_data.loc[(grouped_data[\"genres\"]==name),\"profit\"].values\\\n",
    "                         for name in grouped_data['genres'].unique()],\n",
    "                  \"labels\": grouped_data[\"genres\"].unique(),\n",
    "                  \"color\": bokeh.palettes.Category10[9]}\n",
    "\n",
    "source = ColumnDataSource(dict_group_data)\n",
    "\n",
    "TOOLS = \"hover,save,pan,box_zoom,reset,wheel_zoom\"\n",
    "\n",
    "p = figure(x_axis_label = 'year', \n",
    "           y_axis_label = 'profit', \n",
    "           width = 1000,\n",
    "           title = \"Profit for each Genre across years\",\n",
    "           tools=TOOLS) \n",
    "\n",
    "p.multi_line(xs= \"xs\", ys= \"ys\", line_color= \"color\", source = source, legend = \"labels\",line_width=3)\n",
    "p.legend.location = \"top_left\"\n",
    "\n",
    "show(p)"
   ]
  },
  {
   "cell_type": "code",
   "execution_count": null,
   "metadata": {},
   "outputs": [],
   "source": []
  },
  {
   "cell_type": "code",
   "execution_count": null,
   "metadata": {
    "collapsed": true
   },
   "outputs": [],
   "source": []
  },
  {
   "cell_type": "code",
   "execution_count": null,
   "metadata": {
    "collapsed": true
   },
   "outputs": [],
   "source": []
  },
  {
   "cell_type": "code",
   "execution_count": null,
   "metadata": {
    "collapsed": true
   },
   "outputs": [],
   "source": []
  },
  {
   "cell_type": "code",
   "execution_count": null,
   "metadata": {
    "collapsed": true
   },
   "outputs": [],
   "source": []
  },
  {
   "cell_type": "code",
   "execution_count": null,
   "metadata": {
    "collapsed": true
   },
   "outputs": [],
   "source": []
  },
  {
   "cell_type": "code",
   "execution_count": null,
   "metadata": {
    "collapsed": true
   },
   "outputs": [],
   "source": []
  },
  {
   "cell_type": "code",
   "execution_count": null,
   "metadata": {
    "collapsed": true
   },
   "outputs": [],
   "source": []
  },
  {
   "cell_type": "code",
   "execution_count": null,
   "metadata": {
    "collapsed": true
   },
   "outputs": [],
   "source": []
  },
  {
   "cell_type": "code",
   "execution_count": null,
   "metadata": {
    "collapsed": true
   },
   "outputs": [],
   "source": []
  },
  {
   "cell_type": "code",
   "execution_count": null,
   "metadata": {
    "collapsed": true
   },
   "outputs": [],
   "source": []
  },
  {
   "cell_type": "code",
   "execution_count": null,
   "metadata": {
    "collapsed": true
   },
   "outputs": [],
   "source": []
  },
  {
   "cell_type": "code",
   "execution_count": null,
   "metadata": {
    "collapsed": true
   },
   "outputs": [],
   "source": []
  }
 ],
 "metadata": {
  "hide_input": false,
  "kernelspec": {
   "display_name": "Python 3",
   "language": "python",
   "name": "python3"
  },
  "language_info": {
   "codemirror_mode": {
    "name": "ipython",
    "version": 3
   },
   "file_extension": ".py",
   "mimetype": "text/x-python",
   "name": "python",
   "nbconvert_exporter": "python",
   "pygments_lexer": "ipython3",
   "version": "3.6.3"
  }
 },
 "nbformat": 4,
 "nbformat_minor": 2
}
