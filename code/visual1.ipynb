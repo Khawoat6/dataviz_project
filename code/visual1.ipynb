{
 "cells": [
  {
   "cell_type": "code",
   "execution_count": 1,
   "metadata": {
    "collapsed": true
   },
   "outputs": [],
   "source": [
    "import numpy as np, pandas as pd\n",
    "import warnings\n",
    "warnings.filterwarnings('ignore')\n",
    "from bokeh.plotting import figure, output_file, show\n",
    "from bokeh.models import (\n",
    "    ColumnDataSource,\n",
    "    HoverTool,\n",
    "    LinearColorMapper,\n",
    "    BasicTicker,\n",
    "    PrintfTickFormatter,\n",
    "    ColorBar,\n",
    "    FactorRange\n",
    ")\n",
    "import bokeh.palettes\n",
    "from bokeh.transform import factor_cmap\n",
    "from bokeh.io import output_notebook"
   ]
  },
  {
   "cell_type": "code",
   "execution_count": 2,
   "metadata": {},
   "outputs": [
    {
     "data": {
      "text/html": [
       "\n",
       "    <div class=\"bk-root\">\n",
       "        <a href=\"https://bokeh.pydata.org\" target=\"_blank\" class=\"bk-logo bk-logo-small bk-logo-notebook\"></a>\n",
       "        <span id=\"45ee3626-fc10-4f30-ac80-e8af256705f4\">Loading BokehJS ...</span>\n",
       "    </div>"
      ]
     },
     "metadata": {},
     "output_type": "display_data"
    },
    {
     "data": {
      "application/javascript": [
       "\n",
       "(function(root) {\n",
       "  function now() {\n",
       "    return new Date();\n",
       "  }\n",
       "\n",
       "  var force = true;\n",
       "\n",
       "  if (typeof (root._bokeh_onload_callbacks) === \"undefined\" || force === true) {\n",
       "    root._bokeh_onload_callbacks = [];\n",
       "    root._bokeh_is_loading = undefined;\n",
       "  }\n",
       "\n",
       "  var JS_MIME_TYPE = 'application/javascript';\n",
       "  var HTML_MIME_TYPE = 'text/html';\n",
       "  var EXEC_MIME_TYPE = 'application/vnd.bokehjs_exec.v0+json';\n",
       "  var CLASS_NAME = 'output_bokeh rendered_html';\n",
       "\n",
       "  /**\n",
       "   * Render data to the DOM node\n",
       "   */\n",
       "  function render(props, node) {\n",
       "    var script = document.createElement(\"script\");\n",
       "    node.appendChild(script);\n",
       "  }\n",
       "\n",
       "  /**\n",
       "   * Handle when an output is cleared or removed\n",
       "   */\n",
       "  function handleClearOutput(event, handle) {\n",
       "    var cell = handle.cell;\n",
       "\n",
       "    var id = cell.output_area._bokeh_element_id;\n",
       "    var server_id = cell.output_area._bokeh_server_id;\n",
       "    // Clean up Bokeh references\n",
       "    if (id !== undefined) {\n",
       "      Bokeh.index[id].model.document.clear();\n",
       "      delete Bokeh.index[id];\n",
       "    }\n",
       "\n",
       "    if (server_id !== undefined) {\n",
       "      // Clean up Bokeh references\n",
       "      var cmd = \"from bokeh.io.state import curstate; print(curstate().uuid_to_server['\" + server_id + \"'].get_sessions()[0].document.roots[0]._id)\";\n",
       "      cell.notebook.kernel.execute(cmd, {\n",
       "        iopub: {\n",
       "          output: function(msg) {\n",
       "            var element_id = msg.content.text.trim();\n",
       "            Bokeh.index[element_id].model.document.clear();\n",
       "            delete Bokeh.index[element_id];\n",
       "          }\n",
       "        }\n",
       "      });\n",
       "      // Destroy server and session\n",
       "      var cmd = \"import bokeh.io.notebook as ion; ion.destroy_server('\" + server_id + \"')\";\n",
       "      cell.notebook.kernel.execute(cmd);\n",
       "    }\n",
       "  }\n",
       "\n",
       "  /**\n",
       "   * Handle when a new output is added\n",
       "   */\n",
       "  function handleAddOutput(event, handle) {\n",
       "    var output_area = handle.output_area;\n",
       "    var output = handle.output;\n",
       "\n",
       "    // limit handleAddOutput to display_data with EXEC_MIME_TYPE content only\n",
       "    if ((output.output_type != \"display_data\") || (!output.data.hasOwnProperty(EXEC_MIME_TYPE))) {\n",
       "      return\n",
       "    }\n",
       "\n",
       "    var toinsert = output_area.element.find(\".\" + CLASS_NAME.split(' ')[0]);\n",
       "\n",
       "    if (output.metadata[EXEC_MIME_TYPE][\"id\"] !== undefined) {\n",
       "      toinsert[toinsert.length - 1].firstChild.textContent = output.data[JS_MIME_TYPE];\n",
       "      // store reference to embed id on output_area\n",
       "      output_area._bokeh_element_id = output.metadata[EXEC_MIME_TYPE][\"id\"];\n",
       "    }\n",
       "    if (output.metadata[EXEC_MIME_TYPE][\"server_id\"] !== undefined) {\n",
       "      var bk_div = document.createElement(\"div\");\n",
       "      bk_div.innerHTML = output.data[HTML_MIME_TYPE];\n",
       "      var script_attrs = bk_div.children[0].attributes;\n",
       "      for (var i = 0; i < script_attrs.length; i++) {\n",
       "        toinsert[toinsert.length - 1].firstChild.setAttribute(script_attrs[i].name, script_attrs[i].value);\n",
       "      }\n",
       "      // store reference to server id on output_area\n",
       "      output_area._bokeh_server_id = output.metadata[EXEC_MIME_TYPE][\"server_id\"];\n",
       "    }\n",
       "  }\n",
       "\n",
       "  function register_renderer(events, OutputArea) {\n",
       "\n",
       "    function append_mime(data, metadata, element) {\n",
       "      // create a DOM node to render to\n",
       "      var toinsert = this.create_output_subarea(\n",
       "        metadata,\n",
       "        CLASS_NAME,\n",
       "        EXEC_MIME_TYPE\n",
       "      );\n",
       "      this.keyboard_manager.register_events(toinsert);\n",
       "      // Render to node\n",
       "      var props = {data: data, metadata: metadata[EXEC_MIME_TYPE]};\n",
       "      render(props, toinsert[toinsert.length - 1]);\n",
       "      element.append(toinsert);\n",
       "      return toinsert\n",
       "    }\n",
       "\n",
       "    /* Handle when an output is cleared or removed */\n",
       "    events.on('clear_output.CodeCell', handleClearOutput);\n",
       "    events.on('delete.Cell', handleClearOutput);\n",
       "\n",
       "    /* Handle when a new output is added */\n",
       "    events.on('output_added.OutputArea', handleAddOutput);\n",
       "\n",
       "    /**\n",
       "     * Register the mime type and append_mime function with output_area\n",
       "     */\n",
       "    OutputArea.prototype.register_mime_type(EXEC_MIME_TYPE, append_mime, {\n",
       "      /* Is output safe? */\n",
       "      safe: true,\n",
       "      /* Index of renderer in `output_area.display_order` */\n",
       "      index: 0\n",
       "    });\n",
       "  }\n",
       "\n",
       "  // register the mime type if in Jupyter Notebook environment and previously unregistered\n",
       "  if (root.Jupyter !== undefined) {\n",
       "    var events = require('base/js/events');\n",
       "    var OutputArea = require('notebook/js/outputarea').OutputArea;\n",
       "\n",
       "    if (OutputArea.prototype.mime_types().indexOf(EXEC_MIME_TYPE) == -1) {\n",
       "      register_renderer(events, OutputArea);\n",
       "    }\n",
       "  }\n",
       "\n",
       "  \n",
       "  if (typeof (root._bokeh_timeout) === \"undefined\" || force === true) {\n",
       "    root._bokeh_timeout = Date.now() + 5000;\n",
       "    root._bokeh_failed_load = false;\n",
       "  }\n",
       "\n",
       "  var NB_LOAD_WARNING = {'data': {'text/html':\n",
       "     \"<div style='background-color: #fdd'>\\n\"+\n",
       "     \"<p>\\n\"+\n",
       "     \"BokehJS does not appear to have successfully loaded. If loading BokehJS from CDN, this \\n\"+\n",
       "     \"may be due to a slow or bad network connection. Possible fixes:\\n\"+\n",
       "     \"</p>\\n\"+\n",
       "     \"<ul>\\n\"+\n",
       "     \"<li>re-rerun `output_notebook()` to attempt to load from CDN again, or</li>\\n\"+\n",
       "     \"<li>use INLINE resources instead, as so:</li>\\n\"+\n",
       "     \"</ul>\\n\"+\n",
       "     \"<code>\\n\"+\n",
       "     \"from bokeh.resources import INLINE\\n\"+\n",
       "     \"output_notebook(resources=INLINE)\\n\"+\n",
       "     \"</code>\\n\"+\n",
       "     \"</div>\"}};\n",
       "\n",
       "  function display_loaded() {\n",
       "    var el = document.getElementById(\"45ee3626-fc10-4f30-ac80-e8af256705f4\");\n",
       "    if (el != null) {\n",
       "      el.textContent = \"BokehJS is loading...\";\n",
       "    }\n",
       "    if (root.Bokeh !== undefined) {\n",
       "      if (el != null) {\n",
       "        el.textContent = \"BokehJS \" + root.Bokeh.version + \" successfully loaded.\";\n",
       "      }\n",
       "    } else if (Date.now() < root._bokeh_timeout) {\n",
       "      setTimeout(display_loaded, 100)\n",
       "    }\n",
       "  }\n",
       "\n",
       "\n",
       "  function run_callbacks() {\n",
       "    try {\n",
       "      root._bokeh_onload_callbacks.forEach(function(callback) { callback() });\n",
       "    }\n",
       "    finally {\n",
       "      delete root._bokeh_onload_callbacks\n",
       "    }\n",
       "    console.info(\"Bokeh: all callbacks have finished\");\n",
       "  }\n",
       "\n",
       "  function load_libs(js_urls, callback) {\n",
       "    root._bokeh_onload_callbacks.push(callback);\n",
       "    if (root._bokeh_is_loading > 0) {\n",
       "      console.log(\"Bokeh: BokehJS is being loaded, scheduling callback at\", now());\n",
       "      return null;\n",
       "    }\n",
       "    if (js_urls == null || js_urls.length === 0) {\n",
       "      run_callbacks();\n",
       "      return null;\n",
       "    }\n",
       "    console.log(\"Bokeh: BokehJS not loaded, scheduling load and callback at\", now());\n",
       "    root._bokeh_is_loading = js_urls.length;\n",
       "    for (var i = 0; i < js_urls.length; i++) {\n",
       "      var url = js_urls[i];\n",
       "      var s = document.createElement('script');\n",
       "      s.src = url;\n",
       "      s.async = false;\n",
       "      s.onreadystatechange = s.onload = function() {\n",
       "        root._bokeh_is_loading--;\n",
       "        if (root._bokeh_is_loading === 0) {\n",
       "          console.log(\"Bokeh: all BokehJS libraries loaded\");\n",
       "          run_callbacks()\n",
       "        }\n",
       "      };\n",
       "      s.onerror = function() {\n",
       "        console.warn(\"failed to load library \" + url);\n",
       "      };\n",
       "      console.log(\"Bokeh: injecting script tag for BokehJS library: \", url);\n",
       "      document.getElementsByTagName(\"head\")[0].appendChild(s);\n",
       "    }\n",
       "  };var element = document.getElementById(\"45ee3626-fc10-4f30-ac80-e8af256705f4\");\n",
       "  if (element == null) {\n",
       "    console.log(\"Bokeh: ERROR: autoload.js configured with elementid '45ee3626-fc10-4f30-ac80-e8af256705f4' but no matching script tag was found. \")\n",
       "    return false;\n",
       "  }\n",
       "\n",
       "  var js_urls = [\"https://cdn.pydata.org/bokeh/release/bokeh-0.12.15.min.js\", \"https://cdn.pydata.org/bokeh/release/bokeh-widgets-0.12.15.min.js\", \"https://cdn.pydata.org/bokeh/release/bokeh-tables-0.12.15.min.js\", \"https://cdn.pydata.org/bokeh/release/bokeh-gl-0.12.15.min.js\"];\n",
       "\n",
       "  var inline_js = [\n",
       "    function(Bokeh) {\n",
       "      Bokeh.set_log_level(\"info\");\n",
       "    },\n",
       "    \n",
       "    function(Bokeh) {\n",
       "      \n",
       "    },\n",
       "    function(Bokeh) {\n",
       "      console.log(\"Bokeh: injecting CSS: https://cdn.pydata.org/bokeh/release/bokeh-0.12.15.min.css\");\n",
       "      Bokeh.embed.inject_css(\"https://cdn.pydata.org/bokeh/release/bokeh-0.12.15.min.css\");\n",
       "      console.log(\"Bokeh: injecting CSS: https://cdn.pydata.org/bokeh/release/bokeh-widgets-0.12.15.min.css\");\n",
       "      Bokeh.embed.inject_css(\"https://cdn.pydata.org/bokeh/release/bokeh-widgets-0.12.15.min.css\");\n",
       "      console.log(\"Bokeh: injecting CSS: https://cdn.pydata.org/bokeh/release/bokeh-tables-0.12.15.min.css\");\n",
       "      Bokeh.embed.inject_css(\"https://cdn.pydata.org/bokeh/release/bokeh-tables-0.12.15.min.css\");\n",
       "    }\n",
       "  ];\n",
       "\n",
       "  function run_inline_js() {\n",
       "    \n",
       "    if ((root.Bokeh !== undefined) || (force === true)) {\n",
       "      for (var i = 0; i < inline_js.length; i++) {\n",
       "        inline_js[i].call(root, root.Bokeh);\n",
       "      }if (force === true) {\n",
       "        display_loaded();\n",
       "      }} else if (Date.now() < root._bokeh_timeout) {\n",
       "      setTimeout(run_inline_js, 100);\n",
       "    } else if (!root._bokeh_failed_load) {\n",
       "      console.log(\"Bokeh: BokehJS failed to load within specified timeout.\");\n",
       "      root._bokeh_failed_load = true;\n",
       "    } else if (force !== true) {\n",
       "      var cell = $(document.getElementById(\"45ee3626-fc10-4f30-ac80-e8af256705f4\")).parents('.cell').data().cell;\n",
       "      cell.output_area.append_execute_result(NB_LOAD_WARNING)\n",
       "    }\n",
       "\n",
       "  }\n",
       "\n",
       "  if (root._bokeh_is_loading === 0) {\n",
       "    console.log(\"Bokeh: BokehJS loaded, going straight to plotting\");\n",
       "    run_inline_js();\n",
       "  } else {\n",
       "    load_libs(js_urls, function() {\n",
       "      console.log(\"Bokeh: BokehJS plotting callback run at\", now());\n",
       "      run_inline_js();\n",
       "    });\n",
       "  }\n",
       "}(window));"
      ],
      "application/vnd.bokehjs_load.v0+json": "\n(function(root) {\n  function now() {\n    return new Date();\n  }\n\n  var force = true;\n\n  if (typeof (root._bokeh_onload_callbacks) === \"undefined\" || force === true) {\n    root._bokeh_onload_callbacks = [];\n    root._bokeh_is_loading = undefined;\n  }\n\n  \n\n  \n  if (typeof (root._bokeh_timeout) === \"undefined\" || force === true) {\n    root._bokeh_timeout = Date.now() + 5000;\n    root._bokeh_failed_load = false;\n  }\n\n  var NB_LOAD_WARNING = {'data': {'text/html':\n     \"<div style='background-color: #fdd'>\\n\"+\n     \"<p>\\n\"+\n     \"BokehJS does not appear to have successfully loaded. If loading BokehJS from CDN, this \\n\"+\n     \"may be due to a slow or bad network connection. Possible fixes:\\n\"+\n     \"</p>\\n\"+\n     \"<ul>\\n\"+\n     \"<li>re-rerun `output_notebook()` to attempt to load from CDN again, or</li>\\n\"+\n     \"<li>use INLINE resources instead, as so:</li>\\n\"+\n     \"</ul>\\n\"+\n     \"<code>\\n\"+\n     \"from bokeh.resources import INLINE\\n\"+\n     \"output_notebook(resources=INLINE)\\n\"+\n     \"</code>\\n\"+\n     \"</div>\"}};\n\n  function display_loaded() {\n    var el = document.getElementById(\"45ee3626-fc10-4f30-ac80-e8af256705f4\");\n    if (el != null) {\n      el.textContent = \"BokehJS is loading...\";\n    }\n    if (root.Bokeh !== undefined) {\n      if (el != null) {\n        el.textContent = \"BokehJS \" + root.Bokeh.version + \" successfully loaded.\";\n      }\n    } else if (Date.now() < root._bokeh_timeout) {\n      setTimeout(display_loaded, 100)\n    }\n  }\n\n\n  function run_callbacks() {\n    try {\n      root._bokeh_onload_callbacks.forEach(function(callback) { callback() });\n    }\n    finally {\n      delete root._bokeh_onload_callbacks\n    }\n    console.info(\"Bokeh: all callbacks have finished\");\n  }\n\n  function load_libs(js_urls, callback) {\n    root._bokeh_onload_callbacks.push(callback);\n    if (root._bokeh_is_loading > 0) {\n      console.log(\"Bokeh: BokehJS is being loaded, scheduling callback at\", now());\n      return null;\n    }\n    if (js_urls == null || js_urls.length === 0) {\n      run_callbacks();\n      return null;\n    }\n    console.log(\"Bokeh: BokehJS not loaded, scheduling load and callback at\", now());\n    root._bokeh_is_loading = js_urls.length;\n    for (var i = 0; i < js_urls.length; i++) {\n      var url = js_urls[i];\n      var s = document.createElement('script');\n      s.src = url;\n      s.async = false;\n      s.onreadystatechange = s.onload = function() {\n        root._bokeh_is_loading--;\n        if (root._bokeh_is_loading === 0) {\n          console.log(\"Bokeh: all BokehJS libraries loaded\");\n          run_callbacks()\n        }\n      };\n      s.onerror = function() {\n        console.warn(\"failed to load library \" + url);\n      };\n      console.log(\"Bokeh: injecting script tag for BokehJS library: \", url);\n      document.getElementsByTagName(\"head\")[0].appendChild(s);\n    }\n  };var element = document.getElementById(\"45ee3626-fc10-4f30-ac80-e8af256705f4\");\n  if (element == null) {\n    console.log(\"Bokeh: ERROR: autoload.js configured with elementid '45ee3626-fc10-4f30-ac80-e8af256705f4' but no matching script tag was found. \")\n    return false;\n  }\n\n  var js_urls = [\"https://cdn.pydata.org/bokeh/release/bokeh-0.12.15.min.js\", \"https://cdn.pydata.org/bokeh/release/bokeh-widgets-0.12.15.min.js\", \"https://cdn.pydata.org/bokeh/release/bokeh-tables-0.12.15.min.js\", \"https://cdn.pydata.org/bokeh/release/bokeh-gl-0.12.15.min.js\"];\n\n  var inline_js = [\n    function(Bokeh) {\n      Bokeh.set_log_level(\"info\");\n    },\n    \n    function(Bokeh) {\n      \n    },\n    function(Bokeh) {\n      console.log(\"Bokeh: injecting CSS: https://cdn.pydata.org/bokeh/release/bokeh-0.12.15.min.css\");\n      Bokeh.embed.inject_css(\"https://cdn.pydata.org/bokeh/release/bokeh-0.12.15.min.css\");\n      console.log(\"Bokeh: injecting CSS: https://cdn.pydata.org/bokeh/release/bokeh-widgets-0.12.15.min.css\");\n      Bokeh.embed.inject_css(\"https://cdn.pydata.org/bokeh/release/bokeh-widgets-0.12.15.min.css\");\n      console.log(\"Bokeh: injecting CSS: https://cdn.pydata.org/bokeh/release/bokeh-tables-0.12.15.min.css\");\n      Bokeh.embed.inject_css(\"https://cdn.pydata.org/bokeh/release/bokeh-tables-0.12.15.min.css\");\n    }\n  ];\n\n  function run_inline_js() {\n    \n    if ((root.Bokeh !== undefined) || (force === true)) {\n      for (var i = 0; i < inline_js.length; i++) {\n        inline_js[i].call(root, root.Bokeh);\n      }if (force === true) {\n        display_loaded();\n      }} else if (Date.now() < root._bokeh_timeout) {\n      setTimeout(run_inline_js, 100);\n    } else if (!root._bokeh_failed_load) {\n      console.log(\"Bokeh: BokehJS failed to load within specified timeout.\");\n      root._bokeh_failed_load = true;\n    } else if (force !== true) {\n      var cell = $(document.getElementById(\"45ee3626-fc10-4f30-ac80-e8af256705f4\")).parents('.cell').data().cell;\n      cell.output_area.append_execute_result(NB_LOAD_WARNING)\n    }\n\n  }\n\n  if (root._bokeh_is_loading === 0) {\n    console.log(\"Bokeh: BokehJS loaded, going straight to plotting\");\n    run_inline_js();\n  } else {\n    load_libs(js_urls, function() {\n      console.log(\"Bokeh: BokehJS plotting callback run at\", now());\n      run_inline_js();\n    });\n  }\n}(window));"
     },
     "metadata": {},
     "output_type": "display_data"
    }
   ],
   "source": [
    "output_notebook()"
   ]
  },
  {
   "cell_type": "code",
   "execution_count": 3,
   "metadata": {
    "collapsed": true
   },
   "outputs": [],
   "source": [
    "data = pd.read_csv(\"../data/cleaned_data.csv\")"
   ]
  },
  {
   "cell_type": "code",
   "execution_count": 4,
   "metadata": {
    "collapsed": true
   },
   "outputs": [],
   "source": [
    "data[\"profit\"] = data[\"revenue\"] - data[\"budget\"]"
   ]
  },
  {
   "cell_type": "code",
   "execution_count": 5,
   "metadata": {},
   "outputs": [
    {
     "data": {
      "text/html": [
       "<div>\n",
       "<style scoped>\n",
       "    .dataframe tbody tr th:only-of-type {\n",
       "        vertical-align: middle;\n",
       "    }\n",
       "\n",
       "    .dataframe tbody tr th {\n",
       "        vertical-align: top;\n",
       "    }\n",
       "\n",
       "    .dataframe thead th {\n",
       "        text-align: right;\n",
       "    }\n",
       "</style>\n",
       "<table border=\"1\" class=\"dataframe\">\n",
       "  <thead>\n",
       "    <tr style=\"text-align: right;\">\n",
       "      <th></th>\n",
       "      <th>0</th>\n",
       "      <th>1</th>\n",
       "      <th>2</th>\n",
       "    </tr>\n",
       "  </thead>\n",
       "  <tbody>\n",
       "    <tr>\n",
       "      <th>budget</th>\n",
       "      <td>237000000</td>\n",
       "      <td>300000000</td>\n",
       "      <td>245000000</td>\n",
       "    </tr>\n",
       "    <tr>\n",
       "      <th>genres</th>\n",
       "      <td>['Action', 'Adventure', 'Fantasy', 'Science Fi...</td>\n",
       "      <td>['Adventure', 'Fantasy', 'Action']</td>\n",
       "      <td>['Action', 'Adventure', 'Crime']</td>\n",
       "    </tr>\n",
       "    <tr>\n",
       "      <th>keywords</th>\n",
       "      <td>['culture clash', 'future', 'space war', 'spac...</td>\n",
       "      <td>['ocean', 'drug abuse', 'exotic island', 'east...</td>\n",
       "      <td>['spy', 'based on novel', 'secret agent', 'seq...</td>\n",
       "    </tr>\n",
       "    <tr>\n",
       "      <th>original_language</th>\n",
       "      <td>en</td>\n",
       "      <td>en</td>\n",
       "      <td>en</td>\n",
       "    </tr>\n",
       "    <tr>\n",
       "      <th>overview</th>\n",
       "      <td>In the 22nd century, a paraplegic Marine is di...</td>\n",
       "      <td>Captain Barbossa, long believed to be dead, ha...</td>\n",
       "      <td>A cryptic message from Bond’s past sends him o...</td>\n",
       "    </tr>\n",
       "    <tr>\n",
       "      <th>popularity</th>\n",
       "      <td>150.438</td>\n",
       "      <td>139.083</td>\n",
       "      <td>107.377</td>\n",
       "    </tr>\n",
       "    <tr>\n",
       "      <th>production_companies</th>\n",
       "      <td>['Ingenious Film Partners', 'Twentieth Century...</td>\n",
       "      <td>['Walt Disney Pictures', 'Jerry Bruckheimer Fi...</td>\n",
       "      <td>['Columbia Pictures', 'Danjaq', 'B24']</td>\n",
       "    </tr>\n",
       "    <tr>\n",
       "      <th>production_countries</th>\n",
       "      <td>['United States of America', 'United Kingdom']</td>\n",
       "      <td>['United States of America']</td>\n",
       "      <td>['United Kingdom', 'United States of America']</td>\n",
       "    </tr>\n",
       "    <tr>\n",
       "      <th>release_date</th>\n",
       "      <td>2009-12-10</td>\n",
       "      <td>2007-05-19</td>\n",
       "      <td>2015-10-26</td>\n",
       "    </tr>\n",
       "    <tr>\n",
       "      <th>revenue</th>\n",
       "      <td>2787965087</td>\n",
       "      <td>961000000</td>\n",
       "      <td>880674609</td>\n",
       "    </tr>\n",
       "    <tr>\n",
       "      <th>runtime</th>\n",
       "      <td>162</td>\n",
       "      <td>169</td>\n",
       "      <td>148</td>\n",
       "    </tr>\n",
       "    <tr>\n",
       "      <th>spoken_languages</th>\n",
       "      <td>['English', 'Español']</td>\n",
       "      <td>['English']</td>\n",
       "      <td>['Français', 'English', 'Español', 'Italiano',...</td>\n",
       "    </tr>\n",
       "    <tr>\n",
       "      <th>vote_average</th>\n",
       "      <td>7.2</td>\n",
       "      <td>6.9</td>\n",
       "      <td>6.3</td>\n",
       "    </tr>\n",
       "    <tr>\n",
       "      <th>vote_count</th>\n",
       "      <td>11800</td>\n",
       "      <td>4500</td>\n",
       "      <td>4466</td>\n",
       "    </tr>\n",
       "    <tr>\n",
       "      <th>title</th>\n",
       "      <td>Avatar</td>\n",
       "      <td>Pirates of the Caribbean: At World's End</td>\n",
       "      <td>Spectre</td>\n",
       "    </tr>\n",
       "    <tr>\n",
       "      <th>cast</th>\n",
       "      <td>[{'order': 0, 'gender': 2, 'character': 'Jake ...</td>\n",
       "      <td>[{'order': 0, 'gender': 2, 'character': 'Capta...</td>\n",
       "      <td>[{'order': 0, 'gender': 2, 'character': 'James...</td>\n",
       "    </tr>\n",
       "    <tr>\n",
       "      <th>crew</th>\n",
       "      <td>[{'credit_id': '52fe48009251416c750aca23', 'de...</td>\n",
       "      <td>[{'credit_id': '52fe4232c3a36847f800b579', 'de...</td>\n",
       "      <td>[{'credit_id': '54805967c3a36829b5002c41', 'de...</td>\n",
       "    </tr>\n",
       "    <tr>\n",
       "      <th>year</th>\n",
       "      <td>2009</td>\n",
       "      <td>2007</td>\n",
       "      <td>2015</td>\n",
       "    </tr>\n",
       "    <tr>\n",
       "      <th>month</th>\n",
       "      <td>12</td>\n",
       "      <td>5</td>\n",
       "      <td>10</td>\n",
       "    </tr>\n",
       "    <tr>\n",
       "      <th>day</th>\n",
       "      <td>10</td>\n",
       "      <td>19</td>\n",
       "      <td>26</td>\n",
       "    </tr>\n",
       "    <tr>\n",
       "      <th>dow</th>\n",
       "      <td>3</td>\n",
       "      <td>5</td>\n",
       "      <td>0</td>\n",
       "    </tr>\n",
       "    <tr>\n",
       "      <th>profit</th>\n",
       "      <td>2550965087</td>\n",
       "      <td>661000000</td>\n",
       "      <td>635674609</td>\n",
       "    </tr>\n",
       "  </tbody>\n",
       "</table>\n",
       "</div>"
      ],
      "text/plain": [
       "                                                                      0  \\\n",
       "budget                                                        237000000   \n",
       "genres                ['Action', 'Adventure', 'Fantasy', 'Science Fi...   \n",
       "keywords              ['culture clash', 'future', 'space war', 'spac...   \n",
       "original_language                                                    en   \n",
       "overview              In the 22nd century, a paraplegic Marine is di...   \n",
       "popularity                                                      150.438   \n",
       "production_companies  ['Ingenious Film Partners', 'Twentieth Century...   \n",
       "production_countries     ['United States of America', 'United Kingdom']   \n",
       "release_date                                                 2009-12-10   \n",
       "revenue                                                      2787965087   \n",
       "runtime                                                             162   \n",
       "spoken_languages                                 ['English', 'Español']   \n",
       "vote_average                                                        7.2   \n",
       "vote_count                                                        11800   \n",
       "title                                                            Avatar   \n",
       "cast                  [{'order': 0, 'gender': 2, 'character': 'Jake ...   \n",
       "crew                  [{'credit_id': '52fe48009251416c750aca23', 'de...   \n",
       "year                                                               2009   \n",
       "month                                                                12   \n",
       "day                                                                  10   \n",
       "dow                                                                   3   \n",
       "profit                                                       2550965087   \n",
       "\n",
       "                                                                      1  \\\n",
       "budget                                                        300000000   \n",
       "genres                               ['Adventure', 'Fantasy', 'Action']   \n",
       "keywords              ['ocean', 'drug abuse', 'exotic island', 'east...   \n",
       "original_language                                                    en   \n",
       "overview              Captain Barbossa, long believed to be dead, ha...   \n",
       "popularity                                                      139.083   \n",
       "production_companies  ['Walt Disney Pictures', 'Jerry Bruckheimer Fi...   \n",
       "production_countries                       ['United States of America']   \n",
       "release_date                                                 2007-05-19   \n",
       "revenue                                                       961000000   \n",
       "runtime                                                             169   \n",
       "spoken_languages                                            ['English']   \n",
       "vote_average                                                        6.9   \n",
       "vote_count                                                         4500   \n",
       "title                          Pirates of the Caribbean: At World's End   \n",
       "cast                  [{'order': 0, 'gender': 2, 'character': 'Capta...   \n",
       "crew                  [{'credit_id': '52fe4232c3a36847f800b579', 'de...   \n",
       "year                                                               2007   \n",
       "month                                                                 5   \n",
       "day                                                                  19   \n",
       "dow                                                                   5   \n",
       "profit                                                        661000000   \n",
       "\n",
       "                                                                      2  \n",
       "budget                                                        245000000  \n",
       "genres                                 ['Action', 'Adventure', 'Crime']  \n",
       "keywords              ['spy', 'based on novel', 'secret agent', 'seq...  \n",
       "original_language                                                    en  \n",
       "overview              A cryptic message from Bond’s past sends him o...  \n",
       "popularity                                                      107.377  \n",
       "production_companies             ['Columbia Pictures', 'Danjaq', 'B24']  \n",
       "production_countries     ['United Kingdom', 'United States of America']  \n",
       "release_date                                                 2015-10-26  \n",
       "revenue                                                       880674609  \n",
       "runtime                                                             148  \n",
       "spoken_languages      ['Français', 'English', 'Español', 'Italiano',...  \n",
       "vote_average                                                        6.3  \n",
       "vote_count                                                         4466  \n",
       "title                                                           Spectre  \n",
       "cast                  [{'order': 0, 'gender': 2, 'character': 'James...  \n",
       "crew                  [{'credit_id': '54805967c3a36829b5002c41', 'de...  \n",
       "year                                                               2015  \n",
       "month                                                                10  \n",
       "day                                                                  26  \n",
       "dow                                                                   0  \n",
       "profit                                                        635674609  "
      ]
     },
     "execution_count": 5,
     "metadata": {},
     "output_type": "execute_result"
    }
   ],
   "source": [
    "data.head(3).transpose()"
   ]
  },
  {
   "cell_type": "markdown",
   "metadata": {},
   "source": [
    "### Temporal Pattern in Profit"
   ]
  },
  {
   "cell_type": "code",
   "execution_count": 6,
   "metadata": {
    "collapsed": true
   },
   "outputs": [],
   "source": [
    "profit_by_month_year = data[data[\"year\"]>1990].groupby([\"year\",\"month\"]).profit.mean().reset_index()\n",
    "count_by_month_year = data[data[\"year\"]>1990].groupby([\"year\",\"month\"]).size().reset_index()"
   ]
  },
  {
   "cell_type": "code",
   "execution_count": 7,
   "metadata": {},
   "outputs": [
    {
     "data": {
      "text/html": [
       "<div>\n",
       "<style scoped>\n",
       "    .dataframe tbody tr th:only-of-type {\n",
       "        vertical-align: middle;\n",
       "    }\n",
       "\n",
       "    .dataframe tbody tr th {\n",
       "        vertical-align: top;\n",
       "    }\n",
       "\n",
       "    .dataframe thead th {\n",
       "        text-align: right;\n",
       "    }\n",
       "</style>\n",
       "<table border=\"1\" class=\"dataframe\">\n",
       "  <thead>\n",
       "    <tr style=\"text-align: right;\">\n",
       "      <th></th>\n",
       "      <th>year</th>\n",
       "      <th>month</th>\n",
       "      <th>profit</th>\n",
       "    </tr>\n",
       "  </thead>\n",
       "  <tbody>\n",
       "    <tr>\n",
       "      <th>0</th>\n",
       "      <td>1991</td>\n",
       "      <td>1</td>\n",
       "      <td>-7103420.0</td>\n",
       "    </tr>\n",
       "    <tr>\n",
       "      <th>1</th>\n",
       "      <td>1991</td>\n",
       "      <td>2</td>\n",
       "      <td>253742922.0</td>\n",
       "    </tr>\n",
       "    <tr>\n",
       "      <th>2</th>\n",
       "      <td>1991</td>\n",
       "      <td>3</td>\n",
       "      <td>24708446.5</td>\n",
       "    </tr>\n",
       "  </tbody>\n",
       "</table>\n",
       "</div>"
      ],
      "text/plain": [
       "   year  month       profit\n",
       "0  1991      1   -7103420.0\n",
       "1  1991      2  253742922.0\n",
       "2  1991      3   24708446.5"
      ]
     },
     "execution_count": 7,
     "metadata": {},
     "output_type": "execute_result"
    }
   ],
   "source": [
    "profit_by_month_year[:3]"
   ]
  },
  {
   "cell_type": "code",
   "execution_count": 9,
   "metadata": {
    "scrolled": false
   },
   "outputs": [
    {
     "data": {
      "text/html": [
       "\n",
       "<div class=\"bk-root\">\n",
       "    <div class=\"bk-plotdiv\" id=\"854f5bdd-df7e-469f-8a46-1be9f7ecc878\"></div>\n",
       "</div>"
      ]
     },
     "metadata": {},
     "output_type": "display_data"
    },
    {
     "data": {
      "application/javascript": [
       "(function(root) {\n",
       "  function embed_document(root) {\n",
       "    \n",
       "  var docs_json = {\"e27c62b9-c0fb-468c-8b4f-bfc56dba166f\":{\"roots\":{\"references\":[{\"attributes\":{},\"id\":\"1e5bddef-504a-4adf-bcf9-9e20389c986b\",\"type\":\"ResetTool\"},{\"attributes\":{\"active_drag\":\"auto\",\"active_inspect\":\"auto\",\"active_scroll\":\"auto\",\"active_tap\":\"auto\",\"tools\":[{\"id\":\"61abfb37-1d73-4f6a-8933-a40c38871ef1\",\"type\":\"HoverTool\"},{\"id\":\"cf536a50-0c2a-42f9-b675-98ff553fb512\",\"type\":\"SaveTool\"},{\"id\":\"705289e3-2a1d-4e65-9961-95576336706e\",\"type\":\"PanTool\"},{\"id\":\"259d4fac-0ef7-47dc-9137-4122dd7244e6\",\"type\":\"BoxZoomTool\"},{\"id\":\"1e5bddef-504a-4adf-bcf9-9e20389c986b\",\"type\":\"ResetTool\"},{\"id\":\"eaa519bb-83aa-4ed5-b11e-eca4fb0f3d5e\",\"type\":\"WheelZoomTool\"}]},\"id\":\"8c7b28a2-cd1e-4210-8a1d-deddd24ba4e3\",\"type\":\"Toolbar\"},{\"attributes\":{},\"id\":\"da2b59c4-29ba-4ef8-887c-081fec2a3813\",\"type\":\"LinearScale\"},{\"attributes\":{\"plot\":{\"id\":\"6a18f490-d762-4cfc-aec6-c6da3bf2dbe0\",\"subtype\":\"Figure\",\"type\":\"Plot\"},\"ticker\":{\"id\":\"e89c8d28-5099-4e58-9d9b-8ede9bbf61ef\",\"type\":\"BasicTicker\"}},\"id\":\"e4c1abbc-3765-4640-94b5-4e099b1a7844\",\"type\":\"Grid\"},{\"attributes\":{\"data_source\":{\"id\":\"fd523001-dfcb-4f29-a673-15b4f0980777\",\"type\":\"ColumnDataSource\"},\"glyph\":{\"id\":\"be41706b-eb59-4be2-818a-30f8a67bcb3d\",\"type\":\"Rect\"},\"hover_glyph\":null,\"muted_glyph\":null,\"nonselection_glyph\":{\"id\":\"969f70fd-50e5-454c-bc79-654da203a839\",\"type\":\"Rect\"},\"selection_glyph\":null,\"view\":{\"id\":\"51e0443f-54ae-48e6-bd32-b22e7c86758f\",\"type\":\"CDSView\"}},\"id\":\"d597f974-6ff5-4c26-8481-b520bf40fcd0\",\"type\":\"GlyphRenderer\"},{\"attributes\":{\"callback\":null},\"id\":\"9f021485-0264-4dba-ad9b-0ea8bde8ea91\",\"type\":\"DataRange1d\"},{\"attributes\":{\"callback\":null},\"id\":\"b4b3b1b5-454d-4f23-9f75-b9a49c57b98d\",\"type\":\"DataRange1d\"},{\"attributes\":{\"plot\":null,\"text\":\"Profit Heatmap by Year and Month\"},\"id\":\"1b90bca2-f48d-4310-9e35-6fb7c44ddd2a\",\"type\":\"Title\"},{\"attributes\":{\"high\":278616248.0,\"low\":-23890960.0,\"palette\":[\"#2166ac\",\"#4393c3\",\"#92c5de\",\"#d1e5f0\",\"#f7f7f7\",\"#fddbc7\",\"#f4a582\",\"#d6604d\",\"#b2182b\"]},\"id\":\"e4f98994-0969-459a-a784-8b740f671ec4\",\"type\":\"LinearColorMapper\"},{\"attributes\":{},\"id\":\"1632c4d1-e897-4f99-a3a1-2577dd1b4da8\",\"type\":\"LinearScale\"},{\"attributes\":{\"overlay\":{\"id\":\"fc0db045-d460-44fc-897a-5b88d89ce072\",\"type\":\"BoxAnnotation\"}},\"id\":\"259d4fac-0ef7-47dc-9137-4122dd7244e6\",\"type\":\"BoxZoomTool\"},{\"attributes\":{\"dimension\":1,\"plot\":{\"id\":\"6a18f490-d762-4cfc-aec6-c6da3bf2dbe0\",\"subtype\":\"Figure\",\"type\":\"Plot\"},\"ticker\":{\"id\":\"438bce74-ca88-484f-8a08-f10a264c9719\",\"type\":\"BasicTicker\"}},\"id\":\"4a96a1c2-d0a1-44f5-8647-a2f13b87ad70\",\"type\":\"Grid\"},{\"attributes\":{\"desired_num_ticks\":9},\"id\":\"5ba87821-4dc6-4e4c-a568-a7c74f42411e\",\"type\":\"BasicTicker\"},{\"attributes\":{\"callback\":null,\"column_names\":[\"year\",\"month\",\"profit\",\"index\"],\"data\":{\"index\":[0,1,2,3,4,5,6,7,8,9,10,11,12,13,14,15,16,17,18,19,20,21,22,23,24,25,26,27,28,29,30,31,32,33,34,35,36,37,38,39,40,41,42,43,44,45,46,47,48,49,50,51,52,53,54,55,56,57,58,59,60,61,62,63,64,65,66,67,68,69,70,71,72,73,74,75,76,77,78,79,80,81,82,83,84,85,86,87,88,89,90,91,92,93,94,95,96,97,98,99,100,101,102,103,104,105,106,107,108,109,110,111,112,113,114,115,116,117,118,119,120,121,122,123,124,125,126,127,128,129,130,131,132,133,134,135,136,137,138,139,140,141,142,143,144,145,146,147,148,149,150,151,152,153,154,155,156,157,158,159,160,161,162,163,164,165,166,167,168,169,170,171,172,173,174,175,176,177,178,179,180,181,182,183,184,185,186,187,188,189,190,191,192,193,194,195,196,197,198,199,200,201,202,203,204,205,206,207,208,209,210,211,212,213,214,215,216,217,218,219,220,221,222,223,224,225,226,227,228,229,230,231,232,233,234,235,236,237,238,239,240,241,242,243,244,245,246,247,248,249,250,251,252,253,254,255,256,257,258,259,260,261,262,263,264,265,266,267,268,269,270,271,272,273,274,275,276,277,278,279,280,281,282,283,284,285,286,287,288,289,290,291,292,293,294,295,296,297,298,299,300,301,302,303,304,305],\"month\":[1,2,3,5,6,7,8,9,10,11,12,2,3,5,6,7,8,9,10,11,12,1,2,3,4,5,6,7,8,9,10,11,12,2,3,4,5,6,7,8,9,10,11,12,1,2,3,4,5,6,7,8,9,10,11,12,1,2,3,4,5,6,7,8,9,10,11,12,1,2,3,4,5,6,7,8,9,10,11,12,1,2,3,4,5,6,7,8,9,10,11,12,1,2,3,4,5,6,7,8,9,10,11,12,1,2,3,4,5,6,7,8,9,10,11,12,1,2,3,4,5,6,7,8,9,10,11,12,1,2,3,4,5,6,7,8,9,10,11,12,1,2,3,4,5,6,7,8,9,10,11,12,1,2,3,4,5,6,7,8,9,10,11,12,1,2,3,4,5,6,7,8,9,10,11,12,1,2,3,4,5,6,7,8,9,10,11,12,1,2,3,4,5,6,7,8,9,10,11,12,1,2,3,4,5,6,7,8,9,10,11,12,1,2,3,4,5,6,7,8,9,10,11,12,1,2,3,4,5,6,7,8,9,10,11,12,1,2,3,4,5,6,7,8,9,10,11,12,1,2,3,4,5,6,7,8,9,10,11,12,1,2,3,4,5,6,7,8,9,10,11,12,1,2,3,4,5,6,7,8,9,10,11,12,1,2,3,4,5,6,7,8,9,10,11,12,1,2,3,4,5,6,7,8,9,10],\"profit\":{\"__ndarray__\":\"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\",\"dtype\":\"float64\",\"shape\":[306]},\"year\":[1991,1991,1991,1991,1991,1991,1991,1991,1991,1991,1991,1992,1992,1992,1992,1992,1992,1992,1992,1992,1992,1993,1993,1993,1993,1993,1993,1993,1993,1993,1993,1993,1993,1994,1994,1994,1994,1994,1994,1994,1994,1994,1994,1994,1995,1995,1995,1995,1995,1995,1995,1995,1995,1995,1995,1995,1996,1996,1996,1996,1996,1996,1996,1996,1996,1996,1996,1996,1997,1997,1997,1997,1997,1997,1997,1997,1997,1997,1997,1997,1998,1998,1998,1998,1998,1998,1998,1998,1998,1998,1998,1998,1999,1999,1999,1999,1999,1999,1999,1999,1999,1999,1999,1999,2000,2000,2000,2000,2000,2000,2000,2000,2000,2000,2000,2000,2001,2001,2001,2001,2001,2001,2001,2001,2001,2001,2001,2001,2002,2002,2002,2002,2002,2002,2002,2002,2002,2002,2002,2002,2003,2003,2003,2003,2003,2003,2003,2003,2003,2003,2003,2003,2004,2004,2004,2004,2004,2004,2004,2004,2004,2004,2004,2004,2005,2005,2005,2005,2005,2005,2005,2005,2005,2005,2005,2005,2006,2006,2006,2006,2006,2006,2006,2006,2006,2006,2006,2006,2007,2007,2007,2007,2007,2007,2007,2007,2007,2007,2007,2007,2008,2008,2008,2008,2008,2008,2008,2008,2008,2008,2008,2008,2009,2009,2009,2009,2009,2009,2009,2009,2009,2009,2009,2009,2010,2010,2010,2010,2010,2010,2010,2010,2010,2010,2010,2010,2011,2011,2011,2011,2011,2011,2011,2011,2011,2011,2011,2011,2012,2012,2012,2012,2012,2012,2012,2012,2012,2012,2012,2012,2013,2013,2013,2013,2013,2013,2013,2013,2013,2013,2013,2013,2014,2014,2014,2014,2014,2014,2014,2014,2014,2014,2014,2014,2015,2015,2015,2015,2015,2015,2015,2015,2015,2015,2015,2015,2016,2016,2016,2016,2016,2016,2016,2016,2016,2016]},\"selected\":null,\"selection_policy\":null},\"id\":\"fd523001-dfcb-4f29-a673-15b4f0980777\",\"type\":\"ColumnDataSource\"},{\"attributes\":{},\"id\":\"e89c8d28-5099-4e58-9d9b-8ede9bbf61ef\",\"type\":\"BasicTicker\"},{\"attributes\":{\"bottom_units\":\"screen\",\"fill_alpha\":{\"value\":0.5},\"fill_color\":{\"value\":\"lightgrey\"},\"left_units\":\"screen\",\"level\":\"overlay\",\"line_alpha\":{\"value\":1.0},\"line_color\":{\"value\":\"black\"},\"line_dash\":[4,4],\"line_width\":{\"value\":2},\"plot\":null,\"render_mode\":\"css\",\"right_units\":\"screen\",\"top_units\":\"screen\"},\"id\":\"fc0db045-d460-44fc-897a-5b88d89ce072\",\"type\":\"BoxAnnotation\"},{\"attributes\":{\"fill_alpha\":{\"value\":0.1},\"fill_color\":{\"value\":\"#1f77b4\"},\"height\":{\"units\":\"data\",\"value\":1},\"line_alpha\":{\"value\":0.1},\"line_color\":{\"value\":\"#1f77b4\"},\"width\":{\"units\":\"data\",\"value\":1},\"x\":{\"field\":\"year\"},\"y\":{\"field\":\"month\"}},\"id\":\"969f70fd-50e5-454c-bc79-654da203a839\",\"type\":\"Rect\"},{\"attributes\":{\"axis_label\":\"Year\",\"formatter\":{\"id\":\"42f2a412-5e15-46a2-aa38-637a1e45cc52\",\"type\":\"BasicTickFormatter\"},\"plot\":{\"id\":\"6a18f490-d762-4cfc-aec6-c6da3bf2dbe0\",\"subtype\":\"Figure\",\"type\":\"Plot\"},\"ticker\":{\"id\":\"e89c8d28-5099-4e58-9d9b-8ede9bbf61ef\",\"type\":\"BasicTicker\"}},\"id\":\"a3be4e73-1340-437d-be88-f467e2884f5e\",\"type\":\"LinearAxis\"},{\"attributes\":{\"color_mapper\":{\"id\":\"e4f98994-0969-459a-a784-8b740f671ec4\",\"type\":\"LinearColorMapper\"},\"formatter\":{\"id\":\"407ce623-029a-452b-bdcf-2fcf932824b1\",\"type\":\"BasicTickFormatter\"},\"location\":[18,0],\"plot\":{\"id\":\"6a18f490-d762-4cfc-aec6-c6da3bf2dbe0\",\"subtype\":\"Figure\",\"type\":\"Plot\"},\"ticker\":{\"id\":\"5ba87821-4dc6-4e4c-a568-a7c74f42411e\",\"type\":\"BasicTicker\"}},\"id\":\"d7b56c0d-ba87-4614-bb38-b0ad414c5ccd\",\"type\":\"ColorBar\"},{\"attributes\":{},\"id\":\"42f2a412-5e15-46a2-aa38-637a1e45cc52\",\"type\":\"BasicTickFormatter\"},{\"attributes\":{\"axis_label\":\"Month\",\"formatter\":{\"id\":\"e84cb0ba-c5ec-4fcc-8064-7b1906f94ea0\",\"type\":\"BasicTickFormatter\"},\"plot\":{\"id\":\"6a18f490-d762-4cfc-aec6-c6da3bf2dbe0\",\"subtype\":\"Figure\",\"type\":\"Plot\"},\"ticker\":{\"id\":\"438bce74-ca88-484f-8a08-f10a264c9719\",\"type\":\"BasicTicker\"}},\"id\":\"3aaf300c-d2d0-460b-9def-2c918933279d\",\"type\":\"LinearAxis\"},{\"attributes\":{\"below\":[{\"id\":\"a3be4e73-1340-437d-be88-f467e2884f5e\",\"type\":\"LinearAxis\"}],\"left\":[{\"id\":\"3aaf300c-d2d0-460b-9def-2c918933279d\",\"type\":\"LinearAxis\"}],\"plot_width\":900,\"renderers\":[{\"id\":\"a3be4e73-1340-437d-be88-f467e2884f5e\",\"type\":\"LinearAxis\"},{\"id\":\"e4c1abbc-3765-4640-94b5-4e099b1a7844\",\"type\":\"Grid\"},{\"id\":\"3aaf300c-d2d0-460b-9def-2c918933279d\",\"type\":\"LinearAxis\"},{\"id\":\"4a96a1c2-d0a1-44f5-8647-a2f13b87ad70\",\"type\":\"Grid\"},{\"id\":\"fc0db045-d460-44fc-897a-5b88d89ce072\",\"type\":\"BoxAnnotation\"},{\"id\":\"d597f974-6ff5-4c26-8481-b520bf40fcd0\",\"type\":\"GlyphRenderer\"},{\"id\":\"d7b56c0d-ba87-4614-bb38-b0ad414c5ccd\",\"type\":\"ColorBar\"}],\"right\":[{\"id\":\"d7b56c0d-ba87-4614-bb38-b0ad414c5ccd\",\"type\":\"ColorBar\"}],\"title\":{\"id\":\"1b90bca2-f48d-4310-9e35-6fb7c44ddd2a\",\"type\":\"Title\"},\"toolbar\":{\"id\":\"8c7b28a2-cd1e-4210-8a1d-deddd24ba4e3\",\"type\":\"Toolbar\"},\"x_range\":{\"id\":\"9f021485-0264-4dba-ad9b-0ea8bde8ea91\",\"type\":\"DataRange1d\"},\"x_scale\":{\"id\":\"1632c4d1-e897-4f99-a3a1-2577dd1b4da8\",\"type\":\"LinearScale\"},\"y_range\":{\"id\":\"b4b3b1b5-454d-4f23-9f75-b9a49c57b98d\",\"type\":\"DataRange1d\"},\"y_scale\":{\"id\":\"da2b59c4-29ba-4ef8-887c-081fec2a3813\",\"type\":\"LinearScale\"}},\"id\":\"6a18f490-d762-4cfc-aec6-c6da3bf2dbe0\",\"subtype\":\"Figure\",\"type\":\"Plot\"},{\"attributes\":{},\"id\":\"e84cb0ba-c5ec-4fcc-8064-7b1906f94ea0\",\"type\":\"BasicTickFormatter\"},{\"attributes\":{\"fill_color\":{\"field\":\"profit\",\"transform\":{\"id\":\"e4f98994-0969-459a-a784-8b740f671ec4\",\"type\":\"LinearColorMapper\"}},\"height\":{\"units\":\"data\",\"value\":1},\"line_color\":{\"value\":\"#1f77b4\"},\"width\":{\"units\":\"data\",\"value\":1},\"x\":{\"field\":\"year\"},\"y\":{\"field\":\"month\"}},\"id\":\"be41706b-eb59-4be2-818a-30f8a67bcb3d\",\"type\":\"Rect\"},{\"attributes\":{},\"id\":\"438bce74-ca88-484f-8a08-f10a264c9719\",\"type\":\"BasicTicker\"},{\"attributes\":{\"callback\":null},\"id\":\"61abfb37-1d73-4f6a-8933-a40c38871ef1\",\"type\":\"HoverTool\"},{\"attributes\":{\"source\":{\"id\":\"fd523001-dfcb-4f29-a673-15b4f0980777\",\"type\":\"ColumnDataSource\"}},\"id\":\"51e0443f-54ae-48e6-bd32-b22e7c86758f\",\"type\":\"CDSView\"},{\"attributes\":{},\"id\":\"407ce623-029a-452b-bdcf-2fcf932824b1\",\"type\":\"BasicTickFormatter\"},{\"attributes\":{},\"id\":\"705289e3-2a1d-4e65-9961-95576336706e\",\"type\":\"PanTool\"},{\"attributes\":{},\"id\":\"cf536a50-0c2a-42f9-b675-98ff553fb512\",\"type\":\"SaveTool\"},{\"attributes\":{},\"id\":\"eaa519bb-83aa-4ed5-b11e-eca4fb0f3d5e\",\"type\":\"WheelZoomTool\"}],\"root_ids\":[\"6a18f490-d762-4cfc-aec6-c6da3bf2dbe0\"]},\"title\":\"Bokeh Application\",\"version\":\"0.12.15\"}};\n",
       "  var render_items = [{\"docid\":\"e27c62b9-c0fb-468c-8b4f-bfc56dba166f\",\"elementid\":\"854f5bdd-df7e-469f-8a46-1be9f7ecc878\",\"modelid\":\"6a18f490-d762-4cfc-aec6-c6da3bf2dbe0\"}];\n",
       "  root.Bokeh.embed.embed_items_notebook(docs_json, render_items);\n",
       "\n",
       "  }\n",
       "  if (root.Bokeh !== undefined) {\n",
       "    embed_document(root);\n",
       "  } else {\n",
       "    var attempts = 0;\n",
       "    var timer = setInterval(function(root) {\n",
       "      if (root.Bokeh !== undefined) {\n",
       "        embed_document(root);\n",
       "        clearInterval(timer);\n",
       "      }\n",
       "      attempts++;\n",
       "      if (attempts > 100) {\n",
       "        console.log(\"Bokeh: ERROR: Unable to run BokehJS code because BokehJS library is missing\")\n",
       "        clearInterval(timer);\n",
       "      }\n",
       "    }, 10, root)\n",
       "  }\n",
       "})(window);"
      ],
      "application/vnd.bokehjs_exec.v0+json": ""
     },
     "metadata": {
      "application/vnd.bokehjs_exec.v0+json": {
       "id": "6a18f490-d762-4cfc-aec6-c6da3bf2dbe0"
      }
     },
     "output_type": "display_data"
    }
   ],
   "source": [
    "newdata = ColumnDataSource(profit_by_month_year)\n",
    "\n",
    "mapper = LinearColorMapper(palette=bokeh.palettes.RdBu[9], \n",
    "                           low=profit_by_month_year[\"profit\"].min(), high=profit_by_month_year[\"profit\"].max())\n",
    "\n",
    "TOOLS = \"hover,save,pan,box_zoom,reset,wheel_zoom\"\n",
    "\n",
    "p = figure(title = \"Profit Heatmap by Year and Month\",\n",
    "           x_axis_label = 'Year', \n",
    "           y_axis_label = 'Month',\n",
    "           tools=TOOLS,\n",
    "           plot_width = 900)\n",
    "\n",
    "p.rect(x=\"year\", y=\"month\",width=1, height=1,source = newdata,\n",
    "       fill_color={'field': 'profit', 'transform': mapper})\n",
    "\n",
    "color_bar = ColorBar(color_mapper=mapper, location=(18, 0),\n",
    "                     ticker=BasicTicker(desired_num_ticks=9))\n",
    "\n",
    "p.add_layout(color_bar, 'right')\n",
    "show(p)"
   ]
  },
  {
   "cell_type": "code",
   "execution_count": 10,
   "metadata": {
    "collapsed": true
   },
   "outputs": [],
   "source": [
    "profit_by_dow= data[data[\"year\"]>1990].groupby([\"dow\"]).profit.mean().reset_index()"
   ]
  },
  {
   "cell_type": "code",
   "execution_count": 12,
   "metadata": {},
   "outputs": [
    {
     "data": {
      "text/html": [
       "\n",
       "<div class=\"bk-root\">\n",
       "    <div class=\"bk-plotdiv\" id=\"0cb5dd23-f0e3-46e2-aac7-e15854152a4d\"></div>\n",
       "</div>"
      ]
     },
     "metadata": {},
     "output_type": "display_data"
    },
    {
     "data": {
      "application/javascript": [
       "(function(root) {\n",
       "  function embed_document(root) {\n",
       "    \n",
       "  var docs_json = {\"42861e89-871a-4dd6-b56e-7b300fe7c604\":{\"roots\":{\"references\":[{\"attributes\":{\"plot\":{\"id\":\"e37ff01d-1812-4182-9960-155cb7cbf051\",\"subtype\":\"Figure\",\"type\":\"Plot\"},\"ticker\":{\"id\":\"524e0ba7-94d3-4258-bfd6-7fb52bf41313\",\"type\":\"BasicTicker\"}},\"id\":\"0555b9e2-1b12-494e-a1df-36d1e8593cda\",\"type\":\"Grid\"},{\"attributes\":{\"plot\":null,\"text\":\"Profit vs the Day of Week\"},\"id\":\"1e05283e-0b51-430f-8e06-ecdc20a7ca29\",\"type\":\"Title\"},{\"attributes\":{\"callback\":null},\"id\":\"2c6b9af6-5ab6-4407-8078-8326f4419db5\",\"type\":\"DataRange1d\"},{\"attributes\":{\"axis_label\":\"DOW\",\"formatter\":{\"id\":\"989517a7-bd75-4250-87be-78200f0114a9\",\"type\":\"BasicTickFormatter\"},\"plot\":{\"id\":\"e37ff01d-1812-4182-9960-155cb7cbf051\",\"subtype\":\"Figure\",\"type\":\"Plot\"},\"ticker\":{\"id\":\"524e0ba7-94d3-4258-bfd6-7fb52bf41313\",\"type\":\"BasicTicker\"}},\"id\":\"75944752-85b0-4334-aa09-d8109e564f9f\",\"type\":\"LinearAxis\"},{\"attributes\":{\"axis_label\":\"Profit\",\"formatter\":{\"id\":\"f4295011-2fff-495a-8d1e-e75610590c07\",\"type\":\"BasicTickFormatter\"},\"plot\":{\"id\":\"e37ff01d-1812-4182-9960-155cb7cbf051\",\"subtype\":\"Figure\",\"type\":\"Plot\"},\"ticker\":{\"id\":\"f791a2cb-69e9-40da-9c17-d13795d1baee\",\"type\":\"BasicTicker\"}},\"id\":\"198d5aa8-4112-4cc3-b4da-222915f8a4d2\",\"type\":\"LinearAxis\"},{\"attributes\":{},\"id\":\"c8a262c4-b611-4944-ac65-91f571613fa9\",\"type\":\"ResetTool\"},{\"attributes\":{\"callback\":null,\"column_names\":[\"x\",\"top\"],\"data\":{\"top\":{\"__ndarray__\":\"pkMNBuDpj0EtJWywbN+UQS1kIX/ZJJhBZRB5Vk2JjkGT+X26ce17QYy3soeHgoRBjvrO7lT/fUE=\",\"dtype\":\"float64\",\"shape\":[7]},\"x\":[0,1,2,3,4,5,6]},\"selected\":null,\"selection_policy\":null},\"id\":\"2ea81499-bcbb-4c73-bc00-f815e4832e3c\",\"type\":\"ColumnDataSource\"},{\"attributes\":{},\"id\":\"02b7c740-fd4f-4a23-a765-a45686946f3b\",\"type\":\"WheelZoomTool\"},{\"attributes\":{\"bottom_units\":\"screen\",\"fill_alpha\":{\"value\":0.5},\"fill_color\":{\"value\":\"lightgrey\"},\"left_units\":\"screen\",\"level\":\"overlay\",\"line_alpha\":{\"value\":1.0},\"line_color\":{\"value\":\"black\"},\"line_dash\":[4,4],\"line_width\":{\"value\":2},\"plot\":null,\"render_mode\":\"css\",\"right_units\":\"screen\",\"top_units\":\"screen\"},\"id\":\"dd11bcff-f2f3-4a33-9a38-0f236923e864\",\"type\":\"BoxAnnotation\"},{\"attributes\":{\"fill_alpha\":{\"value\":0.1},\"fill_color\":{\"value\":\"#1f77b4\"},\"line_alpha\":{\"value\":0.1},\"line_color\":{\"value\":\"#1f77b4\"},\"top\":{\"field\":\"top\"},\"width\":{\"value\":1},\"x\":{\"field\":\"x\"}},\"id\":\"a0a1eb46-6245-4635-adf0-ce266d6b7089\",\"type\":\"VBar\"},{\"attributes\":{\"overlay\":{\"id\":\"dd11bcff-f2f3-4a33-9a38-0f236923e864\",\"type\":\"BoxAnnotation\"}},\"id\":\"4f672c0b-1c6d-4076-9f53-f11f722eb6ba\",\"type\":\"BoxZoomTool\"},{\"attributes\":{\"dimension\":1,\"plot\":{\"id\":\"e37ff01d-1812-4182-9960-155cb7cbf051\",\"subtype\":\"Figure\",\"type\":\"Plot\"},\"ticker\":{\"id\":\"f791a2cb-69e9-40da-9c17-d13795d1baee\",\"type\":\"BasicTicker\"}},\"id\":\"a6dee7ee-496b-4e40-be6d-28389e8ae91d\",\"type\":\"Grid\"},{\"attributes\":{},\"id\":\"f791a2cb-69e9-40da-9c17-d13795d1baee\",\"type\":\"BasicTicker\"},{\"attributes\":{\"fill_color\":{\"value\":\"#1f77b4\"},\"line_color\":{\"value\":\"white\"},\"top\":{\"field\":\"top\"},\"width\":{\"value\":1},\"x\":{\"field\":\"x\"}},\"id\":\"62d2f93a-7b2f-4be9-85c9-edac6ed64214\",\"type\":\"VBar\"},{\"attributes\":{},\"id\":\"4d1d718a-544d-42a8-970f-2b41bcb93191\",\"type\":\"PanTool\"},{\"attributes\":{},\"id\":\"989517a7-bd75-4250-87be-78200f0114a9\",\"type\":\"BasicTickFormatter\"},{\"attributes\":{\"below\":[{\"id\":\"75944752-85b0-4334-aa09-d8109e564f9f\",\"type\":\"LinearAxis\"}],\"left\":[{\"id\":\"198d5aa8-4112-4cc3-b4da-222915f8a4d2\",\"type\":\"LinearAxis\"}],\"renderers\":[{\"id\":\"75944752-85b0-4334-aa09-d8109e564f9f\",\"type\":\"LinearAxis\"},{\"id\":\"0555b9e2-1b12-494e-a1df-36d1e8593cda\",\"type\":\"Grid\"},{\"id\":\"198d5aa8-4112-4cc3-b4da-222915f8a4d2\",\"type\":\"LinearAxis\"},{\"id\":\"a6dee7ee-496b-4e40-be6d-28389e8ae91d\",\"type\":\"Grid\"},{\"id\":\"dd11bcff-f2f3-4a33-9a38-0f236923e864\",\"type\":\"BoxAnnotation\"},{\"id\":\"9e5dc2ca-338c-4110-b16f-c28b4bb52215\",\"type\":\"GlyphRenderer\"}],\"title\":{\"id\":\"1e05283e-0b51-430f-8e06-ecdc20a7ca29\",\"type\":\"Title\"},\"toolbar\":{\"id\":\"dd7aa577-c9b0-45d4-b5f5-619c8334329c\",\"type\":\"Toolbar\"},\"x_range\":{\"id\":\"2c6b9af6-5ab6-4407-8078-8326f4419db5\",\"type\":\"DataRange1d\"},\"x_scale\":{\"id\":\"5a674176-096a-4c4b-b9f4-d4216c5f6ace\",\"type\":\"LinearScale\"},\"y_range\":{\"id\":\"eb326657-b09c-4521-8751-ea8c7dac6d66\",\"type\":\"DataRange1d\"},\"y_scale\":{\"id\":\"04e4fd8c-9ad4-4026-bb65-da07fb49be27\",\"type\":\"LinearScale\"}},\"id\":\"e37ff01d-1812-4182-9960-155cb7cbf051\",\"subtype\":\"Figure\",\"type\":\"Plot\"},{\"attributes\":{},\"id\":\"5a674176-096a-4c4b-b9f4-d4216c5f6ace\",\"type\":\"LinearScale\"},{\"attributes\":{},\"id\":\"04e4fd8c-9ad4-4026-bb65-da07fb49be27\",\"type\":\"LinearScale\"},{\"attributes\":{\"callback\":null},\"id\":\"eb326657-b09c-4521-8751-ea8c7dac6d66\",\"type\":\"DataRange1d\"},{\"attributes\":{},\"id\":\"59a763dc-d6d5-40e1-a9be-70b6795ab30f\",\"type\":\"SaveTool\"},{\"attributes\":{\"data_source\":{\"id\":\"2ea81499-bcbb-4c73-bc00-f815e4832e3c\",\"type\":\"ColumnDataSource\"},\"glyph\":{\"id\":\"62d2f93a-7b2f-4be9-85c9-edac6ed64214\",\"type\":\"VBar\"},\"hover_glyph\":null,\"muted_glyph\":null,\"nonselection_glyph\":{\"id\":\"a0a1eb46-6245-4635-adf0-ce266d6b7089\",\"type\":\"VBar\"},\"selection_glyph\":null,\"view\":{\"id\":\"ad74d76c-e7df-42f7-b3ec-5a873663768a\",\"type\":\"CDSView\"}},\"id\":\"9e5dc2ca-338c-4110-b16f-c28b4bb52215\",\"type\":\"GlyphRenderer\"},{\"attributes\":{\"active_drag\":\"auto\",\"active_inspect\":\"auto\",\"active_scroll\":\"auto\",\"active_tap\":\"auto\",\"tools\":[{\"id\":\"2c0715a7-62b2-42f1-8947-bbf40fe81ebb\",\"type\":\"HoverTool\"},{\"id\":\"59a763dc-d6d5-40e1-a9be-70b6795ab30f\",\"type\":\"SaveTool\"},{\"id\":\"4d1d718a-544d-42a8-970f-2b41bcb93191\",\"type\":\"PanTool\"},{\"id\":\"4f672c0b-1c6d-4076-9f53-f11f722eb6ba\",\"type\":\"BoxZoomTool\"},{\"id\":\"c8a262c4-b611-4944-ac65-91f571613fa9\",\"type\":\"ResetTool\"},{\"id\":\"02b7c740-fd4f-4a23-a765-a45686946f3b\",\"type\":\"WheelZoomTool\"}]},\"id\":\"dd7aa577-c9b0-45d4-b5f5-619c8334329c\",\"type\":\"Toolbar\"},{\"attributes\":{\"callback\":null},\"id\":\"2c0715a7-62b2-42f1-8947-bbf40fe81ebb\",\"type\":\"HoverTool\"},{\"attributes\":{\"source\":{\"id\":\"2ea81499-bcbb-4c73-bc00-f815e4832e3c\",\"type\":\"ColumnDataSource\"}},\"id\":\"ad74d76c-e7df-42f7-b3ec-5a873663768a\",\"type\":\"CDSView\"},{\"attributes\":{},\"id\":\"f4295011-2fff-495a-8d1e-e75610590c07\",\"type\":\"BasicTickFormatter\"},{\"attributes\":{},\"id\":\"524e0ba7-94d3-4258-bfd6-7fb52bf41313\",\"type\":\"BasicTicker\"}],\"root_ids\":[\"e37ff01d-1812-4182-9960-155cb7cbf051\"]},\"title\":\"Bokeh Application\",\"version\":\"0.12.15\"}};\n",
       "  var render_items = [{\"docid\":\"42861e89-871a-4dd6-b56e-7b300fe7c604\",\"elementid\":\"0cb5dd23-f0e3-46e2-aac7-e15854152a4d\",\"modelid\":\"e37ff01d-1812-4182-9960-155cb7cbf051\"}];\n",
       "  root.Bokeh.embed.embed_items_notebook(docs_json, render_items);\n",
       "\n",
       "  }\n",
       "  if (root.Bokeh !== undefined) {\n",
       "    embed_document(root);\n",
       "  } else {\n",
       "    var attempts = 0;\n",
       "    var timer = setInterval(function(root) {\n",
       "      if (root.Bokeh !== undefined) {\n",
       "        embed_document(root);\n",
       "        clearInterval(timer);\n",
       "      }\n",
       "      attempts++;\n",
       "      if (attempts > 100) {\n",
       "        console.log(\"Bokeh: ERROR: Unable to run BokehJS code because BokehJS library is missing\")\n",
       "        clearInterval(timer);\n",
       "      }\n",
       "    }, 10, root)\n",
       "  }\n",
       "})(window);"
      ],
      "application/vnd.bokehjs_exec.v0+json": ""
     },
     "metadata": {
      "application/vnd.bokehjs_exec.v0+json": {
       "id": "e37ff01d-1812-4182-9960-155cb7cbf051"
      }
     },
     "output_type": "display_data"
    }
   ],
   "source": [
    "TOOLS = \"hover,save,pan,box_zoom,reset,wheel_zoom\"\n",
    "\n",
    "p = figure(title = \"Profit vs the Day of Week\", \n",
    "           x_axis_label = 'DOW', \n",
    "           y_axis_label = 'Profit',\n",
    "           tools=TOOLS)\n",
    "\n",
    "p.vbar(x=profit_by_dow[\"dow\"],\n",
    "       top=profit_by_dow[\"profit\"], \n",
    "       width = 1,\n",
    "       line_color=\"white\" )\n",
    "\n",
    "show(p)"
   ]
  },
  {
   "cell_type": "markdown",
   "metadata": {},
   "source": [
    "### Genre Exploration"
   ]
  },
  {
   "cell_type": "code",
   "execution_count": 13,
   "metadata": {
    "collapsed": true
   },
   "outputs": [],
   "source": [
    "df1 = pd.concat([pd.Series(row['year'], row['genres'].replace('[','').replace(']','').replace(\"'\",\"\").split(','))              \n",
    "                    for _, row in data[data[\"year\"]>1990][[\"year\",\"genres\"]].iterrows()]).reset_index()\n",
    "df2 = pd.concat([pd.Series(row['profit'], row['genres'].replace('[','').replace(']','').replace(\"'\",\"\").split(','))              \n",
    "                    for _, row in data[data[\"year\"]>1990][[\"profit\",\"genres\"]].iterrows()]).reset_index()"
   ]
  },
  {
   "cell_type": "code",
   "execution_count": 14,
   "metadata": {
    "collapsed": true
   },
   "outputs": [],
   "source": [
    "df1.columns = [\"genres\",\"year\"]\n",
    "df2.columns = [\"genres\",\"profit\"]"
   ]
  },
  {
   "cell_type": "code",
   "execution_count": 15,
   "metadata": {},
   "outputs": [
    {
     "data": {
      "text/plain": [
       "((10723, 2), (10723, 2))"
      ]
     },
     "execution_count": 15,
     "metadata": {},
     "output_type": "execute_result"
    }
   ],
   "source": [
    "df1.shape, df2.shape"
   ]
  },
  {
   "cell_type": "code",
   "execution_count": 16,
   "metadata": {
    "collapsed": true
   },
   "outputs": [],
   "source": [
    "df1[\"profit\"] = df2[\"profit\"]\n",
    "df1[\"genres\"] = df1[\"genres\"].apply(lambda x: x.strip())\n",
    "del df2"
   ]
  },
  {
   "cell_type": "code",
   "execution_count": 17,
   "metadata": {},
   "outputs": [
    {
     "data": {
      "text/html": [
       "<div>\n",
       "<style scoped>\n",
       "    .dataframe tbody tr th:only-of-type {\n",
       "        vertical-align: middle;\n",
       "    }\n",
       "\n",
       "    .dataframe tbody tr th {\n",
       "        vertical-align: top;\n",
       "    }\n",
       "\n",
       "    .dataframe thead th {\n",
       "        text-align: right;\n",
       "    }\n",
       "</style>\n",
       "<table border=\"1\" class=\"dataframe\">\n",
       "  <thead>\n",
       "    <tr style=\"text-align: right;\">\n",
       "      <th></th>\n",
       "      <th>genres</th>\n",
       "      <th>year</th>\n",
       "      <th>profit</th>\n",
       "    </tr>\n",
       "  </thead>\n",
       "  <tbody>\n",
       "    <tr>\n",
       "      <th>0</th>\n",
       "      <td>Action</td>\n",
       "      <td>2009</td>\n",
       "      <td>2550965087</td>\n",
       "    </tr>\n",
       "    <tr>\n",
       "      <th>1</th>\n",
       "      <td>Adventure</td>\n",
       "      <td>2009</td>\n",
       "      <td>2550965087</td>\n",
       "    </tr>\n",
       "    <tr>\n",
       "      <th>2</th>\n",
       "      <td>Fantasy</td>\n",
       "      <td>2009</td>\n",
       "      <td>2550965087</td>\n",
       "    </tr>\n",
       "  </tbody>\n",
       "</table>\n",
       "</div>"
      ],
      "text/plain": [
       "      genres  year      profit\n",
       "0     Action  2009  2550965087\n",
       "1  Adventure  2009  2550965087\n",
       "2    Fantasy  2009  2550965087"
      ]
     },
     "execution_count": 17,
     "metadata": {},
     "output_type": "execute_result"
    }
   ],
   "source": [
    "df1.head(3)"
   ]
  },
  {
   "cell_type": "code",
   "execution_count": 18,
   "metadata": {},
   "outputs": [
    {
     "data": {
      "text/plain": [
       "genres\n",
       "Drama              2040\n",
       "Comedy             1571\n",
       "Thriller           1146\n",
       "Action             1003\n",
       "Romance             793\n",
       "Adventure           657\n",
       "Crime               632\n",
       "Family              467\n",
       "Science Fiction     439\n",
       "Horror              432\n",
       "dtype: int64"
      ]
     },
     "execution_count": 18,
     "metadata": {},
     "output_type": "execute_result"
    }
   ],
   "source": [
    "df1.groupby([\"genres\"]).size().sort_values(ascending=False)[:10]"
   ]
  },
  {
   "cell_type": "code",
   "execution_count": 19,
   "metadata": {
    "collapsed": true
   },
   "outputs": [],
   "source": [
    "genres = [\"Drama\",\"Comedy\",\"Thriller\",\"Action\",\"Romance\",\"Adventure\",\"Crime\",\"Science\", \"Fiction\",\"Horror\",\"Family\"]"
   ]
  },
  {
   "cell_type": "code",
   "execution_count": 20,
   "metadata": {
    "collapsed": true
   },
   "outputs": [],
   "source": [
    "grouped_data = df1[df1[\"genres\"].isin(genres)].groupby([\"genres\",\"year\"]).profit.mean().reset_index()"
   ]
  },
  {
   "cell_type": "code",
   "execution_count": 21,
   "metadata": {},
   "outputs": [
    {
     "data": {
      "text/html": [
       "<div>\n",
       "<style scoped>\n",
       "    .dataframe tbody tr th:only-of-type {\n",
       "        vertical-align: middle;\n",
       "    }\n",
       "\n",
       "    .dataframe tbody tr th {\n",
       "        vertical-align: top;\n",
       "    }\n",
       "\n",
       "    .dataframe thead th {\n",
       "        text-align: right;\n",
       "    }\n",
       "</style>\n",
       "<table border=\"1\" class=\"dataframe\">\n",
       "  <thead>\n",
       "    <tr style=\"text-align: right;\">\n",
       "      <th></th>\n",
       "      <th>genres</th>\n",
       "      <th>year</th>\n",
       "      <th>profit</th>\n",
       "    </tr>\n",
       "  </thead>\n",
       "  <tbody>\n",
       "    <tr>\n",
       "      <th>0</th>\n",
       "      <td>Action</td>\n",
       "      <td>1991</td>\n",
       "      <td>4.269032e+07</td>\n",
       "    </tr>\n",
       "    <tr>\n",
       "      <th>1</th>\n",
       "      <td>Action</td>\n",
       "      <td>1992</td>\n",
       "      <td>1.279588e+08</td>\n",
       "    </tr>\n",
       "    <tr>\n",
       "      <th>2</th>\n",
       "      <td>Action</td>\n",
       "      <td>1993</td>\n",
       "      <td>3.395408e+07</td>\n",
       "    </tr>\n",
       "  </tbody>\n",
       "</table>\n",
       "</div>"
      ],
      "text/plain": [
       "   genres  year        profit\n",
       "0  Action  1991  4.269032e+07\n",
       "1  Action  1992  1.279588e+08\n",
       "2  Action  1993  3.395408e+07"
      ]
     },
     "execution_count": 21,
     "metadata": {},
     "output_type": "execute_result"
    }
   ],
   "source": [
    "grouped_data.head(3)"
   ]
  },
  {
   "cell_type": "code",
   "execution_count": 22,
   "metadata": {},
   "outputs": [
    {
     "data": {
      "text/html": [
       "\n",
       "<div class=\"bk-root\">\n",
       "    <div class=\"bk-plotdiv\" id=\"2d742fd3-2814-4a8d-aef8-dd8df9c1a7e5\"></div>\n",
       "</div>"
      ]
     },
     "metadata": {},
     "output_type": "display_data"
    },
    {
     "data": {
      "application/javascript": [
       "(function(root) {\n",
       "  function embed_document(root) {\n",
       "    \n",
       "  var docs_json = {\"690b805b-50bd-4b77-a2b0-4ee2d1c82151\":{\"roots\":{\"references\":[{\"attributes\":{},\"id\":\"2005ddea-873f-4b8d-ab9e-33064089a824\",\"type\":\"LinearScale\"},{\"attributes\":{\"axis_label\":\"profit\",\"formatter\":{\"id\":\"01ab4261-da4f-4b07-9eab-d68dcf945ccc\",\"type\":\"BasicTickFormatter\"},\"plot\":{\"id\":\"ccd7fc62-3150-4a96-8450-9bb37121bdf5\",\"subtype\":\"Figure\",\"type\":\"Plot\"},\"ticker\":{\"id\":\"3d815eab-0126-43d3-9f96-57a8e2bc8947\",\"type\":\"BasicTicker\"}},\"id\":\"e73ae3f5-99e0-45a5-9a7d-c32ff4b6cbfa\",\"type\":\"LinearAxis\"},{\"attributes\":{\"source\":{\"id\":\"d2801539-eba7-48c5-93f1-f4d89cf70cbc\",\"type\":\"ColumnDataSource\"}},\"id\":\"e78bb717-5ba3-4139-a202-145facfd2b87\",\"type\":\"CDSView\"},{\"attributes\":{},\"id\":\"5e006caf-3f0d-41aa-9271-4ddb326828a4\",\"type\":\"BasicTicker\"},{\"attributes\":{\"line_alpha\":{\"value\":0.1},\"line_color\":{\"value\":\"#1f77b4\"},\"line_width\":{\"value\":3},\"xs\":{\"field\":\"xs\"},\"ys\":{\"field\":\"ys\"}},\"id\":\"c8c413ed-eb9f-43bf-bbd2-637555c637c4\",\"type\":\"MultiLine\"},{\"attributes\":{\"callback\":null},\"id\":\"c59175d3-3520-4885-abaa-099c02b08b2d\",\"type\":\"HoverTool\"},{\"attributes\":{\"below\":[{\"id\":\"be682ed2-f353-42fb-b6c3-227bd0653155\",\"type\":\"LinearAxis\"}],\"left\":[{\"id\":\"e73ae3f5-99e0-45a5-9a7d-c32ff4b6cbfa\",\"type\":\"LinearAxis\"}],\"plot_width\":1000,\"renderers\":[{\"id\":\"be682ed2-f353-42fb-b6c3-227bd0653155\",\"type\":\"LinearAxis\"},{\"id\":\"364bfda4-6662-48dd-a14b-48f67739c937\",\"type\":\"Grid\"},{\"id\":\"e73ae3f5-99e0-45a5-9a7d-c32ff4b6cbfa\",\"type\":\"LinearAxis\"},{\"id\":\"f9bebe8b-6f69-4724-a32d-44e39742abe0\",\"type\":\"Grid\"},{\"id\":\"b0b0dbcb-2b06-4364-b082-9c70849f5e35\",\"type\":\"BoxAnnotation\"},{\"id\":\"9c423b5b-4a00-4d0b-bb9a-e64fbfd04f74\",\"type\":\"Legend\"},{\"id\":\"489a8b3a-f4a1-4493-8b87-dc07c63acc8f\",\"type\":\"GlyphRenderer\"}],\"title\":{\"id\":\"972e90a4-84b0-4d14-96f7-04f67c8dafd5\",\"type\":\"Title\"},\"toolbar\":{\"id\":\"44037180-a75f-450c-80bf-8f8a339bfc4a\",\"type\":\"Toolbar\"},\"x_range\":{\"id\":\"a768572d-d51c-4c75-a1e2-272d4811daec\",\"type\":\"DataRange1d\"},\"x_scale\":{\"id\":\"d48b8398-01f9-46a9-80a9-d42b27886929\",\"type\":\"LinearScale\"},\"y_range\":{\"id\":\"7c9cd8cd-15cf-454a-ad1e-53f57b179be7\",\"type\":\"DataRange1d\"},\"y_scale\":{\"id\":\"2005ddea-873f-4b8d-ab9e-33064089a824\",\"type\":\"LinearScale\"}},\"id\":\"ccd7fc62-3150-4a96-8450-9bb37121bdf5\",\"subtype\":\"Figure\",\"type\":\"Plot\"},{\"attributes\":{\"active_drag\":\"auto\",\"active_inspect\":\"auto\",\"active_scroll\":\"auto\",\"active_tap\":\"auto\",\"tools\":[{\"id\":\"c59175d3-3520-4885-abaa-099c02b08b2d\",\"type\":\"HoverTool\"},{\"id\":\"64410252-2f6d-488c-a718-e0ef9e5b9fa0\",\"type\":\"SaveTool\"},{\"id\":\"0c4ada18-9c20-4314-9dca-c5857564f2bd\",\"type\":\"PanTool\"},{\"id\":\"16a0ed60-9599-41fa-8e71-db44168e78da\",\"type\":\"BoxZoomTool\"},{\"id\":\"50fd7fea-032b-45f2-ad6b-fa15960439d2\",\"type\":\"ResetTool\"},{\"id\":\"e1678907-5f81-4854-a205-7b245594e04b\",\"type\":\"WheelZoomTool\"}]},\"id\":\"44037180-a75f-450c-80bf-8f8a339bfc4a\",\"type\":\"Toolbar\"},{\"attributes\":{\"callback\":null,\"column_names\":[\"xs\",\"ys\",\"labels\",\"color\"],\"data\":{\"color\":[\"#1f77b4\",\"#ff7f0e\",\"#2ca02c\",\"#d62728\",\"#9467bd\",\"#8c564b\",\"#e377c2\",\"#7f7f7f\",\"#bcbd22\"],\"labels\":[\"Action\",\"Adventure\",\"Comedy\",\"Crime\",\"Drama\",\"Family\",\"Horror\",\"Romance\",\"Thriller\"],\"xs\":[[1991,1992,1993,1994,1995,1996,1997,1998,1999,2000,2001,2002,2003,2004,2005,2006,2007,2008,2009,2010,2011,2012,2013,2014,2015,2016],[1991,1992,1993,1994,1995,1996,1997,1998,1999,2000,2001,2002,2003,2004,2005,2006,2007,2008,2009,2010,2011,2012,2013,2014,2015,2016],[1991,1992,1993,1994,1995,1996,1997,1998,1999,2000,2001,2002,2003,2004,2005,2006,2007,2008,2009,2010,2011,2012,2013,2014,2015,2016],[1991,1992,1993,1994,1995,1996,1997,1998,1999,2000,2001,2002,2003,2004,2005,2006,2007,2008,2009,2010,2011,2012,2013,2014,2015,2016],[1991,1992,1993,1994,1995,1996,1997,1998,1999,2000,2001,2002,2003,2004,2005,2006,2007,2008,2009,2010,2011,2012,2013,2014,2015,2016],[1991,1992,1993,1994,1995,1996,1997,1998,1999,2000,2001,2002,2003,2004,2005,2006,2007,2008,2009,2010,2011,2012,2013,2014,2015,2016],[1991,1992,1993,1994,1995,1996,1997,1998,1999,2000,2001,2002,2003,2004,2005,2006,2007,2008,2009,2010,2011,2012,2013,2014,2015,2016],[1991,1992,1993,1994,1995,1996,1997,1998,1999,2000,2001,2002,2003,2004,2005,2006,2007,2008,2009,2010,2011,2012,2013,2014,2015,2016],[1991,1992,1993,1994,1995,1996,1997,1998,1999,2000,2001,2002,2003,2004,2005,2006,2007,2008,2009,2010,2011,2012,2013,2014,2015,2016]],\"ys\":[{\"__ndarray__\":\"jC66oDhbhEGrqqpy/IGeQQ8PDwfJMIBB9DzPM1CKikHXo3BtRdWPQXTRRcPOnppBU+SzNog5iEEfhetBQYGCQVyPwm0MwotBmpmZCKKoiEEnGG+NrWGHQbETO25ArJJBnud5mJ1hmkGQwfnsApWTQd/ZqA9xI4RBpHA9+k2/kEEvuuhu9GmUQZze9L6z5pZB8fDw0BjHm0F9aKzbiIWRQfc0woCMoJhB3BF3yrGApEGSJEnFubuXQQntJTCKqaVBvelNiWRFpEG+5Vu6Fp2gQQ==\",\"dtype\":\"float64\",\"shape\":[26]},{\"__ndarray__\":\"AAAAmMybjUEzMzPhdzWqQQAAAKBawplBchzHqYuvi0G66KK3QLGSQdu2bRpU3qFBC1nIejcfj0GrqqoObn+QQU/sxA4cfJVBAACADLeilEFVVVWtC7qfQQAAAKkNnZdBJUmShO6TnUEAAFC5OjygQSryWXvgFpdBPDw8Xr4gnEHhehQSPrOkQUU+66ouM5dBAACAat3Zq0EzMzN+JmOmQQAAgJbKlqNBZmZmx4N8s0E5jmM81ImmQWGKfKC9F61BkiRJOtx9rEE4vekJ8FSuQQ==\",\"dtype\":\"float64\",\"shape\":[26]},{\"__ndarray__\":\"L7roIlIUhUGrqqrsdm+dQbdt25JFkYZBO7ETvTrtkUFDFrJYk9WJQdYNpgjsi21BG8prsP7Fg0E371OsRB1+QauqqsbrhHVBfMVXrOpme0FaWlraCRp9QcjgfMSCDnxBOY7j7P8Ig0Elalf6N6iCQRPaS3i2YH9BjC66Bn8PhkF2C79yauyNQRO1K+GJr4NBAAAABHNXhUGQSfHCRLGFQduVqB3ckYpBZmZms+S+i0GCRCvEE6mLQeecc9wCeJJBJ3ZiIF0GlUGe2Il3ngCXQQ==\",\"dtype\":\"float64\",\"shape\":[26]},{\"__ndarray__\":\"q6qqJG0alUGMLrpwb7yRQQAAABuScopBT+zE3ulzlkHNzMy+87KIQVpaWoo+hHdBVVVVt2tKfUHNzMwMJ8VrQVVVVWSRoIhB7mmEVYQ5gEHEw8OD7uh9QYiHh38DOINBAACA5Opye0Gc3vTulVKBQcs9jYCMNXxB4uHhkccwfkElSZJqnz2BQZtssmEbLIlBAAAAJ8VteEGJiIjoAG5vQVVVVWNQOItBvoT2GjQHjUHJZ93wCwSAQWgvoR1KynFBYid2kjNbgkEzMzNNt4OXQQ==\",\"dtype\":\"float64\",\"shape\":[26]},{\"__ndarray__\":\"ntiJVcVygkGxEzsZ1feQQezETkgtUYtBzczMK38zmkGRz7rhKBqIQauqqoqnPX1BRGqCAbAXhkGvobx2IWdzQay5mis8WHdBRsrAU0oBdkG/WPKrde9uQVjpqQXRAnhBOY7jCNlvcUEhd/1cEq97QYGirear0XlBq6qqupfoc0HwxdXPgSJ5QSv7HCIAlX5By6BU+OUedUGOQNEmmfV5QZ2ClytkyndB1uImrHxWkEFr37AuHz5/QZUgTxmK24BB05ve2PLQiEG7wRS5/86AQQ==\",\"dtype\":\"float64\",\"shape\":[26]},{\"__ndarray__\":\"zczM5Nx6i0EAAACQl2CqQQAAAMQbO4lBVVVVZ6iEpkFVVVVguQGnQQAAANhZvHZBx3EcR4ctX0G3bdvGUNaPQURERDSbIHxBMzMztWUfgUEAAAAaidChQXsJ7W2KY4tBOY7j9lbIk0HTm94oAzWbQSmllJpETZdBS0tLkSockEFmZmYQlRSmQSz3NAb24ZNB27ZtuOx5oEFHWO6X/R6iQdu2bdQO5ZpBS0tLkQYno0FddNGTI1+mQd/0pg+olqFBpqWlf0gDqUFVVVWDJyawQQ==\",\"dtype\":\"float64\",\"shape\":[26]},{\"__ndarray__\":\"AAAA9i0ZlkGrqqp6OJWJQVVVVVVt9EtBVVVVjTbXiUFVVVWFruFvQauqqjpe8ndBMzMzW1LPh0GrqqrqtkxpQd7d3d1ywntBT+zE7mkka0GMLrqo+t9ZQQAAACX0DnxBVVVVmR2qdkElSZJ8PNqDQT0K13vaUYBBZmZm9isneUGF9hJaUaWFQdu2bTtSkWBB3t3d5XcockHtJbQHg4h6Qauqqv5hInVBED74wDMOeUH2KFwXSESKQTEMw3BZiX9BRhddtG8TbkGamZnpiQB/QQ==\",\"dtype\":\"float64\",\"shape\":[26]},{\"__ndarray__\":\"AAAA6AEFYEGSJElEuzykQemii44PnW5BVVVVG4G+pUEPDw/vAKNyQauqqvqJ8XtBep7nCZ2hmEGVUkrpVkKFQWIYhjmQ53ZB0iAN0solbkE7sRP9OyqCQQtZyKJyVHZBVVVVFe1feUHkOI4T9BZ9QURjfVg7EXtBQxay8Dmvd0FT5LN+g9F7QRvKa2Cs/Y9B4T6Cm9sdgUEofdI38WyFQQAAAADLooVB8y3fsuUUi0HhehQucxt3Qauqqsd6W4hBXXTRRTPZikHkOI4TlxmBQQ==\",\"dtype\":\"float64\",\"shape\":[26]},{\"__ndarray__\":\"6aKLyjuFlkFmZmZqZhOWQQAAAAGH5JBBjuM40mSlkEEAAACNzQSOQcdxHBOkkoRBUbsSAZYokkFxPQqXql19QZdv+eb/j31BAAAAVxLnfkEOqQkOuW+BQeRGbvSFCH1BvelNOzZbiEFt1HcOKueGQXZiJ2gnY4RBaoTlToy8iEFEaoKRLieFQagEeaIQBYpBhOWefhGld0EAAACUgnqEQcTDw9e7VYVBIyz3rPizkEGRmmAkwYGHQauqquJtUIhBWGMitSuvkEGF9hJaM4SDQQ==\",\"dtype\":\"float64\",\"shape\":[26]}]},\"selected\":null,\"selection_policy\":null},\"id\":\"d2801539-eba7-48c5-93f1-f4d89cf70cbc\",\"type\":\"ColumnDataSource\"},{\"attributes\":{\"callback\":null},\"id\":\"a768572d-d51c-4c75-a1e2-272d4811daec\",\"type\":\"DataRange1d\"},{\"attributes\":{\"overlay\":{\"id\":\"b0b0dbcb-2b06-4364-b082-9c70849f5e35\",\"type\":\"BoxAnnotation\"}},\"id\":\"16a0ed60-9599-41fa-8e71-db44168e78da\",\"type\":\"BoxZoomTool\"},{\"attributes\":{},\"id\":\"4149ac81-d664-42fe-98a6-40fc95508346\",\"type\":\"BasicTickFormatter\"},{\"attributes\":{\"axis_label\":\"year\",\"formatter\":{\"id\":\"4149ac81-d664-42fe-98a6-40fc95508346\",\"type\":\"BasicTickFormatter\"},\"plot\":{\"id\":\"ccd7fc62-3150-4a96-8450-9bb37121bdf5\",\"subtype\":\"Figure\",\"type\":\"Plot\"},\"ticker\":{\"id\":\"5e006caf-3f0d-41aa-9271-4ddb326828a4\",\"type\":\"BasicTicker\"}},\"id\":\"be682ed2-f353-42fb-b6c3-227bd0653155\",\"type\":\"LinearAxis\"},{\"attributes\":{\"plot\":{\"id\":\"ccd7fc62-3150-4a96-8450-9bb37121bdf5\",\"subtype\":\"Figure\",\"type\":\"Plot\"},\"ticker\":{\"id\":\"5e006caf-3f0d-41aa-9271-4ddb326828a4\",\"type\":\"BasicTicker\"}},\"id\":\"364bfda4-6662-48dd-a14b-48f67739c937\",\"type\":\"Grid\"},{\"attributes\":{\"line_color\":{\"field\":\"color\"},\"line_width\":{\"value\":3},\"xs\":{\"field\":\"xs\"},\"ys\":{\"field\":\"ys\"}},\"id\":\"ac2ec09e-562c-4c61-9c7a-5a052a3e1b92\",\"type\":\"MultiLine\"},{\"attributes\":{},\"id\":\"0c4ada18-9c20-4314-9dca-c5857564f2bd\",\"type\":\"PanTool\"},{\"attributes\":{\"dimension\":1,\"plot\":{\"id\":\"ccd7fc62-3150-4a96-8450-9bb37121bdf5\",\"subtype\":\"Figure\",\"type\":\"Plot\"},\"ticker\":{\"id\":\"3d815eab-0126-43d3-9f96-57a8e2bc8947\",\"type\":\"BasicTicker\"}},\"id\":\"f9bebe8b-6f69-4724-a32d-44e39742abe0\",\"type\":\"Grid\"},{\"attributes\":{\"bottom_units\":\"screen\",\"fill_alpha\":{\"value\":0.5},\"fill_color\":{\"value\":\"lightgrey\"},\"left_units\":\"screen\",\"level\":\"overlay\",\"line_alpha\":{\"value\":1.0},\"line_color\":{\"value\":\"black\"},\"line_dash\":[4,4],\"line_width\":{\"value\":2},\"plot\":null,\"render_mode\":\"css\",\"right_units\":\"screen\",\"top_units\":\"screen\"},\"id\":\"b0b0dbcb-2b06-4364-b082-9c70849f5e35\",\"type\":\"BoxAnnotation\"},{\"attributes\":{\"plot\":null,\"text\":\"Profit for each Genre across years\"},\"id\":\"972e90a4-84b0-4d14-96f7-04f67c8dafd5\",\"type\":\"Title\"},{\"attributes\":{\"label\":{\"field\":\"labels\"},\"renderers\":[{\"id\":\"489a8b3a-f4a1-4493-8b87-dc07c63acc8f\",\"type\":\"GlyphRenderer\"}]},\"id\":\"cb461ad1-67e6-4866-9c30-e3f0f2a3e75e\",\"type\":\"LegendItem\"},{\"attributes\":{},\"id\":\"64410252-2f6d-488c-a718-e0ef9e5b9fa0\",\"type\":\"SaveTool\"},{\"attributes\":{},\"id\":\"e1678907-5f81-4854-a205-7b245594e04b\",\"type\":\"WheelZoomTool\"},{\"attributes\":{},\"id\":\"3d815eab-0126-43d3-9f96-57a8e2bc8947\",\"type\":\"BasicTicker\"},{\"attributes\":{},\"id\":\"d48b8398-01f9-46a9-80a9-d42b27886929\",\"type\":\"LinearScale\"},{\"attributes\":{},\"id\":\"01ab4261-da4f-4b07-9eab-d68dcf945ccc\",\"type\":\"BasicTickFormatter\"},{\"attributes\":{\"callback\":null},\"id\":\"7c9cd8cd-15cf-454a-ad1e-53f57b179be7\",\"type\":\"DataRange1d\"},{\"attributes\":{\"data_source\":{\"id\":\"d2801539-eba7-48c5-93f1-f4d89cf70cbc\",\"type\":\"ColumnDataSource\"},\"glyph\":{\"id\":\"ac2ec09e-562c-4c61-9c7a-5a052a3e1b92\",\"type\":\"MultiLine\"},\"hover_glyph\":null,\"muted_glyph\":null,\"nonselection_glyph\":{\"id\":\"c8c413ed-eb9f-43bf-bbd2-637555c637c4\",\"type\":\"MultiLine\"},\"selection_glyph\":null,\"view\":{\"id\":\"e78bb717-5ba3-4139-a202-145facfd2b87\",\"type\":\"CDSView\"}},\"id\":\"489a8b3a-f4a1-4493-8b87-dc07c63acc8f\",\"type\":\"GlyphRenderer\"},{\"attributes\":{\"items\":[{\"id\":\"cb461ad1-67e6-4866-9c30-e3f0f2a3e75e\",\"type\":\"LegendItem\"}],\"location\":\"top_left\",\"plot\":{\"id\":\"ccd7fc62-3150-4a96-8450-9bb37121bdf5\",\"subtype\":\"Figure\",\"type\":\"Plot\"}},\"id\":\"9c423b5b-4a00-4d0b-bb9a-e64fbfd04f74\",\"type\":\"Legend\"},{\"attributes\":{},\"id\":\"50fd7fea-032b-45f2-ad6b-fa15960439d2\",\"type\":\"ResetTool\"}],\"root_ids\":[\"ccd7fc62-3150-4a96-8450-9bb37121bdf5\"]},\"title\":\"Bokeh Application\",\"version\":\"0.12.15\"}};\n",
       "  var render_items = [{\"docid\":\"690b805b-50bd-4b77-a2b0-4ee2d1c82151\",\"elementid\":\"2d742fd3-2814-4a8d-aef8-dd8df9c1a7e5\",\"modelid\":\"ccd7fc62-3150-4a96-8450-9bb37121bdf5\"}];\n",
       "  root.Bokeh.embed.embed_items_notebook(docs_json, render_items);\n",
       "\n",
       "  }\n",
       "  if (root.Bokeh !== undefined) {\n",
       "    embed_document(root);\n",
       "  } else {\n",
       "    var attempts = 0;\n",
       "    var timer = setInterval(function(root) {\n",
       "      if (root.Bokeh !== undefined) {\n",
       "        embed_document(root);\n",
       "        clearInterval(timer);\n",
       "      }\n",
       "      attempts++;\n",
       "      if (attempts > 100) {\n",
       "        console.log(\"Bokeh: ERROR: Unable to run BokehJS code because BokehJS library is missing\")\n",
       "        clearInterval(timer);\n",
       "      }\n",
       "    }, 10, root)\n",
       "  }\n",
       "})(window);"
      ],
      "application/vnd.bokehjs_exec.v0+json": ""
     },
     "metadata": {
      "application/vnd.bokehjs_exec.v0+json": {
       "id": "ccd7fc62-3150-4a96-8450-9bb37121bdf5"
      }
     },
     "output_type": "display_data"
    }
   ],
   "source": [
    "dict_group_data = {\"xs\":[grouped_data.loc[(grouped_data[\"genres\"]==name),\"year\"].values \\\n",
    "                         for name in grouped_data['genres'].unique()],\n",
    "                  \"ys\": [grouped_data.loc[(grouped_data[\"genres\"]==name),\"profit\"].values\\\n",
    "                         for name in grouped_data['genres'].unique()],\n",
    "                  \"labels\": grouped_data[\"genres\"].unique(),\n",
    "                  \"color\": bokeh.palettes.Category10[9]}\n",
    "\n",
    "source = ColumnDataSource(dict_group_data)\n",
    "\n",
    "TOOLS = \"hover,save,pan,box_zoom,reset,wheel_zoom\"\n",
    "\n",
    "p = figure(x_axis_label = 'year', \n",
    "           y_axis_label = 'profit', \n",
    "           width = 1000,\n",
    "           title = \"Profit for each Genre across years\",\n",
    "           tools=TOOLS) \n",
    "\n",
    "p.multi_line(xs= \"xs\", ys= \"ys\", line_color= \"color\", source = source, legend = \"labels\",line_width=3)\n",
    "p.legend.location = \"top_left\"\n",
    "\n",
    "show(p)"
   ]
  },
  {
   "cell_type": "code",
   "execution_count": null,
   "metadata": {
    "collapsed": true
   },
   "outputs": [],
   "source": []
  },
  {
   "cell_type": "code",
   "execution_count": null,
   "metadata": {
    "collapsed": true
   },
   "outputs": [],
   "source": []
  },
  {
   "cell_type": "code",
   "execution_count": null,
   "metadata": {
    "collapsed": true
   },
   "outputs": [],
   "source": []
  },
  {
   "cell_type": "code",
   "execution_count": null,
   "metadata": {
    "collapsed": true
   },
   "outputs": [],
   "source": []
  },
  {
   "cell_type": "code",
   "execution_count": null,
   "metadata": {
    "collapsed": true
   },
   "outputs": [],
   "source": []
  },
  {
   "cell_type": "code",
   "execution_count": null,
   "metadata": {
    "collapsed": true
   },
   "outputs": [],
   "source": []
  },
  {
   "cell_type": "code",
   "execution_count": null,
   "metadata": {
    "collapsed": true
   },
   "outputs": [],
   "source": []
  },
  {
   "cell_type": "code",
   "execution_count": null,
   "metadata": {
    "collapsed": true
   },
   "outputs": [],
   "source": []
  },
  {
   "cell_type": "code",
   "execution_count": null,
   "metadata": {
    "collapsed": true
   },
   "outputs": [],
   "source": []
  },
  {
   "cell_type": "code",
   "execution_count": null,
   "metadata": {
    "collapsed": true
   },
   "outputs": [],
   "source": []
  },
  {
   "cell_type": "code",
   "execution_count": null,
   "metadata": {
    "collapsed": true
   },
   "outputs": [],
   "source": []
  },
  {
   "cell_type": "code",
   "execution_count": null,
   "metadata": {
    "collapsed": true
   },
   "outputs": [],
   "source": []
  },
  {
   "cell_type": "code",
   "execution_count": null,
   "metadata": {
    "collapsed": true
   },
   "outputs": [],
   "source": []
  }
 ],
 "metadata": {
  "hide_input": false,
  "kernelspec": {
   "display_name": "Python 3",
   "language": "python",
   "name": "python3"
  },
  "language_info": {
   "codemirror_mode": {
    "name": "ipython",
    "version": 3
   },
   "file_extension": ".py",
   "mimetype": "text/x-python",
   "name": "python",
   "nbconvert_exporter": "python",
   "pygments_lexer": "ipython3",
   "version": "3.6.3"
  }
 },
 "nbformat": 4,
 "nbformat_minor": 2
}
